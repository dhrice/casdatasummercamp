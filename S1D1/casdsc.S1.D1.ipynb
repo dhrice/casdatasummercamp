{
 "cells": [
  {
   "cell_type": "markdown",
   "id": "751a6395-1efc-405f-b124-58b34084e9bc",
   "metadata": {},
   "source": [
    "# Communication Arts and Sciences' Data Summer Camp Session One"
   ]
  },
  {
   "cell_type": "markdown",
   "id": "e66581bc-ba1f-479e-b62e-b99ed67ebf43",
   "metadata": {},
   "source": [
    "## Camp Structure\n",
    "Each day we will have a set list of things we are going to work through. It is hard to predict just how long each thing will take, a lot depending on questions and how many technical issues we run into. If we get done early each session, great! If we go the whole time, that is also great!\n",
    "\n",
    "Camp is completely optional and come and go as you please. If some content is not as useful for you, of course you do not need to attend that session. However, much of what we do builds off of concepts and code from before. For example, if you miss the session on R basics and come for machine learning, you could easily have a hard time keeping up. You know best what you want to learn and what is most useful for you.\n",
    "\n",
    "Camp is held over two session. Session One (this one) is three days on Python. This will include how to use Python through Jupyter Lab, basic coding skills, data managment and analysis, visualizations, webscraping, and API usage. Session Two covers similar topics in R."
   ]
  },
  {
   "cell_type": "markdown",
   "id": "a702ac6f-cda1-4f08-ae12-7d3992cbe44a",
   "metadata": {},
   "source": [
    "## Day One\n",
    "Today, we are going to explore Jupyter a bit and work through some basic commands. Once we have a sense of how to input code and what it does, we will move on to working with datasets through analysis and visualization.\n",
    "\n",
    "This is a Jupyter notebook. At its basic level, a Jupyter notebook is just a set of commands. It is organized into code \"cells\" that you can run individually. Each code cell contains a set of commands you want to execute."
   ]
  },
  {
   "cell_type": "markdown",
   "id": "11bae4d1-0e6c-4b0a-b31b-24e11e0b9973",
   "metadata": {},
   "source": [
    "#### Code Cells\n",
    "\n",
    "There are three types of cells in Jupyter: Markdown, Raw, and code.\n",
    "\n",
    "This is a Markdown cell. Markdown is similar to HTML code in that you can format the text in a variety of different ways. We will not do much in Markdown in this camp, but it is good to understand why this cell does not run any code when you try to. A large percentage of our notebooks are written in Markdown."
   ]
  },
  {
   "cell_type": "raw",
   "id": "d0592bc3-2e36-4c8b-aa21-3bc35581a162",
   "metadata": {},
   "source": [
    "This is a raw cell. It doesn't do anything that we need to worry about (it can be used for HTML or Latex code), but like markdown is could be used for adding text to your script."
   ]
  },
  {
   "cell_type": "code",
   "execution_count": null,
   "id": "f2bcf59a-6852-421b-a29d-80bbfe04bbd5",
   "metadata": {},
   "outputs": [],
   "source": [
    "# This is a code cell. This is where we actually run Python commands. Note how each three cells look different. \n",
    "# To write text in code cell, you need to start with a \"#\". This is also called commenting."
   ]
  },
  {
   "cell_type": "markdown",
   "id": "5340ea2d-9bb2-4392-ac81-109dedf835c6",
   "metadata": {
    "jp-MarkdownHeadingCollapsed": true,
    "tags": []
   },
   "source": [
    "#### Some Anaconda Shortcuts:\n",
    "\n",
    "You can quickly add a new code cell by clicking the [] to the left and pressing the \"b\" key. You cannot have a code cell currently selected for this to work. Similarly, you can delete a code block by pressing \"d,d\" in the same way you add a code cell.\n",
    "\n",
    "You can run lines of code using shift+enter which will move to the next line or ctrl+enter, which stays on the line.\n",
    "\n",
    "I recommend turning on line numbers under \"View\""
   ]
  },
  {
   "cell_type": "markdown",
   "id": "30357e2c-3a8f-4c42-901b-af3a9f0e47c3",
   "metadata": {},
   "source": [
    "## Basic Python\n",
    "\n",
    "There are a few different kinds of objects that we can create and use in Python. Similar to other languages, like R, the kind of object dictates its behavior.\n",
    "\n",
    "- Integers are exactly what they sound like, numbers without decimal points. They are abbreviated Int.\n",
    "- Floats are integers with decimal points. If you have a float and make it an integer, the decimal disappears.\n",
    "- Strings are text. They can include numbers, decimals, symbols, whatever. But they cannot be manipulated like numbers.\n",
    "- Booleans are True or False. They are useful for using if statements and functions.\n",
    "- Lists, sets, and dictionaries are others which we will cover later."
   ]
  },
  {
   "cell_type": "markdown",
   "id": "792de544-6d8e-46c9-9e75-dc3cabcaa69e",
   "metadata": {},
   "source": [
    "### Simple Math"
   ]
  },
  {
   "cell_type": "code",
   "execution_count": null,
   "id": "9a9a89af-6908-4339-964c-a41c5ef70a07",
   "metadata": {},
   "outputs": [],
   "source": [
    "5 + 6"
   ]
  },
  {
   "cell_type": "code",
   "execution_count": null,
   "id": "b0d9730f-1ccb-4a59-9230-a3aabae5dc97",
   "metadata": {},
   "outputs": [],
   "source": [
    "4 - 3"
   ]
  },
  {
   "cell_type": "code",
   "execution_count": null,
   "id": "7dada0e3-5dfd-493f-b852-1de8ff10158c",
   "metadata": {},
   "outputs": [],
   "source": [
    "18 * 45"
   ]
  },
  {
   "cell_type": "code",
   "execution_count": null,
   "id": "f181397a-988e-4fdf-bb94-a6205415f64c",
   "metadata": {},
   "outputs": [],
   "source": [
    "6 / 5"
   ]
  },
  {
   "cell_type": "code",
   "execution_count": null,
   "id": "a532a25d-e419-4a69-ae45-23d097f454cb",
   "metadata": {},
   "outputs": [],
   "source": [
    "2**6"
   ]
  },
  {
   "cell_type": "code",
   "execution_count": null,
   "id": "99103a3b-462f-4af0-8610-89163c5fb627",
   "metadata": {},
   "outputs": [],
   "source": [
    "6 / 5 * 5"
   ]
  },
  {
   "cell_type": "code",
   "execution_count": null,
   "id": "2085eb6e-e85c-4da5-a5d7-497bbaa91eb6",
   "metadata": {},
   "outputs": [],
   "source": [
    "6 - 5 / 5"
   ]
  },
  {
   "cell_type": "code",
   "execution_count": null,
   "id": "578d6e47-4866-4080-8189-3466147d1824",
   "metadata": {},
   "outputs": [],
   "source": [
    "(6 - 5) / 5"
   ]
  },
  {
   "cell_type": "markdown",
   "id": "3ca14aaf-4ca3-40e1-85c2-8af710991fe5",
   "metadata": {},
   "source": [
    "You can save values as objects. \n",
    "\n",
    "Objects must be one word (or words combined together with no spaces). A variable name can only contain alpha-numeric characters and underscores (A-z, 0-9, and _ ).\n",
    "\n",
    "They cannot start with numbers or symbols."
   ]
  },
  {
   "cell_type": "code",
   "execution_count": null,
   "id": "2c6637b9-3317-4255-b40c-225f87069948",
   "metadata": {},
   "outputs": [],
   "source": [
    "x = 5\n",
    "xN = 5\n",
    "X_N = 5\n",
    "x9 = 5"
   ]
  },
  {
   "cell_type": "markdown",
   "id": "39f47ff3-595a-4618-a108-fe2041c07ef1",
   "metadata": {},
   "source": [
    "When you save an object, by default Python will not show you any output. You must \"call\" the object by typing its name to see what its value is."
   ]
  },
  {
   "cell_type": "code",
   "execution_count": null,
   "id": "12ba6528-9e78-4094-a67c-71a202210ca7",
   "metadata": {},
   "outputs": [],
   "source": [
    "x"
   ]
  },
  {
   "cell_type": "markdown",
   "id": "b0702e95-dbd1-40fc-9a34-ca088bc09b18",
   "metadata": {},
   "source": [
    "It is important to have system for naming objects as Python will override the value of an object without prompting you."
   ]
  },
  {
   "cell_type": "code",
   "execution_count": null,
   "id": "2fdfc467-b4b0-4ae3-be29-4b288fc3e1f5",
   "metadata": {},
   "outputs": [],
   "source": [
    "x = 5\n",
    "x"
   ]
  },
  {
   "cell_type": "code",
   "execution_count": null,
   "id": "9302cb75-ee2f-4c64-92ef-aa8d48ec846e",
   "metadata": {},
   "outputs": [],
   "source": [
    "x = 4\n",
    "x"
   ]
  },
  {
   "cell_type": "markdown",
   "id": "d089f532-9367-44ee-ab55-47ac953a4d05",
   "metadata": {},
   "source": [
    "What we have been working with are integers, or whole numbers. A number with a decimal is called a float. The distinction is important as we will see later."
   ]
  },
  {
   "cell_type": "code",
   "execution_count": null,
   "id": "8d192e7c-fab8-4507-bc2a-4eb0662394a1",
   "metadata": {},
   "outputs": [],
   "source": [
    "y = 5.0"
   ]
  },
  {
   "cell_type": "code",
   "execution_count": null,
   "id": "b68e9302-b54a-4eaa-b3e6-9b4e725b4d05",
   "metadata": {
    "tags": []
   },
   "outputs": [],
   "source": [
    "y"
   ]
  },
  {
   "cell_type": "markdown",
   "id": "4e3507b2-c0cd-4ceb-b30e-8e9887af7c39",
   "metadata": {},
   "source": [
    "We can use the function type() to check what an object is. Functions like type() have parenthesis where you put the object or thing you want the function run on inside them."
   ]
  },
  {
   "cell_type": "code",
   "execution_count": null,
   "id": "5c973461-2209-45c5-a479-ab5f08a07b37",
   "metadata": {},
   "outputs": [],
   "source": [
    "y = 5.0\n",
    "type(y)"
   ]
  },
  {
   "cell_type": "code",
   "execution_count": null,
   "id": "f1e8f8c9-042b-448e-895f-f1dde0ee8d4c",
   "metadata": {},
   "outputs": [],
   "source": [
    "x = 5\n",
    "type(x)"
   ]
  },
  {
   "cell_type": "markdown",
   "id": "8d10baf5-3fb1-475d-939c-481994f81450",
   "metadata": {},
   "source": [
    "You can also do things with objects. When we save the object y as equal to 5, we can then do things to y as if it is the number 5."
   ]
  },
  {
   "cell_type": "code",
   "execution_count": null,
   "id": "ba97c4d0-c341-46fc-8180-3f1de9d28c8b",
   "metadata": {},
   "outputs": [],
   "source": [
    "y = 5\n",
    "y + 4"
   ]
  },
  {
   "cell_type": "code",
   "execution_count": null,
   "id": "1630fde0-98c3-4624-a3a7-e921bd1e351e",
   "metadata": {},
   "outputs": [],
   "source": [
    "x = 5\n",
    "y = 6\n",
    "x * y"
   ]
  },
  {
   "cell_type": "code",
   "execution_count": null,
   "id": "866f9238-5dfc-45fd-8a4a-9299091e6f1c",
   "metadata": {},
   "outputs": [],
   "source": [
    "z = y * y\n",
    "z"
   ]
  },
  {
   "cell_type": "markdown",
   "id": "629d6298-5fef-4b95-a3a9-4c6841b6ecfa",
   "metadata": {},
   "source": [
    "#### Practice"
   ]
  },
  {
   "cell_type": "markdown",
   "id": "994f393b-8425-4996-8c4a-2cb1d26bfe78",
   "metadata": {},
   "source": [
    "Add 5 and 6 together. It can be saved as an object or not."
   ]
  },
  {
   "cell_type": "code",
   "execution_count": null,
   "id": "411e1a87-bdaf-4027-854d-6f92f31edc50",
   "metadata": {},
   "outputs": [],
   "source": []
  },
  {
   "cell_type": "markdown",
   "id": "74cdeba2-8784-4af5-b114-44fe0522d422",
   "metadata": {},
   "source": [
    "Create an object called y that is equal to 14 minus 8"
   ]
  },
  {
   "cell_type": "code",
   "execution_count": null,
   "id": "b4d6c966-201e-4f48-8bd3-fa42570ae818",
   "metadata": {},
   "outputs": [],
   "source": []
  },
  {
   "cell_type": "markdown",
   "id": "8b25bfa4-3ec6-4436-b2b0-688259a46432",
   "metadata": {},
   "source": [
    "Create an object that is the result of 54 divided by 13"
   ]
  },
  {
   "cell_type": "code",
   "execution_count": null,
   "id": "348c7181-db24-4ad1-954d-b5457475c38a",
   "metadata": {},
   "outputs": [],
   "source": []
  },
  {
   "cell_type": "markdown",
   "id": "27fe15aa-2f75-4b23-8f80-8209b52f9636",
   "metadata": {},
   "source": [
    "Create an object using a combination of letters, numbers, and an underscore. Set that object equal to your age."
   ]
  },
  {
   "cell_type": "code",
   "execution_count": null,
   "id": "1d1b629d-75ab-4809-98c2-638d3d577d40",
   "metadata": {},
   "outputs": [],
   "source": []
  },
  {
   "cell_type": "markdown",
   "id": "8b8c47bb-8f4d-49bc-b2af-5e9df1e98232",
   "metadata": {},
   "source": [
    "### Strings"
   ]
  },
  {
   "cell_type": "markdown",
   "id": "7ee009c8-f9e1-4ec1-ad52-c66657f5c96f",
   "metadata": {},
   "source": [
    "Strings are just text. To indicate string versus an object or number, you need to use quotations. You can use single or double quotes ('' or \"\") but they must match. You cannot do ' \", for instance. Pick an approach and try to stick with it if you can. The best practice is double quotes."
   ]
  },
  {
   "cell_type": "code",
   "execution_count": null,
   "id": "bc542578-918f-4a2d-9ceb-2bd3785b4e91",
   "metadata": {},
   "outputs": [],
   "source": [
    "\"This is text\""
   ]
  },
  {
   "cell_type": "code",
   "execution_count": null,
   "id": "ba37fe4d-306a-4e14-ab83-8a8bcd7d9a24",
   "metadata": {},
   "outputs": [],
   "source": [
    "z = \"Go Green!\""
   ]
  },
  {
   "cell_type": "code",
   "execution_count": null,
   "id": "debb557d-c325-4b6c-8340-9f8ff0a0157c",
   "metadata": {},
   "outputs": [],
   "source": [
    "z"
   ]
  },
  {
   "cell_type": "code",
   "execution_count": null,
   "id": "c0c9fa25-a3ad-4a53-8555-2ccb60453ff4",
   "metadata": {},
   "outputs": [],
   "source": [
    "type(z)"
   ]
  },
  {
   "cell_type": "markdown",
   "id": "90f3424b-039a-4389-97a7-602a4bf38076",
   "metadata": {},
   "source": [
    "When you use quotes, anything inside of them is text, even numbers."
   ]
  },
  {
   "cell_type": "code",
   "execution_count": null,
   "id": "69144f2f-fa44-4c52-a853-8d0222ca3610",
   "metadata": {},
   "outputs": [],
   "source": [
    "\"5\""
   ]
  },
  {
   "cell_type": "code",
   "execution_count": null,
   "id": "b1e2f6d5-5d8b-4409-9929-9d9c9b2ae34f",
   "metadata": {},
   "outputs": [],
   "source": [
    "\"5\" / 5"
   ]
  },
  {
   "cell_type": "markdown",
   "id": "5b8ac6ba-efd8-42ed-b987-d5f992245ac9",
   "metadata": {},
   "source": [
    "We can use print() to display objects more like you would see in text files. Compare print(firstName) and firstName"
   ]
  },
  {
   "cell_type": "code",
   "execution_count": null,
   "id": "686e4382-8f0a-469f-b0a7-e7d5d6761aac",
   "metadata": {},
   "outputs": [],
   "source": [
    "firstName = \"Dan\"\n",
    "lastName = \"Rice\"\n",
    "\n",
    "firstName"
   ]
  },
  {
   "cell_type": "code",
   "execution_count": null,
   "id": "58530d13-248f-4ac9-a1f6-75b2d855f997",
   "metadata": {},
   "outputs": [],
   "source": [
    "print(firstName)"
   ]
  },
  {
   "cell_type": "markdown",
   "id": "1b578700-4329-4446-bca3-b69d2a38f9ae",
   "metadata": {},
   "source": [
    "We can use the + sign to concatenate strings together."
   ]
  },
  {
   "cell_type": "code",
   "execution_count": null,
   "id": "28ee3b42-5131-4d9f-8100-f59accf48a22",
   "metadata": {},
   "outputs": [],
   "source": [
    "print(firstName + lastName)"
   ]
  },
  {
   "cell_type": "markdown",
   "id": "11dc68d7-3b9d-46d4-8da9-d1656c1f3ec9",
   "metadata": {},
   "source": [
    "Now we can add a space."
   ]
  },
  {
   "cell_type": "code",
   "execution_count": null,
   "id": "d3110c2f-f6fd-45a0-8512-735d14d7d9ad",
   "metadata": {},
   "outputs": [],
   "source": [
    "firstName = \"Dan\"\n",
    "lastName = \"Rice\"\n",
    "\n",
    "print(firstName + \" \" + lastName)"
   ]
  },
  {
   "cell_type": "markdown",
   "id": "44fb271b-1a14-439f-9492-dd4f6b6405b1",
   "metadata": {},
   "source": [
    "Print only works on strings. If you have a number and want to print it with a string, you need to tell Python to treat it like a string by putting the number inside of the str() command."
   ]
  },
  {
   "cell_type": "code",
   "execution_count": null,
   "id": "811e19dd-7481-4200-b3d4-80422ee406de",
   "metadata": {},
   "outputs": [],
   "source": [
    "name = \"Dan\"\n",
    "age = 5\n",
    "\n",
    "print(name + age)"
   ]
  },
  {
   "cell_type": "code",
   "execution_count": null,
   "id": "11439b0b-1f59-480c-af9d-c2bde87005e4",
   "metadata": {},
   "outputs": [],
   "source": [
    "print(name + str(age))"
   ]
  },
  {
   "cell_type": "markdown",
   "id": "71278240-85c8-40e3-9f2b-b9a6a78d6740",
   "metadata": {},
   "source": [
    "#### Practice"
   ]
  },
  {
   "cell_type": "markdown",
   "id": "b50d0f88-bf79-455e-9f4d-c0cde8ffc043",
   "metadata": {},
   "source": [
    "Create a string that is the name of your department at MSU."
   ]
  },
  {
   "cell_type": "code",
   "execution_count": null,
   "id": "840df402-e75e-40cf-8128-ab3bb9e3053d",
   "metadata": {},
   "outputs": [],
   "source": []
  },
  {
   "cell_type": "markdown",
   "id": "34564db4-f4e7-4687-aa31-2787bf6af742",
   "metadata": {},
   "source": [
    "Print a string that says \"This is a string\""
   ]
  },
  {
   "cell_type": "code",
   "execution_count": null,
   "id": "ace8f7ab-83fa-4791-b5bd-c77e13c2500f",
   "metadata": {},
   "outputs": [],
   "source": []
  },
  {
   "cell_type": "markdown",
   "id": "d06cb78d-f815-45b8-917e-e6a98276e65a",
   "metadata": {},
   "source": [
    "Save your first and last names as different objects. Then use print to display them. Include a space."
   ]
  },
  {
   "cell_type": "code",
   "execution_count": null,
   "id": "05e59c00-ceca-414c-a4b0-6ee444434f80",
   "metadata": {},
   "outputs": [],
   "source": []
  },
  {
   "cell_type": "markdown",
   "id": "8c183d0f-8f01-49ae-be04-a9d8f208eddd",
   "metadata": {},
   "source": [
    "Create three different objects called apples, bananas, and pears. Set them equal to 5, 4, and 7 respectively. Create another object that is equal to the sum of apples, bananas, and pears."
   ]
  },
  {
   "cell_type": "code",
   "execution_count": null,
   "id": "30721130-3727-4412-99ef-0b8945711289",
   "metadata": {},
   "outputs": [],
   "source": []
  },
  {
   "cell_type": "markdown",
   "id": "a4eaaebf-1f64-4c27-ad70-e71335d89b2e",
   "metadata": {},
   "source": [
    "Fix the following code chunks so that they will work by writing the correct code below each line:"
   ]
  },
  {
   "cell_type": "code",
   "execution_count": null,
   "id": "497763f1-9d73-4737-abd7-b70369f3753e",
   "metadata": {},
   "outputs": [],
   "source": [
    "my string = \"A practice string\""
   ]
  },
  {
   "cell_type": "code",
   "execution_count": null,
   "id": "0b9f5e08-8e6e-4c36-a287-cafc87a1e1db",
   "metadata": {},
   "outputs": [],
   "source": []
  },
  {
   "cell_type": "code",
   "execution_count": null,
   "id": "cca64de7-66a9-4845-beb7-abfd62b16def",
   "metadata": {},
   "outputs": [],
   "source": [
    "msu_words = \"Go Green!'"
   ]
  },
  {
   "cell_type": "code",
   "execution_count": null,
   "id": "423d77f4-c0e4-4902-9f5d-6780984c9f31",
   "metadata": {},
   "outputs": [],
   "source": []
  },
  {
   "cell_type": "code",
   "execution_count": null,
   "id": "a0ee1c26-6745-4120-aead-29a1699fc2f5",
   "metadata": {},
   "outputs": [],
   "source": [
    "517zipcode = 48824"
   ]
  },
  {
   "cell_type": "code",
   "execution_count": null,
   "id": "4b63c7ef-73ea-4666-910c-29e35b45cc29",
   "metadata": {
    "tags": []
   },
   "outputs": [],
   "source": []
  },
  {
   "cell_type": "markdown",
   "id": "381cfd21-cfb8-41fc-b4da-fe4dab73332f",
   "metadata": {},
   "source": [
    "## Lists, sets, tuples, and dictionaries"
   ]
  },
  {
   "cell_type": "markdown",
   "id": "e83d621f-bc63-4966-8825-5eff891f37f2",
   "metadata": {},
   "source": [
    "These are essentially containers for things, like numbers, text, or other containers.\n",
    "\n",
    "Lists can be anything you want. Dictionaries are pairings of key and value, like word and definition in an actual dictionary. Tuples cannot be changed once you set them. Sets are like lists but only allow for unique objects (e.g. you can't have the same name in them twice). We aren't going to spend much time on tuples or sets."
   ]
  },
  {
   "cell_type": "markdown",
   "id": "11041085-646d-43ef-a66e-73631fcb4185",
   "metadata": {},
   "source": [
    "### Lists"
   ]
  },
  {
   "cell_type": "code",
   "execution_count": null,
   "id": "446f52eb-0673-4a34-ba48-615d95b26fa9",
   "metadata": {},
   "outputs": [],
   "source": [
    "myList = [1,2,3,4,5,6,7,8,9]"
   ]
  },
  {
   "cell_type": "code",
   "execution_count": null,
   "id": "5cc5f0c1-410c-44c0-a2dc-5914b4d79780",
   "metadata": {},
   "outputs": [],
   "source": [
    "myList"
   ]
  },
  {
   "cell_type": "code",
   "execution_count": null,
   "id": "cc735874-ff79-49e5-8b8a-5fc73803eb40",
   "metadata": {},
   "outputs": [],
   "source": [
    "my_list = [\"first item\",\"second item\",\"third item\"]"
   ]
  },
  {
   "cell_type": "code",
   "execution_count": null,
   "id": "9fd5a72f-876b-4246-b758-8ed238331afe",
   "metadata": {},
   "outputs": [],
   "source": [
    "my_list"
   ]
  },
  {
   "cell_type": "markdown",
   "id": "0376b167-03f7-4767-bd37-f0bcab60bdd6",
   "metadata": {},
   "source": [
    "We can use len() to see how many items are in our list."
   ]
  },
  {
   "cell_type": "code",
   "execution_count": null,
   "id": "d5aab392-a4b9-4535-86b5-6792df892ec2",
   "metadata": {},
   "outputs": [],
   "source": [
    "len(my_list)"
   ]
  },
  {
   "cell_type": "markdown",
   "id": "8cb4f3ac-2088-4dae-8954-6643beee1837",
   "metadata": {},
   "source": [
    "Lists are \"indexed\", which means that each item in the list has a numbered position. In our example we have 3 items so there are three positions. Index numbers start at 0, not 1. So the first item is index 0."
   ]
  },
  {
   "cell_type": "code",
   "execution_count": null,
   "id": "215b321e-12cc-415c-85db-01926f3e3da8",
   "metadata": {},
   "outputs": [],
   "source": [
    "my_list[0]"
   ]
  },
  {
   "cell_type": "code",
   "execution_count": null,
   "id": "b0742dd1-8fa7-46b7-9055-402c8fac50fe",
   "metadata": {},
   "outputs": [],
   "source": [
    "my_list[1]"
   ]
  },
  {
   "cell_type": "markdown",
   "id": "c8f4f11c-70a6-4e99-a6ff-cb2dc01cfbe2",
   "metadata": {},
   "source": [
    "We can add items to our list using the append function. This is going to look different to the type() function because we are executing the append function on the object list and adding something to it."
   ]
  },
  {
   "cell_type": "code",
   "execution_count": null,
   "id": "3e7e4785-60b2-421e-8270-2b8720a0d4dd",
   "metadata": {},
   "outputs": [],
   "source": [
    "my_list"
   ]
  },
  {
   "cell_type": "code",
   "execution_count": null,
   "id": "d6b31c67-8c24-4725-b587-da3fdd94ebd9",
   "metadata": {},
   "outputs": [],
   "source": [
    "my_list.append(\"fourth item\")\n",
    "my_list"
   ]
  },
  {
   "cell_type": "code",
   "execution_count": null,
   "id": "3ab3a5f6-b661-483c-ba97-306484b92d2c",
   "metadata": {},
   "outputs": [],
   "source": [
    "my_list[1] = \"new second item\"\n",
    "print(my_list[1])"
   ]
  },
  {
   "cell_type": "code",
   "execution_count": null,
   "id": "1cef76ed-e3ff-4a7d-95a9-637346706302",
   "metadata": {},
   "outputs": [],
   "source": [
    "print(my_list)"
   ]
  },
  {
   "cell_type": "markdown",
   "id": "f61b1d68-b2dd-4d0a-a02b-fa28fd406091",
   "metadata": {},
   "source": [
    "Running the cell above will keep adding items"
   ]
  },
  {
   "cell_type": "markdown",
   "id": "27396441-a6c9-456a-8c26-6be63a821437",
   "metadata": {},
   "source": [
    "We can also remove items by using remove() and the name of the item."
   ]
  },
  {
   "cell_type": "code",
   "execution_count": null,
   "id": "01fa8fd0-cb88-4b34-a91f-dd164b77267d",
   "metadata": {},
   "outputs": [],
   "source": [
    "my_list.remove('first item')\n",
    "my_list"
   ]
  },
  {
   "cell_type": "code",
   "execution_count": null,
   "id": "fb4d6645-69a9-400e-963f-52bc81cd4372",
   "metadata": {},
   "outputs": [],
   "source": [
    "print(my_list)\n",
    "len(my_list)"
   ]
  },
  {
   "cell_type": "markdown",
   "id": "61e00e7e-1cfe-41b9-9e6a-ab5b56912253",
   "metadata": {},
   "source": [
    "Lists can also be sorted alphabetically (sequentially) in descending order or ascending."
   ]
  },
  {
   "cell_type": "code",
   "execution_count": null,
   "id": "f4a19c4d-3cfb-439a-9572-3cadd7e09588",
   "metadata": {},
   "outputs": [],
   "source": [
    "my_list.sort()\n",
    "print(my_list)"
   ]
  },
  {
   "cell_type": "code",
   "execution_count": null,
   "id": "89e40c1e-2b99-4d16-a1f2-de4919181897",
   "metadata": {},
   "outputs": [],
   "source": [
    "my_list.reverse()\n",
    "print(my_list)"
   ]
  },
  {
   "cell_type": "markdown",
   "id": "59fd1da7-1521-486b-9dd8-47e0cd68ab1f",
   "metadata": {},
   "source": [
    "Just like with strings, we can concatenate lists by using the + sign and the names of the lists. This creates a new list equal to all of the objects in both lists."
   ]
  },
  {
   "cell_type": "code",
   "execution_count": null,
   "id": "932452d3-adfd-446b-b3aa-af9b9bf19e82",
   "metadata": {},
   "outputs": [],
   "source": [
    "my_list_a = [\"A\",\"B\",\"C\"]\n",
    "my_list_b = [1,2,3]\n",
    "my_list_a + my_list_b"
   ]
  },
  {
   "cell_type": "markdown",
   "id": "8a34007e-c3b7-475e-9ec6-52c7e24213fc",
   "metadata": {},
   "source": [
    "#### Practice"
   ]
  },
  {
   "cell_type": "markdown",
   "id": "c8ac4565-ceae-4314-80ab-66df5939c179",
   "metadata": {},
   "source": [
    "Make a list with at least 4 objects in it. They can be whatever you want."
   ]
  },
  {
   "cell_type": "code",
   "execution_count": null,
   "id": "a54ee9da-c32b-4c1c-98b3-0a30bd85ada2",
   "metadata": {},
   "outputs": [],
   "source": []
  },
  {
   "cell_type": "markdown",
   "id": "506ffd1b-41bb-4f25-b692-15e985da0cb8",
   "metadata": {},
   "source": [
    "Find the length of your list."
   ]
  },
  {
   "cell_type": "code",
   "execution_count": null,
   "id": "c5043d8e-dc9f-429c-8538-506849234519",
   "metadata": {},
   "outputs": [],
   "source": []
  },
  {
   "cell_type": "markdown",
   "id": "2dc6ed4e-c4cd-47a1-b43d-a9642235f533",
   "metadata": {},
   "source": [
    "Create a second list and combine it with your first. Get the new length."
   ]
  },
  {
   "cell_type": "code",
   "execution_count": null,
   "id": "8ebe7319-528c-4124-a096-f39369020a27",
   "metadata": {},
   "outputs": [],
   "source": []
  },
  {
   "cell_type": "markdown",
   "id": "9d2e21d3-a39c-4e33-adf4-ec5eb9ec792a",
   "metadata": {},
   "source": [
    "Add an item to the second list you created above."
   ]
  },
  {
   "cell_type": "code",
   "execution_count": null,
   "id": "cbb6e354-92c1-48b7-8450-c3ff363ff965",
   "metadata": {},
   "outputs": [],
   "source": []
  },
  {
   "cell_type": "markdown",
   "id": "1c8b7fea-7aea-41a4-a9a4-3d598d70d4b4",
   "metadata": {},
   "source": [
    "### Dictionaries"
   ]
  },
  {
   "cell_type": "markdown",
   "id": "410bebcf-4e16-4bda-91b4-51a2a7cd314a",
   "metadata": {},
   "source": [
    "Dictionaries are like lists, but each item in the dictionary has a key and a value associated with it. You can think of these like an actual dictionary where each entry has a word (the key) and a definition (the value). Keys and values can be strings or numbers. Generally your keys will be strings and your values will be numbers, but they don't have to be (and we will use both approaches here)."
   ]
  },
  {
   "cell_type": "code",
   "execution_count": null,
   "id": "224e9b56-ca69-4e5b-9860-9a24e4804b57",
   "metadata": {},
   "outputs": [],
   "source": [
    "myDict = {'key1':'value1', 'key2':'value2'}"
   ]
  },
  {
   "cell_type": "code",
   "execution_count": null,
   "id": "2ac87674-a7dd-42d9-9cb7-b8a827f86ecf",
   "metadata": {},
   "outputs": [],
   "source": [
    "myDict"
   ]
  },
  {
   "cell_type": "code",
   "execution_count": null,
   "id": "3c98d3c9-5ae0-4894-b62f-1cf95c37d199",
   "metadata": {},
   "outputs": [],
   "source": [
    "myDict = {'key1':67, 'key2':2, 'Dan':'The instructor for the class'}"
   ]
  },
  {
   "cell_type": "code",
   "execution_count": null,
   "id": "182a893b-1e28-4716-947c-5fa169e87542",
   "metadata": {},
   "outputs": [],
   "source": [
    "myDict"
   ]
  },
  {
   "cell_type": "markdown",
   "id": "31c31f94-39c5-4444-a436-a3d2c4b7f1dd",
   "metadata": {},
   "source": [
    "We can also look at just the keys."
   ]
  },
  {
   "cell_type": "code",
   "execution_count": null,
   "id": "2e565420-7d96-4761-9af4-38a8cbb96197",
   "metadata": {},
   "outputs": [],
   "source": [
    "myDict.keys()"
   ]
  },
  {
   "cell_type": "markdown",
   "id": "3f6e96b3-c1af-4643-8526-37dc9f3ea910",
   "metadata": {},
   "source": [
    "Or just the values."
   ]
  },
  {
   "cell_type": "code",
   "execution_count": null,
   "id": "cd5d633e-3584-476d-a324-f2dec6194a95",
   "metadata": {},
   "outputs": [],
   "source": [
    "myDict.values()"
   ]
  },
  {
   "cell_type": "markdown",
   "id": "67e3fc05-ca93-4b0f-a073-8d862481c628",
   "metadata": {},
   "source": [
    "Or what are called the items, which is the combination of both."
   ]
  },
  {
   "cell_type": "code",
   "execution_count": null,
   "id": "824951a9-7fa2-46ba-a94d-ea75fbfa56d4",
   "metadata": {},
   "outputs": [],
   "source": [
    "myDict.items()"
   ]
  },
  {
   "cell_type": "markdown",
   "id": "cba6c943-9aac-47d9-81e1-7f807b073094",
   "metadata": {},
   "source": [
    "We can also subset our dictionary to get the value for each key. Here we use the name of the dictionary and [] with the name of the key inside of them."
   ]
  },
  {
   "cell_type": "code",
   "execution_count": null,
   "id": "251e926b-e2b2-4d6d-b520-cbb13611146c",
   "metadata": {},
   "outputs": [],
   "source": [
    "myDict['key1']"
   ]
  },
  {
   "cell_type": "code",
   "execution_count": null,
   "id": "40675805-1a3b-4d89-8679-f72394bed0f3",
   "metadata": {},
   "outputs": [],
   "source": [
    "myDict['key2']"
   ]
  },
  {
   "cell_type": "code",
   "execution_count": null,
   "id": "39b9d8ec-9258-4906-a030-7158b63e692a",
   "metadata": {},
   "outputs": [],
   "source": [
    "myDict['Dan']"
   ]
  },
  {
   "cell_type": "markdown",
   "id": "f1a35b9a-0682-4fc1-9af7-52ba60f411ea",
   "metadata": {},
   "source": [
    "It is also easy to add items to a dictionary by using a similar looking code."
   ]
  },
  {
   "cell_type": "code",
   "execution_count": null,
   "id": "3db131d1-7943-4e41-85a8-388d058c3ec9",
   "metadata": {},
   "outputs": [],
   "source": [
    "myDict['key3'] = 3\n",
    "myDict"
   ]
  },
  {
   "cell_type": "markdown",
   "id": "1e38723e-ca18-4a97-b8f6-8c38e72f0f39",
   "metadata": {},
   "source": [
    "#### Example"
   ]
  },
  {
   "cell_type": "markdown",
   "id": "d4843be5-2df6-4956-90dd-810283e6a04d",
   "metadata": {},
   "source": [
    "Dictionaries can sometimes be hard to conceptualize as useful. Here is an example of a grocery receipt using two dictionaries."
   ]
  },
  {
   "cell_type": "code",
   "execution_count": null,
   "id": "ecd0bcb4-d89a-41d5-b7f8-f71f5f2a045d",
   "metadata": {},
   "outputs": [],
   "source": [
    "my_fruit_count = {\"apples\":0, \"lemons\":3}\n",
    "my_fruit_prices = {\"apples\":1.95, \"lemons\":1.29}"
   ]
  },
  {
   "cell_type": "code",
   "execution_count": null,
   "id": "391268b6-413f-47dd-a615-40886cd71ca5",
   "metadata": {},
   "outputs": [],
   "source": [
    "my_fruit_count[\"lemons\"]"
   ]
  },
  {
   "cell_type": "code",
   "execution_count": null,
   "id": "a9bd2ae8-189b-4fef-8aaf-e7c9d635fb20",
   "metadata": {},
   "outputs": [],
   "source": [
    "my_fruit_prices[\"lemons\"]"
   ]
  },
  {
   "cell_type": "code",
   "execution_count": null,
   "id": "4d7c7acf-2cf2-4065-a1a1-57415d159520",
   "metadata": {},
   "outputs": [],
   "source": [
    "my_fruit_count[\"lemons\"] * my_fruit_prices[\"lemons\"]"
   ]
  },
  {
   "cell_type": "code",
   "execution_count": null,
   "id": "f57b3a7a-6818-4a61-94bc-c703c73cb661",
   "metadata": {},
   "outputs": [],
   "source": [
    "my_fruit_count[\"watermelons\"] = 0"
   ]
  },
  {
   "cell_type": "code",
   "execution_count": null,
   "id": "600b6416-83c8-460b-ab72-a5563528d36b",
   "metadata": {},
   "outputs": [],
   "source": [
    "print(my_fruit_count)"
   ]
  },
  {
   "cell_type": "code",
   "execution_count": null,
   "id": "47bdb6a2-6e82-40ef-8efe-12d59fd01d95",
   "metadata": {},
   "outputs": [],
   "source": [
    "my_fruit_count[\"watermelons\"] = 5\n",
    "print(my_fruit_count)"
   ]
  },
  {
   "cell_type": "code",
   "execution_count": null,
   "id": "d20f3d05-2704-4688-afa4-f4e6e3441e58",
   "metadata": {},
   "outputs": [],
   "source": [
    "my_fruit_prices[\"watermelons\"] = 2.50"
   ]
  },
  {
   "cell_type": "code",
   "execution_count": null,
   "id": "2bb07223-8046-4d07-bc92-63e2ae8b5c07",
   "metadata": {},
   "outputs": [],
   "source": [
    "my_fruit_count[\"watermelons\"] * my_fruit_prices[\"watermelons\"]"
   ]
  },
  {
   "cell_type": "markdown",
   "id": "b932e34f-e6ad-4cec-9df4-1d649e0d516f",
   "metadata": {},
   "source": [
    "#### Practice"
   ]
  },
  {
   "cell_type": "markdown",
   "id": "9a0e4849-7041-4e86-9d6c-7dd488277103",
   "metadata": {},
   "source": [
    "Create a dictionary with at least 3 key, value pairs. They can be whatever you want them to be."
   ]
  },
  {
   "cell_type": "code",
   "execution_count": null,
   "id": "c7dc0749-7a9c-41ef-a2b7-0f3f5676012f",
   "metadata": {},
   "outputs": [],
   "source": []
  },
  {
   "cell_type": "markdown",
   "id": "0394365e-821d-40c6-b08c-87cf4c193af0",
   "metadata": {},
   "source": [
    "Create another dictionary with 3 key, value pairs. Have the values all be numbers (integers or floats)."
   ]
  },
  {
   "cell_type": "code",
   "execution_count": null,
   "id": "fdd84e15-46cf-44c1-a91c-671199fac3f5",
   "metadata": {},
   "outputs": [],
   "source": []
  },
  {
   "cell_type": "markdown",
   "id": "7be57249-b070-43dd-a027-579c44bc5d5e",
   "metadata": {},
   "source": [
    "Multiply the value of the second key by 14."
   ]
  },
  {
   "cell_type": "code",
   "execution_count": null,
   "id": "f5067fcf-166f-454e-b5ee-be8da7ece92e",
   "metadata": {},
   "outputs": [],
   "source": []
  },
  {
   "cell_type": "markdown",
   "id": "5c22a3ad-7967-40e5-94ef-137a26095e48",
   "metadata": {},
   "source": [
    "Save the result of adding the value of the third key to 12 as an object."
   ]
  },
  {
   "cell_type": "code",
   "execution_count": null,
   "id": "81d00ec4-3677-4b91-b298-188f1b52f1c2",
   "metadata": {},
   "outputs": [],
   "source": []
  },
  {
   "cell_type": "markdown",
   "id": "7364f752-cb9f-4af8-91f6-f2bce602caca",
   "metadata": {},
   "source": [
    "### Tuples"
   ]
  },
  {
   "cell_type": "markdown",
   "id": "c921c534-a424-44b7-898c-234f4588004c",
   "metadata": {},
   "source": [
    "Tuples are just like lists as well, but cannot be changed once they are made. They are more memory efficient than lists, so if you have a very large number of items you want in a container and you know they won't change, a tuple can speed up the process. We will not deal with tuples very much but they are important to know."
   ]
  },
  {
   "cell_type": "code",
   "execution_count": null,
   "id": "647e7ed5-df94-4431-995f-04ecb03994d9",
   "metadata": {},
   "outputs": [],
   "source": [
    "my_tuple = (1,2)"
   ]
  },
  {
   "cell_type": "code",
   "execution_count": null,
   "id": "91dc08d2-d2f1-49ea-96cb-0e9089827914",
   "metadata": {},
   "outputs": [],
   "source": [
    "my_tuple"
   ]
  },
  {
   "cell_type": "code",
   "execution_count": null,
   "id": "614b3453-8b8e-42a8-8589-5a899d9bbd96",
   "metadata": {},
   "outputs": [],
   "source": [
    "my_tuple = (\"Monday\",\"Wednesday\",\"Friday\")"
   ]
  },
  {
   "cell_type": "code",
   "execution_count": null,
   "id": "656b16ca-2888-4b36-9207-e27f0493e80a",
   "metadata": {},
   "outputs": [],
   "source": [
    "my_tuple[1]"
   ]
  },
  {
   "cell_type": "code",
   "execution_count": null,
   "id": "948818c7-ba85-45b9-bafc-c09f852174f4",
   "metadata": {},
   "outputs": [],
   "source": [
    "my_tuple[0] = \"Sunday\""
   ]
  },
  {
   "cell_type": "markdown",
   "id": "84a21e3c-d00a-4368-96b2-647d686fb9b4",
   "metadata": {},
   "source": [
    "We can use count() to get the number of times an value appears in our tuple."
   ]
  },
  {
   "cell_type": "code",
   "execution_count": null,
   "id": "a1f1d573-9632-4a74-9622-4bdce32183b2",
   "metadata": {},
   "outputs": [],
   "source": [
    "my_tuple.count(\"Monday\")"
   ]
  },
  {
   "cell_type": "code",
   "execution_count": null,
   "id": "fb060a5f-eab3-4982-b6f2-a7e9452a90a4",
   "metadata": {},
   "outputs": [],
   "source": [
    "my_tuple = (\"Monday\",\"Monday\",\"Wednesday\",\"Friday\")"
   ]
  },
  {
   "cell_type": "code",
   "execution_count": null,
   "id": "75798993-6258-449a-bc0f-89d49bb175b4",
   "metadata": {},
   "outputs": [],
   "source": [
    "my_tuple.count(\"Monday\")"
   ]
  },
  {
   "cell_type": "markdown",
   "id": "f61a0bcf-a676-4c29-b127-bffd71a2031d",
   "metadata": {},
   "source": [
    "### Sets"
   ]
  },
  {
   "cell_type": "markdown",
   "id": "e90e63af-d8e1-40bf-84e0-c159835b416e",
   "metadata": {},
   "source": [
    "Sets are a container that only allow for one instance of each value. This is great for reducing repeat values in a column or dataset or to do things like word counts or tracking a single participant across a repeated measures study.\n",
    "\n",
    "Creating a set is sort of like creating a tuple because it uses () but the function is set() to create an empty set. Alternatively, you can use {} with the values inside of it. This is like a dictionary but doesn't have the key,value pairings."
   ]
  },
  {
   "cell_type": "code",
   "execution_count": null,
   "id": "e5540be0-aca5-42a3-b007-083efcf5046c",
   "metadata": {},
   "outputs": [],
   "source": [
    "my_set = set()"
   ]
  },
  {
   "cell_type": "code",
   "execution_count": null,
   "id": "9b5775b3-5253-4ee1-9d11-1926c23387b3",
   "metadata": {},
   "outputs": [],
   "source": [
    "type(my_set)"
   ]
  },
  {
   "cell_type": "code",
   "execution_count": null,
   "id": "6cf60c2d-a4ea-49e1-9bc0-b53e76273599",
   "metadata": {},
   "outputs": [],
   "source": [
    "mySet = {2, 4, 6, 6, 2, 8}\n",
    "type(mySet)"
   ]
  },
  {
   "cell_type": "markdown",
   "id": "93952968-9776-4c60-a768-24733c6520f6",
   "metadata": {},
   "source": [
    "Adding items to a set is as simple as using the function .add()"
   ]
  },
  {
   "cell_type": "code",
   "execution_count": null,
   "id": "4d855d66-b461-4a3c-a3fb-b8c3192003bc",
   "metadata": {},
   "outputs": [],
   "source": [
    "my_set = set()\n",
    "my_set.add(\"Dan\")"
   ]
  },
  {
   "cell_type": "code",
   "execution_count": null,
   "id": "8d83fb94-3387-473e-b799-e3d0febaf834",
   "metadata": {},
   "outputs": [],
   "source": [
    "print(my_set)"
   ]
  },
  {
   "cell_type": "markdown",
   "id": "eda0557a-c538-45d2-8e07-bc1d81093ce2",
   "metadata": {},
   "source": [
    "Here we are going to add a number of other items including a duplicated one"
   ]
  },
  {
   "cell_type": "code",
   "execution_count": null,
   "id": "0dd98d6e-f365-45bd-a3d8-b8c263fefdad",
   "metadata": {},
   "outputs": [],
   "source": [
    "my_set.add(\"Timmy\")\n",
    "my_set.add(\"Katrina\")\n",
    "my_set.add(\"Sally\")\n",
    "my_set.add(\"Dan\")"
   ]
  },
  {
   "cell_type": "code",
   "execution_count": null,
   "id": "fd1e32a9-e1f8-4352-a293-1273693c762c",
   "metadata": {
    "tags": []
   },
   "outputs": [],
   "source": [
    "print(my_set)"
   ]
  },
  {
   "cell_type": "markdown",
   "id": "4e7f70e0-f09d-41da-9774-164bf5451212",
   "metadata": {},
   "source": [
    "#### Practice"
   ]
  },
  {
   "cell_type": "markdown",
   "id": "febf2c0e-3da0-4ce0-b6c3-f703cbdbdd14",
   "metadata": {},
   "source": [
    "Create an empty set."
   ]
  },
  {
   "cell_type": "code",
   "execution_count": null,
   "id": "34e94c52-d7a4-446d-9129-0547f5af6811",
   "metadata": {},
   "outputs": [],
   "source": []
  },
  {
   "cell_type": "markdown",
   "id": "24550bfb-f1b3-4917-af1f-1cb90bfa2675",
   "metadata": {},
   "source": [
    "Create a set with 5 numbers in it."
   ]
  },
  {
   "cell_type": "code",
   "execution_count": null,
   "id": "6376aecf-b584-404d-9fc7-ca9a20c6065f",
   "metadata": {},
   "outputs": [],
   "source": []
  },
  {
   "cell_type": "markdown",
   "id": "7aa785fd-1d5f-4305-8e0a-5d8b9736b943",
   "metadata": {},
   "source": [
    "Add three numbers and two strings to your set."
   ]
  },
  {
   "cell_type": "code",
   "execution_count": null,
   "id": "5291e0c9-8f2f-4c95-a510-cc64a4701a20",
   "metadata": {},
   "outputs": [],
   "source": []
  },
  {
   "cell_type": "markdown",
   "id": "86f2dcb2-55ab-46d6-bf73-ac656dbd9875",
   "metadata": {
    "tags": []
   },
   "source": [
    "### For Loops\n",
    "We use for loops to iterate through a list of things. This is immensely useful when dealing with large data where you need to do the same thing over and over again.\n",
    "\n",
    "The form of a loop is: for EACH SOMETHING in NUMEROUS SOMETHINGS: do a thing(s) to each something until you run out of somethings."
   ]
  },
  {
   "cell_type": "markdown",
   "id": "5ab343bb-0a0d-4d0e-971a-fcc7939356c8",
   "metadata": {},
   "source": [
    "For loops can sometimes be a little tricky to understand, so consider the example of our list called my_list that has 4 numbers in it. Let's say we wanted to add print each item in our list. One way to do that is this."
   ]
  },
  {
   "cell_type": "code",
   "execution_count": null,
   "id": "c0812acc-d07f-41dc-a3e6-5c5f4654fd26",
   "metadata": {},
   "outputs": [],
   "source": [
    "my_list = [1,2,3,4]\n",
    "print(my_list[0])\n",
    "print(my_list[1])\n",
    "print(my_list[2])\n",
    "print(my_list[3])"
   ]
  },
  {
   "cell_type": "markdown",
   "id": "a5315391-a8cc-4de1-8d21-a91ab180dad3",
   "metadata": {},
   "source": [
    "Instead of typing all of that out, we can automate the process by asking Python to run one set of commands on each item in our list sequentially. We do that by using for X in Y: print(X).\n",
    "\n",
    "The X can be anything you want. It is just a placeholder variable. The Y is the container you are iterating through."
   ]
  },
  {
   "cell_type": "code",
   "execution_count": null,
   "id": "94101d1e-dc7d-4005-a5bd-bf0db5927f0f",
   "metadata": {},
   "outputs": [],
   "source": [
    "Y = [1,2,3,4]"
   ]
  },
  {
   "cell_type": "code",
   "execution_count": null,
   "id": "e45250c3-e4a4-4d6a-9385-b52aea32d737",
   "metadata": {},
   "outputs": [],
   "source": [
    "for X in Y:\n",
    "    print(X)"
   ]
  },
  {
   "cell_type": "code",
   "execution_count": null,
   "id": "8c68304a-332f-466d-b25b-51a759736288",
   "metadata": {},
   "outputs": [],
   "source": [
    "my_list = [\"First\",\"Second\",\"Third\"]\n",
    "for item in my_list:\n",
    "    print(item)"
   ]
  },
  {
   "cell_type": "code",
   "execution_count": null,
   "id": "8eef5c1d-7d28-49ab-bd12-5caa55fb68a6",
   "metadata": {},
   "outputs": [],
   "source": [
    "my_list = [\"First\",\"Second\",4]\n",
    "for item in my_list:\n",
    "    print(item)"
   ]
  },
  {
   "cell_type": "code",
   "execution_count": null,
   "id": "ffa33c95-4b5d-4b4e-a9d6-d01ab3245509",
   "metadata": {},
   "outputs": [],
   "source": [
    "my_list = [1,2,3,4]\n",
    "\n",
    "for i in my_list:\n",
    "    print(i**2)"
   ]
  },
  {
   "cell_type": "markdown",
   "id": "c364ab1a-fb8c-41d7-88d1-cb87f56e3a5e",
   "metadata": {},
   "source": [
    "For looping with a dictionary is a litte different because of the key,value pairs. Instead of using for X, it needs to be for X1,X2. In addition, we need to call the items from the dictionary using .items().\n",
    "\n",
    "Just like above, X1 and X2 can be anything you want."
   ]
  },
  {
   "cell_type": "code",
   "execution_count": null,
   "id": "3357e425-65c6-4f06-9830-fb4e655380f4",
   "metadata": {},
   "outputs": [],
   "source": [
    "my_dictionary = {'k1':10, 'k2':20, 'k3':30 }\n",
    "for X1,X2 in my_dictionary.items():\n",
    "    print(X1+\": \"+str(X2))"
   ]
  },
  {
   "cell_type": "code",
   "execution_count": null,
   "id": "b1ea2fb2-bcf4-40f4-adf7-c0851b54c62e",
   "metadata": {},
   "outputs": [],
   "source": [
    "my_dictionary = {'k1':10, 'k2':20, 'k3':30 }\n",
    "for key,value in my_dictionary.items():\n",
    "    print(key+\": \"+str(value))"
   ]
  },
  {
   "cell_type": "markdown",
   "id": "1491ea71-834f-45ed-ad0a-feeca6629ccd",
   "metadata": {},
   "source": [
    "Changing values in a list is a litte more complicated. Instead of for i in list, we need to add two changes.\n",
    "\n",
    "The first is that we are using the index of the list, so just like a dictionary it is X1,X2 where X1 indicates the index and X2 indicates the iteration.\n",
    "\n",
    "The second thing we need to change is to enumerate() the list. Enumerate is essentially a count variable of the iteration, starting at 0 and going up 1 each time we go through an iteration. This lets us change the index position that we are updating as you can see below."
   ]
  },
  {
   "cell_type": "code",
   "execution_count": null,
   "id": "8d1a822a-6987-47ec-a4cb-4a1fc36ac3f3",
   "metadata": {},
   "outputs": [],
   "source": [
    "my_list = [1,2,3,4,5,6,7,8,9,10]\n",
    "my_list"
   ]
  },
  {
   "cell_type": "code",
   "execution_count": null,
   "id": "68ec6b5f-c861-4fc1-b98d-f00d94182fa4",
   "metadata": {},
   "outputs": [],
   "source": [
    "for X1,X2 in enumerate(my_list):\n",
    "    my_list[X1] = X2 + 5\n",
    "my_list"
   ]
  },
  {
   "cell_type": "markdown",
   "id": "12db64a7-fbb8-4e77-a4c3-8834f1a86735",
   "metadata": {},
   "source": [
    "Consider the following practical example of a list of scores on a survey battery. We had 35 respondents who took our survey and could score between 1 and 15. We want to take the difference between the mean score for all 35 people and their actual score."
   ]
  },
  {
   "cell_type": "code",
   "execution_count": null,
   "id": "cf677469-24a5-4ec1-9905-79edb3804a45",
   "metadata": {},
   "outputs": [],
   "source": [
    "surveyList = [10,6,11,7,14,2,3,8,1,2,7,4,7,4,15,10,15,11,11,6,11,15,11,14,8,7,8,11,7,7,2,5,1,10,15]\n",
    "surveyList"
   ]
  },
  {
   "cell_type": "markdown",
   "id": "dead041f-6bf1-42de-86a1-effa0ee2836d",
   "metadata": {},
   "source": [
    "We can get the mean by taking the sum of the list and dividing it by the lenth of the list. There are other ways to do this, but we aren't that far along yet."
   ]
  },
  {
   "cell_type": "code",
   "execution_count": null,
   "id": "d546524e-faba-490e-b7b8-fd48a60d0660",
   "metadata": {},
   "outputs": [],
   "source": [
    "sum(surveyList) / len(surveyList)"
   ]
  },
  {
   "cell_type": "code",
   "execution_count": null,
   "id": "fb40ea71-0002-4ef2-9039-8b3eb3bc4768",
   "metadata": {},
   "outputs": [],
   "source": [
    "surveyMean = sum(surveyList) / len(surveyList)\n",
    "for idx, i in enumerate(surveyList):\n",
    "    surveyList[idx] = i - surveyMean\n",
    "surveyList"
   ]
  },
  {
   "cell_type": "markdown",
   "id": "2554faec-98a7-4650-886c-6b4b3bd857a7",
   "metadata": {
    "tags": []
   },
   "source": [
    "#### Practice"
   ]
  },
  {
   "cell_type": "markdown",
   "id": "7bfa9fdd-c9f1-4b88-81ca-9d9f8fec0383",
   "metadata": {},
   "source": [
    "Create a list of at least 4 items. Write a loop that prints each item individually."
   ]
  },
  {
   "cell_type": "code",
   "execution_count": null,
   "id": "c7058b65-3ce6-424a-b51d-964398a74a92",
   "metadata": {},
   "outputs": [],
   "source": []
  },
  {
   "cell_type": "markdown",
   "id": "389612dd-a67a-4076-843e-9863154ae0db",
   "metadata": {},
   "source": [
    "There is code to create a list below. Write a loop that adds each item in the list to the number 5 and prints the result. This does not require changing the number, just printing what it would be"
   ]
  },
  {
   "cell_type": "code",
   "execution_count": null,
   "id": "7e42630d-ac3c-4af4-b6d3-124e35cdae7c",
   "metadata": {},
   "outputs": [],
   "source": [
    "toAdd = [1,4,7,2,6,9,2,12,-2]\n"
   ]
  },
  {
   "cell_type": "markdown",
   "id": "81749911-d012-4740-a6fd-6682830aea1f",
   "metadata": {},
   "source": [
    "Tricky question: There is an empty list below and a full list. Write a loop that adds each item from the second list to the first."
   ]
  },
  {
   "cell_type": "code",
   "execution_count": null,
   "id": "02d94845-29cc-41b1-9bfb-8b524d0cf514",
   "metadata": {
    "tags": []
   },
   "outputs": [],
   "source": [
    "firstList = []\n",
    "secondList = ['a','b','c','d']\n"
   ]
  },
  {
   "cell_type": "markdown",
   "id": "96bd8a62-4c5b-4f05-8c1a-01a7d7c6f48f",
   "metadata": {},
   "source": [
    "### While Loop \n",
    "Keeps the loop going as long as a condition is met/hasn't been met."
   ]
  },
  {
   "cell_type": "code",
   "execution_count": null,
   "id": "382a1299-1270-4467-ae97-c78b3c1fa390",
   "metadata": {
    "tags": []
   },
   "outputs": [],
   "source": [
    "x = 5\n",
    "while x > 0:\n",
    "    print(x)\n",
    "    # Make sure to change the condition in some way\n",
    "    x = x-1"
   ]
  },
  {
   "cell_type": "markdown",
   "id": "c4b6b3f2-c497-41e7-8e77-984174c09427",
   "metadata": {},
   "source": [
    "### If/Else"
   ]
  },
  {
   "cell_type": "markdown",
   "id": "ea4c7054-b2d5-40c7-93c9-99bc4b9a3b4f",
   "metadata": {},
   "source": [
    "If statements are a common way of evaluating conditions. They are structured if SOMETHING is (greater than, less than, equal to, not equal to) SOMETHING ELSE, then do something.\n",
    "\n",
    "For instance:"
   ]
  },
  {
   "cell_type": "code",
   "execution_count": null,
   "id": "720fa531-7811-42f3-8f7d-40d54b9a2ecf",
   "metadata": {},
   "outputs": [],
   "source": [
    "x = 22\n",
    "\n",
    "if x < 6:\n",
    "    print(\"Hooray\")"
   ]
  },
  {
   "cell_type": "code",
   "execution_count": null,
   "id": "0eb4fed5-dcff-4480-b596-dc77f42d65c2",
   "metadata": {},
   "outputs": [],
   "source": [
    "if x > 14:\n",
    "    print(\"greater than 14\")"
   ]
  },
  {
   "cell_type": "code",
   "execution_count": null,
   "id": "a65cf64f-8eb2-462b-b538-49060cf1fa7d",
   "metadata": {},
   "outputs": [],
   "source": [
    "if x < 6:\n",
    "    print(\"YaY\")"
   ]
  },
  {
   "cell_type": "code",
   "execution_count": null,
   "id": "f974e19a-3043-442f-adb7-d8e6b213ab57",
   "metadata": {},
   "outputs": [],
   "source": [
    "x = 4\n",
    "\n",
    "if x < 4:\n",
    "    print(\"Hooray\")"
   ]
  },
  {
   "cell_type": "code",
   "execution_count": null,
   "id": "19e5c92e-7d5d-484d-bdad-4587bf8faf01",
   "metadata": {},
   "outputs": [],
   "source": [
    "x = 75\n",
    "\n",
    "if x == 75:\n",
    "    print(\"X is 75\")"
   ]
  },
  {
   "cell_type": "markdown",
   "id": "8beb7dc4-b1a7-43d8-9a5e-6508431ed112",
   "metadata": {},
   "source": [
    "We can add two sub-commands to expand our if options. Else will execute if the if statement is evaluated as false. So if x is greater than 5, print something but if it is not greater than 5, print something else. "
   ]
  },
  {
   "cell_type": "code",
   "execution_count": null,
   "id": "9ed0b966-0832-4038-b0d4-0eca0e14c218",
   "metadata": {},
   "outputs": [],
   "source": [
    "x = 4\n",
    "if x > 5:\n",
    "    print(\"X is Amazing!\")\n",
    "else:\n",
    "    print(\"Y is pretty cool too\")"
   ]
  },
  {
   "cell_type": "code",
   "execution_count": null,
   "id": "dbdbcdfc-aa01-4a43-b278-2b57c14fa306",
   "metadata": {},
   "outputs": [],
   "source": [
    "x = 4\n",
    "if x >= 4:\n",
    "    print(\"4\")\n",
    "else:\n",
    "    print(\"45\")"
   ]
  },
  {
   "cell_type": "markdown",
   "id": "49beb848-967c-4b3d-9d17-93fbf4516760",
   "metadata": {},
   "source": [
    "We can also use elif, which is like a secondary if. You can think of it as \"if the previous conditions were not true, then try this condition\"."
   ]
  },
  {
   "cell_type": "code",
   "execution_count": null,
   "id": "ba598908-4077-4a80-9ab6-4e1e81af151d",
   "metadata": {},
   "outputs": [],
   "source": [
    "x = 15\n",
    "if x > 5:\n",
    "    print(\"X is Amazing!\")\n",
    "elif x < 2:\n",
    "    print(\"Y is pretty cool too\")\n",
    "else: \n",
    "    print(\"This class is great!\")"
   ]
  },
  {
   "cell_type": "code",
   "execution_count": null,
   "id": "9f944eb5-1218-4bd8-8689-bde4c12e2ddd",
   "metadata": {},
   "outputs": [],
   "source": [
    "x = 1\n",
    "if x > 5:\n",
    "    print(\"X is Amazing!\")\n",
    "elif x < 2:\n",
    "    print(\"Y is pretty cool too\")\n",
    "else: \n",
    "    print(\"This class is great!\")"
   ]
  },
  {
   "cell_type": "code",
   "execution_count": null,
   "id": "76ad1ce1-379e-469a-bf19-9b68b56c8b33",
   "metadata": {},
   "outputs": [],
   "source": [
    "x = 1\n",
    "if x > 5:\n",
    "    print(\"X is Amazing!\")\n",
    "elif x < 2:\n",
    "    print(\"Y is pretty cool too\")\n",
    "else: \n",
    "    print(\"This class is great!\")"
   ]
  },
  {
   "cell_type": "markdown",
   "id": "d4755508-21d4-4616-9c4c-3300b5588169",
   "metadata": {},
   "source": [
    "Finally, we can combine statements to include multiple conditions using and."
   ]
  },
  {
   "cell_type": "code",
   "execution_count": null,
   "id": "00591fe5-cbfd-4712-ab74-48232924166f",
   "metadata": {
    "tags": []
   },
   "outputs": [],
   "source": [
    "x = 6\n",
    "y = 12\n",
    "if (x > 5 and y < 15):\n",
    "    print(\"X is Amazing!\")\n",
    "elif x < 2:\n",
    "    print(\"Y is pretty cool too\")\n",
    "else: \n",
    "    print(\"This class is great!\")\n"
   ]
  },
  {
   "cell_type": "code",
   "execution_count": null,
   "id": "4e70d703-2a71-443c-bb81-fa94cfc9d3e9",
   "metadata": {},
   "outputs": [],
   "source": [
    "x = 1\n",
    "y = 12\n",
    "if (x > 5 and y < 15):\n",
    "    print(\"X is Amazing!\")\n",
    "elif x < 2:\n",
    "    print(\"Y is pretty cool too\")\n",
    "else: \n",
    "    print(\"This class is great!\")\n"
   ]
  },
  {
   "cell_type": "code",
   "execution_count": null,
   "id": "b6bff71e-2179-4660-819a-76ed28bee9e6",
   "metadata": {},
   "outputs": [],
   "source": [
    "x = 6\n",
    "y = 16\n",
    "if (x > 5 and y < 15):\n",
    "    print(\"X is Amazing!\")\n",
    "elif x < 2:\n",
    "    print(\"Y is pretty cool too\")\n",
    "else: \n",
    "    print(\"This class is great!\")\n"
   ]
  },
  {
   "cell_type": "markdown",
   "id": "b72376e0-c1ac-418e-8256-e903ec2c5421",
   "metadata": {},
   "source": [
    "### Practice"
   ]
  },
  {
   "cell_type": "markdown",
   "id": "9687332c-6513-4a3d-a467-54442e66b09d",
   "metadata": {},
   "source": [
    "Write an if statement that checks if x is greater than 1204. If it is, print a message."
   ]
  },
  {
   "cell_type": "code",
   "execution_count": null,
   "id": "fc733d64-c5f3-45a2-b477-fb498d1a401a",
   "metadata": {},
   "outputs": [],
   "source": [
    "x = 5234\n"
   ]
  },
  {
   "cell_type": "markdown",
   "id": "5ec2ecff-ec30-41c1-9bff-a56a74f05e55",
   "metadata": {},
   "source": [
    "Write an if/else statement that checks if x is less than 341. If yes, print a message, if not print a different message."
   ]
  },
  {
   "cell_type": "code",
   "execution_count": null,
   "id": "f8988a65-128a-4476-812e-eb363e3d84d3",
   "metadata": {},
   "outputs": [],
   "source": [
    "x = 22 * 15\n"
   ]
  },
  {
   "cell_type": "markdown",
   "id": "73e60cfc-e96f-4cbd-8881-9666f2488456",
   "metadata": {},
   "source": [
    "Using if/else/elif, print a message if x is greater than 55, a different one if it is less than 55, and a final one if it is equal to 55."
   ]
  },
  {
   "cell_type": "code",
   "execution_count": null,
   "id": "54922987-67d6-416a-871f-892f8b2f6c09",
   "metadata": {},
   "outputs": [],
   "source": [
    "x = 24 - 9 + 12 * 4 - 8\n"
   ]
  },
  {
   "cell_type": "markdown",
   "id": "9b0f10b2-51a2-4613-b8bb-1e761722f6ec",
   "metadata": {
    "tags": []
   },
   "source": [
    "### Example using text"
   ]
  },
  {
   "cell_type": "markdown",
   "id": "38c4aa4d-a450-4c71-aa41-50417a485735",
   "metadata": {},
   "source": [
    "We are going to do a little text analysis. Below we are creating an object that is the first part of a news article. We can then print it to see what it looks like."
   ]
  },
  {
   "cell_type": "code",
   "execution_count": null,
   "id": "0e80e646-1338-499d-b0da-f6e8b22fdb3e",
   "metadata": {},
   "outputs": [],
   "source": [
    "my_article = \"Stunned residents of the small Oregon town of Phoenix walked through a scene of devastation Thursday after one of the state’s many wildfires wiped out much of their community, including a mobile home park, houses and businesses.\""
   ]
  },
  {
   "cell_type": "code",
   "execution_count": null,
   "id": "5169ce28-5d4e-4eb9-92a0-af8fa8229cae",
   "metadata": {},
   "outputs": [],
   "source": [
    "print(my_article)"
   ]
  },
  {
   "cell_type": "markdown",
   "id": "e94b939f-f280-4f11-a032-38839fd8ffec",
   "metadata": {},
   "source": [
    "Next we are going to split the article into a list of each word. We use split() for this."
   ]
  },
  {
   "cell_type": "code",
   "execution_count": null,
   "id": "48ef90a2-0cd8-4ace-8226-653d02a3a687",
   "metadata": {},
   "outputs": [],
   "source": [
    "my_article_split = my_article.split()"
   ]
  },
  {
   "cell_type": "markdown",
   "id": "eb8cd33e-04ef-4bf3-acad-2e3ab0c415cf",
   "metadata": {},
   "source": [
    "Printing that list give us this. Note that commas are included in the word they are next to."
   ]
  },
  {
   "cell_type": "code",
   "execution_count": null,
   "id": "1a3bf06c-6b50-4a9c-9543-951859f44714",
   "metadata": {},
   "outputs": [],
   "source": [
    "print(my_article_split)"
   ]
  },
  {
   "cell_type": "markdown",
   "id": "b7d0f41b-36a3-4bb7-9ba6-58d586a3b391",
   "metadata": {},
   "source": [
    "The length is 37 words long."
   ]
  },
  {
   "cell_type": "code",
   "execution_count": null,
   "id": "0f3a5695-63a2-4501-92a5-015790b67b37",
   "metadata": {},
   "outputs": [],
   "source": [
    "len(my_article_split)"
   ]
  },
  {
   "cell_type": "markdown",
   "id": "007e69e3-9a35-4810-bcf6-e0b2d1e7bf7e",
   "metadata": {},
   "source": [
    "We can use for loops and if statements to look at words that are over 4 characters long."
   ]
  },
  {
   "cell_type": "code",
   "execution_count": null,
   "id": "64eb3b9f-5414-4b10-ae42-ad1cd3e87a04",
   "metadata": {},
   "outputs": [],
   "source": [
    "for word in my_article_split:\n",
    "    if len(word) > 4:\n",
    "        print(word)\n",
    "    "
   ]
  },
  {
   "cell_type": "markdown",
   "id": "dfec50bb-57c5-4a2a-a5af-8308507ac093",
   "metadata": {},
   "source": [
    "Or use a for loop to print each word in lowercase."
   ]
  },
  {
   "cell_type": "code",
   "execution_count": null,
   "id": "1c863f3f-ea52-4602-b83f-5ee73f226d0d",
   "metadata": {},
   "outputs": [],
   "source": [
    "for item in my_article_split:\n",
    "    print(item.lower())"
   ]
  },
  {
   "cell_type": "markdown",
   "id": "80ef9503-31b2-45b8-87a3-7959207ee84d",
   "metadata": {},
   "source": [
    "Storing within a separate list and defining list outside of loop"
   ]
  },
  {
   "cell_type": "code",
   "execution_count": null,
   "id": "e1cc0e9f-5fc6-4dcc-80f1-701d4f9698bb",
   "metadata": {},
   "outputs": [],
   "source": [
    "my_word_list = []\n",
    "print(my_word_list)"
   ]
  },
  {
   "cell_type": "code",
   "execution_count": null,
   "id": "36039547-8efa-4358-a925-77ab0bd6d79a",
   "metadata": {},
   "outputs": [],
   "source": [
    "for word in my_article_split:\n",
    "    if len(word) > 3:\n",
    "        my_word_list.append(word.upper())\n",
    "    #print(my_word_list)\n",
    "len(my_word_list)"
   ]
  },
  {
   "cell_type": "code",
   "execution_count": null,
   "id": "25a2e4a8-9c0a-4a38-837c-e50127ade4c6",
   "metadata": {},
   "outputs": [],
   "source": [
    "my_word_list"
   ]
  },
  {
   "cell_type": "markdown",
   "id": "3b3e2367-0edb-4669-a73c-297ef65883d2",
   "metadata": {},
   "source": [
    "## Working with files"
   ]
  },
  {
   "cell_type": "markdown",
   "id": "047cbb86-deb3-4cd0-9674-4c2b5be0e744",
   "metadata": {},
   "source": [
    "In order to work with files we will need a package. A package is a set of commands that are not native to Python but will work once you load the package. This is very similar to how packages work in other langauges, like R.\n",
    "\n",
    "First we will need to import (or load) the package. If the package isn't already installed in your Python environment, you will need to install it. For now, the package we need is already installed, we just need to activate it."
   ]
  },
  {
   "cell_type": "markdown",
   "id": "773b2552-4ca8-4958-9745-061ab31b4566",
   "metadata": {},
   "source": [
    "#### How to Import a Package or Part of a Package (Assuming it is Already Installed on Your System)\n",
    "\n",
    "* Import a package of useful tools and functions:\n",
    "    - `import packagename`\n",
    "\n",
    "* Call a package and abbreviate its name for use in calls to functions from that package\n",
    "    - `import packagename as abbreviation` \n",
    "\n",
    "* Import a specific function from the package (analogously import a class)\n",
    "    - `from packagename import function`\n",
    "\n",
    "* Import a specific function from a package and abbreviate its name (analogously import a class)\n",
    "    - `from packagename import function as abbreviation`"
   ]
  },
  {
   "cell_type": "code",
   "execution_count": null,
   "id": "e1747ff9-8e51-4430-833c-2218dba41de7",
   "metadata": {},
   "outputs": [],
   "source": [
    "import os"
   ]
  },
  {
   "cell_type": "code",
   "execution_count": null,
   "id": "b9abb090-16bc-4630-bc5f-88617142a1c0",
   "metadata": {},
   "outputs": [],
   "source": [
    "help(os)"
   ]
  },
  {
   "cell_type": "markdown",
   "id": "6e165a0b-0d59-4289-8617-3a0184455b88",
   "metadata": {},
   "source": [
    "To use a command in a package, we start with the package name, then a period, then the command."
   ]
  },
  {
   "cell_type": "code",
   "execution_count": null,
   "id": "5b5e61df-541d-464b-80a1-94f967ded5fa",
   "metadata": {},
   "outputs": [],
   "source": [
    "os.getcwd()"
   ]
  },
  {
   "cell_type": "code",
   "execution_count": null,
   "id": "c220d873-4cf3-44db-8e24-7815e3dada64",
   "metadata": {},
   "outputs": [],
   "source": [
    "os.chdir(\"/Users/dhrice/Desktop\")"
   ]
  },
  {
   "cell_type": "code",
   "execution_count": null,
   "id": "8ff396a6-72fd-481c-894d-b2950664fc7e",
   "metadata": {},
   "outputs": [],
   "source": [
    "os.getcwd()"
   ]
  },
  {
   "cell_type": "markdown",
   "id": "58bdb64f-80b9-430e-aa76-c9a9fbfbb45c",
   "metadata": {},
   "source": [
    "Set the WD back to where your script is. You can copy and paste from where you asked for it the first time."
   ]
  },
  {
   "cell_type": "code",
   "execution_count": null,
   "id": "6f945549-3c80-441d-8434-d89e42c8a741",
   "metadata": {},
   "outputs": [],
   "source": [
    "os.chdir('/Users/dhrice/Dropbox/Teaching/summer data camp/scripts')"
   ]
  },
  {
   "cell_type": "markdown",
   "id": "9f6ca3c0-6c63-4ae0-a6a7-bcf6d58f5957",
   "metadata": {},
   "source": [
    "### Data Analysis with Pandas\n",
    "Pandas is a very popular package that we can use for data management and analysis. You can import Pandas as we did with OS, though the most common way you will see is importing it with the abbreviation pd as we do below."
   ]
  },
  {
   "cell_type": "code",
   "execution_count": null,
   "id": "68a378ff-e3fe-4c21-be99-6743b8bba682",
   "metadata": {},
   "outputs": [],
   "source": [
    "import pandas"
   ]
  },
  {
   "cell_type": "code",
   "execution_count": null,
   "id": "43f309d9-74f2-4323-ae52-c08351a54911",
   "metadata": {},
   "outputs": [],
   "source": [
    "import pandas as pd"
   ]
  },
  {
   "cell_type": "markdown",
   "id": "36e8702c-ce6f-411c-82b7-65215bd6757e",
   "metadata": {},
   "source": [
    "Pandas allows us to read in files like csvs or xlxs (Excel) sheets. There are ways to do this with base Python, but they are more complicated than Pandas. These are just examples. You will get errors if you try to run them because we don't have the actual files in our folders."
   ]
  },
  {
   "cell_type": "code",
   "execution_count": null,
   "id": "0345d3c9-4961-4ee2-bc7c-c7f95c3378c0",
   "metadata": {},
   "outputs": [],
   "source": [
    "# These will all produce errors because there are no files named these in the folder.\n",
    "\n",
    "# Read in a comma separated file as a dataframe called df. \n",
    "df = pd.read_csv('filename.csv', sep = ',')\n",
    "df.head() # check the first lines of the read in \n",
    "    \n",
    "# Read in a tab separated file as a dataframe called df. \n",
    "df = pd.read_csv('filename.tsv', sep = '\\t')\n",
    "df.head() # check the first lines of the read in     \n",
    "\n",
    "# Read in a comma separated txt file as a dataframe called df. \n",
    "df = pd.read_csv('filename.txt', sep = ',')\n",
    "df.head()\n",
    "    \n",
    "# Read in a tab separated txt file as a dataframe called df. \n",
    "df = pd.read_csv('filename.txt', sep = '\\t')\n",
    "df.head()\n",
    "\n",
    "# Read in an Excel file as a dataframe called df. Specify the Sheet you want.\n",
    "df = pd.read_excel('filename.xlsx', sheet_name = 'Sheet1')\n",
    "df.head()\n",
    "\n",
    "# Read in an Excel file as a dataframe called df. This is a different way than above.\n",
    "with pd.ExcelFile('filename.xlsx') as xlsx:\n",
    "        df = pd.read_excel(xlsx, sheet_name = 'Sheet1')\n",
    "df.head()"
   ]
  },
  {
   "cell_type": "markdown",
   "id": "e43ba175-0ebc-4363-aae8-c13acd3303c4",
   "metadata": {},
   "source": [
    "Now we will read in an actual file. The syntax for this is pd (or pandas if you didn't abbreviate) .read_csv() with the filename inside of the parenthesis. You can include the seperator using sep =, but the default is a comma."
   ]
  },
  {
   "cell_type": "code",
   "execution_count": null,
   "id": "06b026a4-a498-459b-8681-68d4fc1f1a01",
   "metadata": {},
   "outputs": [],
   "source": [
    "df = pd.read_csv('sav.csv', sep = ',')"
   ]
  },
  {
   "cell_type": "markdown",
   "id": "810af725-ef43-4a8f-b53b-abf059506be1",
   "metadata": {},
   "source": [
    "You will likely want to look at the details of the data. Since we saved the object as df we can use different functions to look at what is included in our dataset."
   ]
  },
  {
   "cell_type": "markdown",
   "id": "65cfce26-c40e-4626-8e36-8c60356d4ace",
   "metadata": {},
   "source": [
    ".head() will give us the first 5 rows of our data. It will include the index number, column names, and the values for each column."
   ]
  },
  {
   "cell_type": "code",
   "execution_count": null,
   "id": "165dd1a3-c031-467d-b500-ea99f4a8744b",
   "metadata": {},
   "outputs": [],
   "source": [
    "df.head()"
   ]
  },
  {
   "cell_type": "markdown",
   "id": "3fdbbf7f-4b5a-4789-a087-ba8aecc6cd7b",
   "metadata": {},
   "source": [
    "We can also use .info() to get the details on our dataset. This will list column names, how many rows have values for each column, and what type of data those values are."
   ]
  },
  {
   "cell_type": "code",
   "execution_count": null,
   "id": "22c22ca8-96af-4e28-8c65-c4dfae84d8c7",
   "metadata": {},
   "outputs": [],
   "source": [
    "df.info()"
   ]
  },
  {
   "cell_type": "markdown",
   "id": "0b9398fb-01a6-4fb8-8788-bb9a83933553",
   "metadata": {},
   "source": [
    "Another common thing we would check is if there are missing values. We can do that using .isna()"
   ]
  },
  {
   "cell_type": "code",
   "execution_count": null,
   "id": "ea8440ee-8818-40b3-84c8-0e0c87a01305",
   "metadata": {},
   "outputs": [],
   "source": [
    "df.isna()"
   ]
  },
  {
   "cell_type": "markdown",
   "id": "098cd75e-4a94-48c0-b36a-9b510397777e",
   "metadata": {},
   "source": [
    "However, this will give us the answer for each cell, which isn't very helpful. Instead we can add a subcommand using .isna().any() which will tell us if there are any NAs instead of just showing us the value for each cell."
   ]
  },
  {
   "cell_type": "code",
   "execution_count": null,
   "id": "837cd45c-bc1f-41d5-b8ce-b490f00fff26",
   "metadata": {},
   "outputs": [],
   "source": [
    "df.isna().any()"
   ]
  },
  {
   "cell_type": "markdown",
   "id": "55b40c5b-ae64-4e17-b93a-786f581c96a1",
   "metadata": {},
   "source": [
    "This suggests there are no missing values. That seems unlikely for a survey. We can check the range of values to see is anything seems odd."
   ]
  },
  {
   "cell_type": "code",
   "execution_count": null,
   "id": "f476db2c-04ba-4c7e-a396-88e06ed0fc32",
   "metadata": {},
   "outputs": [],
   "source": [
    "df.describe()"
   ]
  },
  {
   "cell_type": "markdown",
   "id": "dda368e2-2dac-466a-bf0d-dd609c8c0b05",
   "metadata": {},
   "source": [
    "We can see that there are 99s for what is likely our survey variables but the mean is around 2.5 - 3.4, so 99s are probably missing or refused to answer. Let's look at payatt."
   ]
  },
  {
   "cell_type": "code",
   "execution_count": null,
   "id": "c01e44cd-b975-48c6-b94a-aa908f0e9d00",
   "metadata": {},
   "outputs": [],
   "source": [
    "df[\"payatt\"].value_counts()"
   ]
  },
  {
   "cell_type": "markdown",
   "id": "6dcc9f4a-e665-4ea0-af45-86f4426f5151",
   "metadata": {},
   "source": [
    "We can use mask from pandas to change values. Here, we are changing column payatt where a cell equals 99 to NaN. Here we put the command of what we want to change inside the mask function."
   ]
  },
  {
   "cell_type": "code",
   "execution_count": null,
   "id": "2d4ec42b-886e-4ad8-866e-a40d7412216b",
   "metadata": {},
   "outputs": [],
   "source": [
    "df['payatt'].mask(df['payatt']==99, inplace=True)"
   ]
  },
  {
   "cell_type": "markdown",
   "id": "d665ebf0-63ef-4a3b-ad6b-9a842460e46b",
   "metadata": {},
   "source": [
    "Now we can check the values for our column."
   ]
  },
  {
   "cell_type": "code",
   "execution_count": null,
   "id": "b4bccd39-0b06-467d-a7a8-db31d1b8f7fa",
   "metadata": {},
   "outputs": [],
   "source": [
    "df[\"payatt\"].value_counts()"
   ]
  },
  {
   "cell_type": "markdown",
   "id": "a0d3536e-e799-46f6-92c2-524b12222d62",
   "metadata": {},
   "source": [
    "We can also use other options like >, <, <=, >=, between, etc."
   ]
  },
  {
   "cell_type": "code",
   "execution_count": null,
   "id": "560553a1-78fe-42c7-ae06-ab64a5681217",
   "metadata": {},
   "outputs": [],
   "source": [
    "df = pd.read_csv('sav.csv', sep = ',')\n",
    "df['payatt'].mask(df['payatt'].between(5,99), inplace=True)\n",
    "df[\"payatt\"].value_counts()"
   ]
  },
  {
   "cell_type": "markdown",
   "id": "012a23fe-da1c-427b-a8bc-2e4368b52040",
   "metadata": {},
   "source": [
    "The way pandas operates means we have to convert all of our values to floats instead of integers if there are NaN or NAs in our dataset. That is fine for what we are doing, but it is useful to know. This line will give you an error to indicate that as such."
   ]
  },
  {
   "cell_type": "code",
   "execution_count": null,
   "id": "24cb3ee5-4de7-48ce-ae6b-add60f9e169c",
   "metadata": {},
   "outputs": [],
   "source": [
    "df['payatt'] = df['payatt'].astype('int')"
   ]
  },
  {
   "cell_type": "markdown",
   "id": "1a77da06-eb9b-437e-bb6c-357b2d9b91d4",
   "metadata": {},
   "source": [
    "We can add or remove data from our object. Here we are going to add a column to the end of the dataset that has 1 for each row."
   ]
  },
  {
   "cell_type": "code",
   "execution_count": null,
   "id": "4368aa0f-e327-4a9b-9444-52b591b6c355",
   "metadata": {},
   "outputs": [],
   "source": [
    "df['newColumn'] = 1\n",
    "df.head()"
   ]
  },
  {
   "cell_type": "markdown",
   "id": "a160b43f-3f0d-444e-b9cc-ae721a9d3ee0",
   "metadata": {},
   "source": [
    "Now we are adding another column that has the values 0 through the length of the data, essentially the index."
   ]
  },
  {
   "cell_type": "code",
   "execution_count": null,
   "id": "d1b3d6ab-7e69-4624-a895-5d786073e019",
   "metadata": {},
   "outputs": [],
   "source": [
    "df['another new'] = range(0,len(df))\n",
    "df.head()"
   ]
  },
  {
   "cell_type": "markdown",
   "id": "bfed0df1-1f20-4349-9e45-0be139cee245",
   "metadata": {},
   "source": [
    "This code creates a new column that is equal to the values of payatt and changemind added together."
   ]
  },
  {
   "cell_type": "code",
   "execution_count": null,
   "id": "2dcd78d2-52b9-4cbb-9920-5041382a0fc4",
   "metadata": {},
   "outputs": [],
   "source": [
    "df['added col'] = df['payatt'] + df['changemind']\n",
    "df.head()"
   ]
  },
  {
   "cell_type": "markdown",
   "id": "c290ac3f-6eaa-4d22-a30a-8909f1efe030",
   "metadata": {},
   "source": [
    "Adding columns is a common task in data analysis, but recall that we changed some of those payatt values to NaN if they were 99s. Let's see what happened to them wehn we added our values. We are going to use .tail(), which is the opposite of head and gives the last 5 rows, because I know that the last row had a 99 in it."
   ]
  },
  {
   "cell_type": "code",
   "execution_count": null,
   "id": "eed19730-6f36-4f95-b083-c559fb2f9af8",
   "metadata": {},
   "outputs": [],
   "source": [
    "df.tail()"
   ]
  },
  {
   "cell_type": "markdown",
   "id": "4107521e-e016-4e31-8344-b0027c8f93ba",
   "metadata": {},
   "source": [
    "To deal with this, we are going to use a slightly complicated set of code. We are making a new column set equal to payatt and changemind, but we are going to fillna using 0s for those values that are NaN in either payatt or changemind. This preserves the NaN values but still lets us make our new addition column."
   ]
  },
  {
   "cell_type": "code",
   "execution_count": null,
   "id": "1aed449c-d5cc-4c35-aad7-9a51a2760fac",
   "metadata": {},
   "outputs": [],
   "source": [
    "df['with na'] = df.fillna(0)['payatt'] + df.fillna(0)['changemind']\n",
    "df.tail()"
   ]
  },
  {
   "cell_type": "markdown",
   "id": "1c09a1fb-703c-4042-8869-2c5fad8fcf18",
   "metadata": {},
   "source": [
    "Dropping columns isn't sticky, though. As in, you need to save your object to maintain the dropped values."
   ]
  },
  {
   "cell_type": "code",
   "execution_count": null,
   "id": "4f655c2b-4ea1-4321-b234-7ff440638eeb",
   "metadata": {},
   "outputs": [],
   "source": [
    "df.drop('added col', axis = 1)"
   ]
  },
  {
   "cell_type": "code",
   "execution_count": null,
   "id": "b2e9bfa3-3c3b-4285-91f6-2f7ef6d84a6d",
   "metadata": {},
   "outputs": [],
   "source": [
    "df.head()"
   ]
  },
  {
   "cell_type": "code",
   "execution_count": null,
   "id": "6cd49177-8e89-42e3-958f-6a50c998442b",
   "metadata": {},
   "outputs": [],
   "source": [
    "df = df.drop('added col', axis = 1)\n",
    "df.head()"
   ]
  },
  {
   "cell_type": "markdown",
   "id": "a74ce39a-1613-446a-b487-60b78bf97ed1",
   "metadata": {},
   "source": [
    "#### Practice"
   ]
  },
  {
   "cell_type": "markdown",
   "id": "e31fe2bf-99a4-41c6-a463-e4082be8c61d",
   "metadata": {},
   "source": [
    "Read in the csv file salaries.csv, save it as an object (or use your own data file!)."
   ]
  },
  {
   "cell_type": "code",
   "execution_count": null,
   "id": "85ae1cb1-5355-41c9-a394-f93a9e7de1d2",
   "metadata": {},
   "outputs": [],
   "source": [
    "df = pd.read_csv('pewfuture.csv', sep = ',')"
   ]
  },
  {
   "cell_type": "markdown",
   "id": "32800c9b-80b3-4528-a114-6d80f62e366e",
   "metadata": {},
   "source": [
    "Look at the header of the file using head()"
   ]
  },
  {
   "cell_type": "code",
   "execution_count": null,
   "id": "87a2fad8-ebaa-4a6a-bab0-b63aa1ce24e5",
   "metadata": {},
   "outputs": [],
   "source": []
  },
  {
   "cell_type": "markdown",
   "id": "95f24ab2-017e-498a-bc13-8fa727502e87",
   "metadata": {},
   "source": [
    "How many rows are in the data? How many columns?"
   ]
  },
  {
   "cell_type": "code",
   "execution_count": null,
   "id": "774f45ec-11f3-4846-ba7d-a94786e6d2cf",
   "metadata": {},
   "outputs": [],
   "source": []
  },
  {
   "cell_type": "markdown",
   "id": "23ea9299-88c5-4446-be0d-3675b3c3279f",
   "metadata": {},
   "source": [
    "Are there any missing values?"
   ]
  },
  {
   "cell_type": "code",
   "execution_count": null,
   "id": "d0e8669c-1744-443b-8232-5d5d0b5839a6",
   "metadata": {},
   "outputs": [],
   "source": []
  },
  {
   "cell_type": "markdown",
   "id": "039766ba-8201-4cd6-830d-d0081c9ce2e5",
   "metadata": {},
   "source": [
    "Add a column to your data, set it equal to anything you want."
   ]
  },
  {
   "cell_type": "code",
   "execution_count": null,
   "id": "d5996851-129f-4b62-b32e-0e2a32b7dff3",
   "metadata": {},
   "outputs": [],
   "source": []
  },
  {
   "cell_type": "markdown",
   "id": "49ab2ba4-e82f-49c8-a21d-10426ab2e5b4",
   "metadata": {},
   "source": [
    "Add another column to your data. Make it a combination of two columns."
   ]
  },
  {
   "cell_type": "code",
   "execution_count": null,
   "id": "e050a727-2718-4ae5-85cc-1299bcdaaed9",
   "metadata": {},
   "outputs": [],
   "source": []
  },
  {
   "cell_type": "markdown",
   "id": "eec3ad83-4d58-4ab1-b489-03e9469228d0",
   "metadata": {},
   "source": [
    "Find the mean of a column using the sum(df['column'] / len df['column']"
   ]
  },
  {
   "cell_type": "code",
   "execution_count": null,
   "id": "2b5bf3e2-3d93-4275-8c12-72fe3a8bbce0",
   "metadata": {},
   "outputs": [],
   "source": []
  },
  {
   "cell_type": "markdown",
   "id": "68f1dd41-abae-4a96-95c7-c2b9cb759e5a",
   "metadata": {},
   "source": [
    "Now take that mean and subtract it from the values of the column you found it for. Set those new numbers equal to another column."
   ]
  },
  {
   "cell_type": "code",
   "execution_count": null,
   "id": "38dd4427-f7e9-4a4b-b4c6-aae605e48ba6",
   "metadata": {},
   "outputs": [],
   "source": []
  },
  {
   "cell_type": "markdown",
   "id": "7200a2c6-397f-4054-8c73-d1639c856371",
   "metadata": {},
   "source": [
    "### Recap Practice"
   ]
  },
  {
   "cell_type": "markdown",
   "id": "e2448c2f-444c-4622-9096-f6bedf11b6da",
   "metadata": {},
   "source": [
    "Do the following math equations."
   ]
  },
  {
   "cell_type": "markdown",
   "id": "d2a7103e-7fb2-4f61-a2dd-c4e63ab768c3",
   "metadata": {},
   "source": [
    "Divide 20 by 3.7"
   ]
  },
  {
   "cell_type": "code",
   "execution_count": null,
   "id": "2fcf50c9-d017-4cd8-8bfc-6120e98e5360",
   "metadata": {},
   "outputs": [],
   "source": []
  },
  {
   "cell_type": "markdown",
   "id": "92a698a1-7ac7-4048-88cc-59a56cd63722",
   "metadata": {},
   "source": [
    "Multiply 782 by 472"
   ]
  },
  {
   "cell_type": "code",
   "execution_count": null,
   "id": "a19556d9-7f54-444f-b8d6-8ed7aec1ceaf",
   "metadata": {},
   "outputs": [],
   "source": []
  },
  {
   "cell_type": "markdown",
   "id": "80915645-f43d-4dec-98bb-ad504bfff906",
   "metadata": {},
   "source": [
    "Add 12 and 98 then divide by 30"
   ]
  },
  {
   "cell_type": "code",
   "execution_count": null,
   "id": "630068d9-cc5d-4655-b49f-e73a7cf2334b",
   "metadata": {},
   "outputs": [],
   "source": []
  },
  {
   "cell_type": "markdown",
   "id": "77336b74-de95-4b0e-b047-71bc302edc4d",
   "metadata": {},
   "source": [
    "Take half of 120, add 82, then divide by 90."
   ]
  },
  {
   "cell_type": "code",
   "execution_count": null,
   "id": "d0577e35-7a29-4b46-a9b8-b8cb37d128ac",
   "metadata": {},
   "outputs": [],
   "source": []
  },
  {
   "cell_type": "markdown",
   "id": "896d5918-0421-453b-9020-7e338741f985",
   "metadata": {},
   "source": [
    "Multiply 8 and 4 and divide that result by 7 squared. Look up how to square numbers if you don't know how."
   ]
  },
  {
   "cell_type": "code",
   "execution_count": null,
   "id": "7c4cebf7-dac6-4ca4-9d91-543db5fab2f5",
   "metadata": {},
   "outputs": [],
   "source": []
  },
  {
   "cell_type": "markdown",
   "id": "ff3b85e1-8d28-43f7-964c-957ac03e217f",
   "metadata": {},
   "source": [
    "Make an object equal to 14."
   ]
  },
  {
   "cell_type": "code",
   "execution_count": null,
   "id": "c22fce17-273a-42a8-8324-cfe07a05decb",
   "metadata": {},
   "outputs": [],
   "source": []
  },
  {
   "cell_type": "markdown",
   "id": "68c0cf1a-371d-4872-b2c7-9a80af9ca6c5",
   "metadata": {},
   "source": [
    "Make an object equal to \"Object name\""
   ]
  },
  {
   "cell_type": "code",
   "execution_count": null,
   "id": "73978152-9e47-47e4-b65a-999592016b1a",
   "metadata": {},
   "outputs": [],
   "source": []
  },
  {
   "cell_type": "markdown",
   "id": "d340782c-b095-4f65-8c62-23ded443cd5c",
   "metadata": {},
   "source": [
    "Make an object equal to 4.0"
   ]
  },
  {
   "cell_type": "code",
   "execution_count": null,
   "id": "06a485a3-3864-4972-b8e3-89bc5bc4d07c",
   "metadata": {},
   "outputs": [],
   "source": []
  },
  {
   "cell_type": "markdown",
   "id": "22aa0ba5-1ba3-45e1-b450-935e3264ecd2",
   "metadata": {},
   "source": [
    "Make an object equal to: The child's hand"
   ]
  },
  {
   "cell_type": "code",
   "execution_count": null,
   "id": "1b4a04d3-9fb6-41cf-abe0-31e6439cfcc5",
   "metadata": {},
   "outputs": [],
   "source": []
  },
  {
   "cell_type": "markdown",
   "id": "18ffee2a-d082-409c-8b9b-60dc24e2cf1e",
   "metadata": {},
   "source": [
    "Fix the following code chunks so that they will work by writing the correct code below each line:"
   ]
  },
  {
   "cell_type": "code",
   "execution_count": null,
   "id": "4a4d510e-2beb-4be9-a4f5-ff052399c2f6",
   "metadata": {},
   "outputs": [],
   "source": [
    "new Obj = 453"
   ]
  },
  {
   "cell_type": "code",
   "execution_count": null,
   "id": "a8abed8a-b290-4194-85d0-ce1124b9d513",
   "metadata": {},
   "outputs": [],
   "source": []
  },
  {
   "cell_type": "code",
   "execution_count": null,
   "id": "b5db5b0f-22ea-4d65-bbe4-71d0db005d34",
   "metadata": {},
   "outputs": [],
   "source": [
    "string = 'MSU's students are the best'"
   ]
  },
  {
   "cell_type": "code",
   "execution_count": null,
   "id": "84600e8b-a671-4e67-ab2a-6ce36da4408f",
   "metadata": {},
   "outputs": [],
   "source": []
  },
  {
   "cell_type": "code",
   "execution_count": null,
   "id": "827c27ba-81e9-479e-a388-5a4a018f1189",
   "metadata": {},
   "outputs": [],
   "source": [
    "4obj = 48824"
   ]
  },
  {
   "cell_type": "code",
   "execution_count": null,
   "id": "a6658eeb-0f9e-4909-a703-6203fc855dbe",
   "metadata": {},
   "outputs": [],
   "source": []
  },
  {
   "cell_type": "code",
   "execution_count": null,
   "id": "ef9cee64-9c35-44c7-b8aa-11853a4a9252",
   "metadata": {},
   "outputs": [],
   "source": [
    "x = 25\n",
    "if x >= 26:\n",
    "print(\"X is the bigger number\")"
   ]
  },
  {
   "cell_type": "code",
   "execution_count": null,
   "id": "b2fddd94-b20d-4fdd-ad83-473262efd744",
   "metadata": {},
   "outputs": [],
   "source": []
  },
  {
   "cell_type": "code",
   "execution_count": null,
   "id": "ea361b23-f742-4f1a-aba7-24c8c46af574",
   "metadata": {},
   "outputs": [],
   "source": [
    "x = 14\n",
    "if x == 14:\n",
    "    print(X is equal to 14)"
   ]
  },
  {
   "cell_type": "code",
   "execution_count": null,
   "id": "159956ea-086c-40d3-abf0-8f33e2f3a0b6",
   "metadata": {},
   "outputs": [],
   "source": []
  },
  {
   "cell_type": "code",
   "execution_count": null,
   "id": "ccbad13b-953b-4c5c-976d-67e548a9a742",
   "metadata": {},
   "outputs": [],
   "source": [
    "x = 14\n",
    "\n",
    "if x <= 14 and x > 12\n",
    "    print(\"X is a good number\")"
   ]
  },
  {
   "cell_type": "code",
   "execution_count": null,
   "id": "e748a06f-527b-4875-b6d2-37b402ead2dc",
   "metadata": {},
   "outputs": [],
   "source": []
  },
  {
   "cell_type": "markdown",
   "id": "f1b3e97b-3723-4680-8d0d-3f2dc01d9486",
   "metadata": {},
   "source": [
    "Using an \"if\" statement, evaluate if x is greater than 10. If it is, print \"x is greater\"."
   ]
  },
  {
   "cell_type": "code",
   "execution_count": null,
   "id": "56004d52-35f9-4ecb-ba9b-5e65ac6c02d4",
   "metadata": {},
   "outputs": [],
   "source": []
  },
  {
   "cell_type": "markdown",
   "id": "d2574508-89a9-4f07-b2ab-d68dcd172caf",
   "metadata": {},
   "source": [
    "Using an \"if\" statement, evaluate if x is less than 12912. If it is, print \"x is smaller\"."
   ]
  },
  {
   "cell_type": "code",
   "execution_count": null,
   "id": "c731d88d-09cb-4644-91d1-618fc59c6050",
   "metadata": {},
   "outputs": [],
   "source": []
  },
  {
   "cell_type": "markdown",
   "id": "c1332bde-9f81-4a95-9795-0a2a557d7c47",
   "metadata": {},
   "source": [
    "Using an \"if\" statement, evaluate if x is greater than 10. If it is, set the value of x to be 25."
   ]
  },
  {
   "cell_type": "code",
   "execution_count": null,
   "id": "573d49c5-7c35-48f3-aa50-b6c44e68aa95",
   "metadata": {},
   "outputs": [],
   "source": []
  },
  {
   "cell_type": "markdown",
   "id": "228c4df8-2d55-40d5-806e-0d4b30bd60fc",
   "metadata": {},
   "source": [
    "Use \"if\" and \"else\" to check the following. Is 301931-23411 greater than or equal to 734 x 4. If it is, print \"Yup\". Otherwise, print \"Nope\"."
   ]
  },
  {
   "cell_type": "code",
   "execution_count": null,
   "id": "06fbe496-2eec-4f2a-ab7f-a95d43a20c01",
   "metadata": {},
   "outputs": [],
   "source": []
  },
  {
   "cell_type": "markdown",
   "id": "bf751335-e241-4f44-8dc0-0b62d95db0ef",
   "metadata": {},
   "source": [
    "Create two strings. One is equal to your full name, the other is where you were born. Print the two of them together."
   ]
  },
  {
   "cell_type": "code",
   "execution_count": null,
   "id": "e8da29ec-0f25-4e21-b8d0-1e35c32237df",
   "metadata": {},
   "outputs": [],
   "source": []
  },
  {
   "cell_type": "markdown",
   "id": "1072d9dc-aed9-4b9d-8d28-b9c2359f7921",
   "metadata": {},
   "source": [
    "Now print those two strings but add a space between them."
   ]
  },
  {
   "cell_type": "code",
   "execution_count": null,
   "id": "05d0d709-5f4f-4f87-88bd-e5ee6f21228c",
   "metadata": {},
   "outputs": [],
   "source": []
  },
  {
   "cell_type": "markdown",
   "id": "fd348618-af18-4831-83d2-6720474b0e1b",
   "metadata": {},
   "source": [
    "BUDGETING EXERCISE\n",
    "\n",
    "Your rent is \\\\$1500 a month\n",
    "\n",
    "Your car payment is \\\\$200 a month\n",
    "\n",
    "You spend \\\\$400 a month on groceries\n",
    "\n",
    "You want to spend \\\\$400 a month on fun things\n",
    "\n",
    "After taxes, you make \\\\$35,000 a year. Do you have enough money for your budget?\n",
    "\n",
    "You can answer this a few different ways either using just the numbers or making objects to hold them. Either way, you should use an \"if\" statement"
   ]
  },
  {
   "cell_type": "code",
   "execution_count": null,
   "id": "95e80871-c9f5-4dcd-a8fa-3533b8dbc635",
   "metadata": {},
   "outputs": [],
   "source": []
  },
  {
   "cell_type": "markdown",
   "id": "4acaef61-e10f-4f06-9291-084bbd01b40c",
   "metadata": {},
   "source": [
    "Create a list with at least 4 items in it. Make at least 1 string, 1 float, and 1 integer"
   ]
  },
  {
   "cell_type": "code",
   "execution_count": null,
   "id": "7586c28b-b0e2-4bb3-bb39-709e67209c00",
   "metadata": {},
   "outputs": [],
   "source": []
  },
  {
   "cell_type": "markdown",
   "id": "7e6a148f-b9f1-4e6d-a834-4736522583a7",
   "metadata": {},
   "source": [
    "Look at the 3rd item in the list using whatever_you_named_your_list[]"
   ]
  },
  {
   "cell_type": "code",
   "execution_count": null,
   "id": "ea625dc9-68d4-4579-9d61-017ca0bfb05d",
   "metadata": {},
   "outputs": [],
   "source": []
  },
  {
   "cell_type": "markdown",
   "id": "33decb01-957e-4756-a116-f54a4348c735",
   "metadata": {},
   "source": [
    "Add another item to your list using .append"
   ]
  },
  {
   "cell_type": "code",
   "execution_count": null,
   "id": "4d490822-567d-4109-aa09-93ea1fa9f720",
   "metadata": {},
   "outputs": [],
   "source": []
  },
  {
   "cell_type": "markdown",
   "id": "a192f14e-c4ce-4c5b-9a93-88c9d932de2c",
   "metadata": {},
   "source": [
    "Create two lists with 4 items each. All numbers."
   ]
  },
  {
   "cell_type": "code",
   "execution_count": null,
   "id": "686d3a2d-3f3b-4eb0-86d0-a6c2e402a74d",
   "metadata": {},
   "outputs": [],
   "source": []
  },
  {
   "cell_type": "markdown",
   "id": "cb6bc0be-0b66-46ab-928f-6dee12a87342",
   "metadata": {},
   "source": [
    "Add the 1st item from the first list to the second item in the second list. You will use whatever_you_named_your_list[] to do this."
   ]
  },
  {
   "cell_type": "code",
   "execution_count": null,
   "id": "6d0be489-2290-4590-b0da-eb3b8f7c3c10",
   "metadata": {},
   "outputs": [],
   "source": []
  },
  {
   "cell_type": "markdown",
   "id": "47af9253-0205-4523-a424-a421994f3a03",
   "metadata": {},
   "source": [
    "Create a brand new list with 5 items. They can be anything you want. Then, use a \"for\" statement to print every item in the list."
   ]
  },
  {
   "cell_type": "code",
   "execution_count": null,
   "id": "9fbb5254-977f-4f20-956f-be46d2e52bcb",
   "metadata": {},
   "outputs": [],
   "source": []
  },
  {
   "cell_type": "markdown",
   "id": "08a73850-301b-49f8-8f6b-85850ec1c45a",
   "metadata": {},
   "source": [
    "Use the command below to create a list. Use a \"for\" statement to print what happens when you add 17 to each item in the list."
   ]
  },
  {
   "cell_type": "code",
   "execution_count": null,
   "id": "f9d278c7-042f-448e-8087-1e193b71faf0",
   "metadata": {},
   "outputs": [],
   "source": [
    "myList = [1,4,2,6,7,3,6,2,7,8,41,34,6,12,6,8,423,6,85]\n"
   ]
  },
  {
   "cell_type": "markdown",
   "id": "151b7c02-632a-434f-92e0-742e4b7f040e",
   "metadata": {},
   "source": [
    "Take the following list and subract 14 from each item on the list. Actually change the values of the list this time."
   ]
  },
  {
   "cell_type": "code",
   "execution_count": null,
   "id": "4a38af50-475b-4785-b6a1-72d2416fb5a9",
   "metadata": {},
   "outputs": [],
   "source": [
    "myList = [1,4,2,6,7,3,6,2,7,8,41,34,6,12,6,8,423,6,85]\n"
   ]
  },
  {
   "cell_type": "markdown",
   "id": "7ff849f1-4642-4997-8c72-581e2868338a",
   "metadata": {},
   "source": [
    "Using a \"for\" statement and an \"if\" statement, evaluate if each of the items in the list are equal to 15. If they are, print \"The number is 15\". To do this, you will start with a for loop and then \"nest\" the if statement inside of it."
   ]
  },
  {
   "cell_type": "code",
   "execution_count": null,
   "id": "c8d342aa-1dc2-4647-9ab4-74abe318a097",
   "metadata": {},
   "outputs": [],
   "source": [
    "myList = [15,15,14,231,6124,15,8656,234,15,863,123,0]\n"
   ]
  }
 ],
 "metadata": {
  "kernelspec": {
   "display_name": "Python 3 (ipykernel)",
   "language": "python",
   "name": "python3"
  },
  "language_info": {
   "codemirror_mode": {
    "name": "ipython",
    "version": 3
   },
   "file_extension": ".py",
   "mimetype": "text/x-python",
   "name": "python",
   "nbconvert_exporter": "python",
   "pygments_lexer": "ipython3",
   "version": "3.10.9"
  }
 },
 "nbformat": 4,
 "nbformat_minor": 5
}
