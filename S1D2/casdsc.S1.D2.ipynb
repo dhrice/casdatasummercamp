{
 "cells": [
  {
   "cell_type": "markdown",
   "id": "dd224602-d415-49cf-b606-b9707ad08319",
   "metadata": {},
   "source": [
    "# Communication Arts and Sciences' Data Summer Camp Session One"
   ]
  },
  {
   "cell_type": "markdown",
   "id": "2d57171a-d88b-4e2d-9b1c-e47f4c77c5f1",
   "metadata": {},
   "source": [
    "## Day Two\n",
    "Today, we are going to spend time analyzing data and creating visualizations. We will be working with both numeric data and strings. The datasets are included in the folder that this script is in. You can use your own datasets, but will need to change column names and other parts of the code to keep up."
   ]
  },
  {
   "cell_type": "markdown",
   "id": "94c666e6-9f38-4e1b-8305-4f0b9efb5684",
   "metadata": {},
   "source": [
    "### Data Analysis"
   ]
  },
  {
   "cell_type": "markdown",
   "id": "8eb544d7-cc69-4b7a-8038-4d7f674b2e7e",
   "metadata": {},
   "source": [
    "First, we are going to read out dataset into out Python environment. We are going to be using pandas for this, like we did yesterday. That requires us to import pandas and then read in our csv file."
   ]
  },
  {
   "cell_type": "code",
   "execution_count": null,
   "id": "6f74d052-c4c6-4625-8296-e8f74b52ccf6",
   "metadata": {},
   "outputs": [],
   "source": [
    "import pandas as pd"
   ]
  },
  {
   "cell_type": "markdown",
   "id": "a5632c50-b518-499d-8da0-6b4253ac43a0",
   "metadata": {},
   "source": [
    "This dataset is fuel economy and emissions data for ~600,000 cars in the EU. It has the onboard fuel consumption and co2 emissions (ob) compared to the tested measure of fuel economy and co2 emissions (wl). "
   ]
  },
  {
   "cell_type": "code",
   "execution_count": null,
   "id": "616afcd3-15b4-48a5-8c31-4c1ddede560c",
   "metadata": {},
   "outputs": [],
   "source": [
    "df = pd.read_csv(\"caremissions.csv\")"
   ]
  },
  {
   "cell_type": "markdown",
   "id": "bb7a5828-607f-469d-a1b5-68a1eace5a4c",
   "metadata": {},
   "source": [
    "Let's look at the first few rows to see what we are dealing with."
   ]
  },
  {
   "cell_type": "code",
   "execution_count": null,
   "id": "7558e09c-63cf-4813-a148-984ee627f0fb",
   "metadata": {},
   "outputs": [],
   "source": [
    "df.head()"
   ]
  },
  {
   "cell_type": "markdown",
   "id": "5cb34f12-e001-47d2-ae26-df1d17d47678",
   "metadata": {},
   "source": [
    "Info will tell us about our data."
   ]
  },
  {
   "cell_type": "code",
   "execution_count": null,
   "id": "d381f837-2325-443e-9bc2-bff35821f8fc",
   "metadata": {},
   "outputs": [],
   "source": [
    "df.info()"
   ]
  },
  {
   "cell_type": "markdown",
   "id": "8e8b9790-5367-4775-967e-29f5b6a6d2ca",
   "metadata": {},
   "source": [
    "Now we can do some things with our data. First let's look at \"fuel\". By subsetting our data by just the column we want we can see a truncated version of all of the values in the column."
   ]
  },
  {
   "cell_type": "code",
   "execution_count": null,
   "id": "d6e33e67-c3c2-4f9d-8fb0-df7b50138c07",
   "metadata": {},
   "outputs": [],
   "source": [
    "df['fuel']"
   ]
  },
  {
   "cell_type": "markdown",
   "id": "a69976aa-4163-4b7c-9f76-f2aef6cbedda",
   "metadata": {},
   "source": [
    "We can use value_counts() to get a better idea of what is actually in the column."
   ]
  },
  {
   "cell_type": "code",
   "execution_count": null,
   "id": "5fd0087f-6b78-4350-9417-93331fb5aca5",
   "metadata": {},
   "outputs": [],
   "source": [
    "df['fuel'].value_counts()"
   ]
  },
  {
   "cell_type": "markdown",
   "id": "a10d328f-83ec-4bd8-a29b-974d78cd668e",
   "metadata": {},
   "source": [
    "If we use value_counts() on another column we will get a truncated view of what is there. You can adjust settings in pandas if you want to see everything. We won't do that here."
   ]
  },
  {
   "cell_type": "code",
   "execution_count": null,
   "id": "6623c8a6-d858-40ae-9793-0cc980e5dbd8",
   "metadata": {},
   "outputs": [],
   "source": [
    "df['ob fuel'].value_counts()"
   ]
  },
  {
   "cell_type": "markdown",
   "id": "cadb6fce-d246-4cf4-93fe-6dd86ca0a2b6",
   "metadata": {},
   "source": [
    "You can also convert the column into what is called a numpy array."
   ]
  },
  {
   "cell_type": "code",
   "execution_count": null,
   "id": "0ebeb521-cafb-44cd-bcd3-a22a0e62edfd",
   "metadata": {},
   "outputs": [],
   "source": [
    "df['ob fuel'].to_numpy()"
   ]
  },
  {
   "cell_type": "markdown",
   "id": "b0c2eef1-5d5a-4787-b905-bf1ac0d508f4",
   "metadata": {},
   "source": [
    "Next we calculate some means, in this case \"ob co2\". We are using the mean function from pandas which is different than what we were doing before with sum and len.\n",
    "\n",
    "To get the mean, we subset the dataframe by the column we want to look at and then ask for the mean."
   ]
  },
  {
   "cell_type": "code",
   "execution_count": null,
   "id": "64d8446f-c85e-4999-aa84-a22a6306275f",
   "metadata": {},
   "outputs": [],
   "source": [
    "meanOBCO2 = df[\"ob co2\"].mean()\n",
    "meanOBCO2"
   ]
  },
  {
   "cell_type": "markdown",
   "id": "50797d9f-0ed5-4eec-863f-9e6b2422f7a5",
   "metadata": {},
   "source": [
    "By default, the mean functon will give us a lot of significant digits, which we can reduce if we want. We are going to use round() which includes a subcommand of digits. By default it gets rid of everything after the decimal."
   ]
  },
  {
   "cell_type": "code",
   "execution_count": null,
   "id": "f68010ee-5c03-4d67-a9b8-72b74f4c3520",
   "metadata": {},
   "outputs": [],
   "source": [
    "round(meanOBCO2) "
   ]
  },
  {
   "cell_type": "markdown",
   "id": "a33e7eb3-51f1-4371-9e57-3c5ea39e7223",
   "metadata": {},
   "source": [
    "We can change the number of digits we want by adding a comma and the number after the object we are rounding."
   ]
  },
  {
   "cell_type": "code",
   "execution_count": null,
   "id": "a9c4858a-13cb-470c-ab4a-172276abd6f8",
   "metadata": {},
   "outputs": [],
   "source": [
    "round(meanOBCO2, 3)"
   ]
  },
  {
   "cell_type": "markdown",
   "id": "7d3b1152-d5bd-430b-a821-cdd2bdc4b276",
   "metadata": {},
   "source": [
    "You can get statistics for just about anything you can think of. Median is just as straightforward as mean."
   ]
  },
  {
   "cell_type": "code",
   "execution_count": null,
   "id": "32ff554f-1b0f-4b7e-8dde-e0d208597dfc",
   "metadata": {},
   "outputs": [],
   "source": [
    "df[\"ob co2\"].median()"
   ]
  },
  {
   "cell_type": "markdown",
   "id": "c324708c-6f0f-4549-be9d-d904292ec5ec",
   "metadata": {},
   "source": [
    "Mode returns an indexed list since we can have more than one mode. We could subset that using the second code."
   ]
  },
  {
   "cell_type": "code",
   "execution_count": null,
   "id": "2fe254fd-f981-4b3f-99fc-cf39bf318cd6",
   "metadata": {},
   "outputs": [],
   "source": [
    "df[\"fuel\"].mode()"
   ]
  },
  {
   "cell_type": "code",
   "execution_count": null,
   "id": "ebd3b0e2-4783-4fec-87e3-c8c14c831318",
   "metadata": {},
   "outputs": [],
   "source": [
    "df[\"fuel\"].mode()[0]"
   ]
  },
  {
   "cell_type": "markdown",
   "id": "1bc77aaa-894f-472f-8828-c73cb6e52d64",
   "metadata": {},
   "source": [
    "We can get dataframe means or a few columns worth of means. Dataframes will often give us a warning if there are strings in the columns, but will still produce an answer for what it can."
   ]
  },
  {
   "cell_type": "code",
   "execution_count": null,
   "id": "eed38ba7-cf57-4237-ab83-79d333497103",
   "metadata": {},
   "outputs": [],
   "source": [
    "df.mean()"
   ]
  },
  {
   "cell_type": "markdown",
   "id": "355dc458-b647-48be-8110-32a81e438f07",
   "metadata": {},
   "source": [
    "If we want to look at multiple means or medians, we need to put them in a list and then ask for the statistic. Note the list [\"ob fuel\",\"wl fuel\"] is inside of the [].mean()"
   ]
  },
  {
   "cell_type": "code",
   "execution_count": null,
   "id": "0a6d021d-c976-4c09-bb3c-e996a56ee6a3",
   "metadata": {},
   "outputs": [],
   "source": [
    "df[[\"ob fuel\",\"wl fuel\"]].mean()"
   ]
  },
  {
   "cell_type": "markdown",
   "id": "3d3aebdf-593d-47fb-89c6-240835ce8f11",
   "metadata": {},
   "source": [
    "Other statistics we could look at are correlations or covariances (and many others)."
   ]
  },
  {
   "cell_type": "code",
   "execution_count": null,
   "id": "2676b521-fc6f-4477-bd26-c5d79576269f",
   "metadata": {},
   "outputs": [],
   "source": [
    "df[[\"ob fuel\",\"wl fuel\"]].corr()"
   ]
  },
  {
   "cell_type": "code",
   "execution_count": null,
   "id": "9a3d9b1f-9784-4ff7-85cf-23f9fbbefa2f",
   "metadata": {},
   "outputs": [],
   "source": [
    "df[[\"ob fuel\",\"wl fuel\"]].cov()"
   ]
  },
  {
   "cell_type": "code",
   "execution_count": null,
   "id": "c0a998cd-40e1-4351-a3c0-e023889aa459",
   "metadata": {},
   "outputs": [],
   "source": [
    "df[[\"ob fuel\",\"wl fuel\"]].std()"
   ]
  },
  {
   "cell_type": "markdown",
   "id": "ed28273c-6555-4a18-ba1a-7e31089d34b9",
   "metadata": {},
   "source": [
    "#### Practice"
   ]
  },
  {
   "cell_type": "markdown",
   "id": "6c0a0ed4-c1e5-4299-9b47-d652f6a1b87e",
   "metadata": {},
   "source": [
    "What is the mean of 'wl co2'?"
   ]
  },
  {
   "cell_type": "code",
   "execution_count": null,
   "id": "c6f41613-f149-42e2-a7d4-5898a20ddf12",
   "metadata": {},
   "outputs": [],
   "source": []
  },
  {
   "cell_type": "markdown",
   "id": "bde599b0-f4dd-4d7a-b8dc-f23a7e844e93",
   "metadata": {},
   "source": [
    "Does wl co2 or ob co2 have the higher median?"
   ]
  },
  {
   "cell_type": "code",
   "execution_count": null,
   "id": "f80f93bc-b141-4329-848b-3ab9a805dfa3",
   "metadata": {},
   "outputs": [],
   "source": []
  },
  {
   "cell_type": "markdown",
   "id": "f3a911c0-7dea-46af-bb82-99efaf563348",
   "metadata": {},
   "source": [
    "What is the ratio of gap fuel and gap co2 (gap fuel/gap co2) for each row? Create a new column with this answer. Check yesterday's script if you don't know how to do this."
   ]
  },
  {
   "cell_type": "code",
   "execution_count": null,
   "id": "b085d277-b1ed-4bd3-8a82-8a2a84abb0e9",
   "metadata": {},
   "outputs": [],
   "source": []
  },
  {
   "cell_type": "markdown",
   "id": "22916223-959c-4b7d-bd55-0b6c978d0103",
   "metadata": {},
   "source": [
    "What is the correlation between ob fuel and ob co2?"
   ]
  },
  {
   "cell_type": "code",
   "execution_count": null,
   "id": "3a2ba0f4-4c3d-46e1-80b9-dc9218c816ea",
   "metadata": {},
   "outputs": [],
   "source": []
  },
  {
   "cell_type": "markdown",
   "id": "e400c0b0-0a84-421b-a194-a89596eeea7e",
   "metadata": {},
   "source": [
    "### Data Manipulation"
   ]
  },
  {
   "cell_type": "markdown",
   "id": "35370504-c0ec-4fd6-a586-5fc3cd1555e4",
   "metadata": {},
   "source": [
    "This section covers subsetting data and finding values. First we want to look at how to subset if rows equal specific values, here we are just looking at KIA cars. We use loc[] and set the column with the values we care about equal to that value."
   ]
  },
  {
   "cell_type": "code",
   "execution_count": null,
   "id": "2e9685bc-d33c-4818-a513-f018ca8c66fc",
   "metadata": {},
   "outputs": [],
   "source": [
    "df.loc[df['company'] == \"KIA\"]"
   ]
  },
  {
   "cell_type": "markdown",
   "id": "34283c20-c52b-44e8-a075-1a9203a6defe",
   "metadata": {},
   "source": [
    "This gives us three listings for KIA. We can also make that a new dataset if we want."
   ]
  },
  {
   "cell_type": "code",
   "execution_count": null,
   "id": "148a1db4-9f9d-469e-9832-5d1f8e161ea7",
   "metadata": {},
   "outputs": [],
   "source": [
    "kiaDF = df.loc[df['company'] == \"KIA\"]\n",
    "kiaDF"
   ]
  },
  {
   "cell_type": "markdown",
   "id": "a476cb0f-9df7-4e75-86d4-ee9ee3aa3711",
   "metadata": {},
   "source": [
    "We can also combine conditions. Use & for and. Use | for or. Be sure to isolate your conditions inside () to avoid confusion and errors."
   ]
  },
  {
   "cell_type": "code",
   "execution_count": null,
   "id": "597a6ede-61fc-42c8-b6af-b645a6fb788f",
   "metadata": {},
   "outputs": [],
   "source": [
    "newDF = df.loc[(df['company'] == \"KIA\") | (df['company'] == \"VOLVO\")]\n",
    "newDF"
   ]
  },
  {
   "cell_type": "markdown",
   "id": "90a8e09d-0ed5-4e17-af06-a2225d83a9f2",
   "metadata": {},
   "source": [
    "Similarly, we can subset for values greater than or less than something. Here I am going to put the median ob co2 as my criteria and look at those cars that are higher than the median ob co2."
   ]
  },
  {
   "cell_type": "code",
   "execution_count": null,
   "id": "dd17bd58-9c61-428e-97a3-bda50b390efa",
   "metadata": {},
   "outputs": [],
   "source": [
    "highCO2 = df.loc[df['ob co2'] > 200]\n",
    "highCO2"
   ]
  },
  {
   "cell_type": "code",
   "execution_count": null,
   "id": "31cbaa07-8dad-4386-aabb-50e383507b46",
   "metadata": {},
   "outputs": [],
   "source": [
    "highCO2 = df.loc[df['ob co2'] > df['ob co2'].median()]\n",
    "print(len(highCO2))"
   ]
  },
  {
   "cell_type": "code",
   "execution_count": null,
   "id": "156e342c-15c6-4109-a9a4-06def243b834",
   "metadata": {},
   "outputs": [],
   "source": [
    "highCO2"
   ]
  },
  {
   "cell_type": "markdown",
   "id": "9f5da22f-d5d8-489d-8173-ce02b8439bf2",
   "metadata": {},
   "source": [
    "Another common task is figuring out where the maximum or minimum values are for columns. We can use idxmax() and idxmin() to get the index position of these."
   ]
  },
  {
   "cell_type": "code",
   "execution_count": null,
   "id": "671559d8-ce04-4d5f-99e5-958fab8c196e",
   "metadata": {},
   "outputs": [],
   "source": [
    "df['gap co2'].idxmax()"
   ]
  },
  {
   "cell_type": "code",
   "execution_count": null,
   "id": "073800e9-39f1-435a-a289-21df9a202b05",
   "metadata": {},
   "outputs": [],
   "source": [
    "df['gap co2'].idxmin()"
   ]
  },
  {
   "cell_type": "markdown",
   "id": "b13847ff-c603-4a23-a88d-8d37ed2c7bc8",
   "metadata": {},
   "source": [
    "What this tells us is that row 74 (the 73 index position since they start at 0) has the highest gap in co2 measurements and row 59 has the lowest. That is nice but not super helpful. We can use loc like we did above to isolate the actual number."
   ]
  },
  {
   "cell_type": "code",
   "execution_count": null,
   "id": "7c8f3917-5269-44a3-96b4-08e01e73cb3e",
   "metadata": {},
   "outputs": [],
   "source": [
    "df.loc[df['gap co2'].idxmax(),'gap co2']"
   ]
  },
  {
   "cell_type": "code",
   "execution_count": null,
   "id": "a4b6ce6c-db9f-43e0-b4f0-e02b744216ea",
   "metadata": {},
   "outputs": [],
   "source": [
    "df.loc[df['gap co2'].idxmin(),'gap co2']"
   ]
  },
  {
   "cell_type": "markdown",
   "id": "a1e3563a-3716-45ce-aa67-b407b937f641",
   "metadata": {},
   "source": [
    "We can also use this to subset the data for what row has this value by putting in the row (73) in df.loc[]."
   ]
  },
  {
   "cell_type": "code",
   "execution_count": null,
   "id": "5df26d8b-61df-4e7a-9995-b49949610691",
   "metadata": {},
   "outputs": [],
   "source": [
    "df.loc[73]"
   ]
  },
  {
   "cell_type": "markdown",
   "id": "99c6e9ce-705b-4133-9f0b-ed13f750f9c6",
   "metadata": {},
   "source": [
    "Finally, we can subset to just some columns. If we just want one column, simply do a subset like we have been."
   ]
  },
  {
   "cell_type": "code",
   "execution_count": null,
   "id": "3cb8e48c-697e-4116-ab14-bcbc8c71c7d4",
   "metadata": {},
   "outputs": [],
   "source": [
    "df2 = df['company']\n",
    "df2"
   ]
  },
  {
   "cell_type": "markdown",
   "id": "ddd65a78-571c-417b-913d-2ac036583592",
   "metadata": {},
   "source": [
    "If you want more than one, you will need to subset a *list* of columns like so."
   ]
  },
  {
   "cell_type": "code",
   "execution_count": null,
   "id": "7e0d06f8-8cd3-483b-a2b3-dc1eea56793c",
   "metadata": {},
   "outputs": [],
   "source": [
    "df3 = df[['company','number']]\n",
    "df3"
   ]
  },
  {
   "cell_type": "markdown",
   "id": "1d476f31-0660-4579-8c9b-22723bc183d4",
   "metadata": {},
   "source": [
    "#### Practice"
   ]
  },
  {
   "cell_type": "markdown",
   "id": "67f44288-947d-4041-89db-f7ca4a298a1e",
   "metadata": {},
   "source": [
    "Look at the results for Ford cars in the data. You may need to look at value_counts to see how Ford is listed in the dataset."
   ]
  },
  {
   "cell_type": "code",
   "execution_count": null,
   "id": "5347c504-0dda-4f56-9cf1-78b62dd3fdfa",
   "metadata": {},
   "outputs": [],
   "source": []
  },
  {
   "cell_type": "markdown",
   "id": "fba40f22-caa8-416d-9fa9-7a94beaf36b9",
   "metadata": {},
   "source": [
    "Create a new dataset for just Volvo cars."
   ]
  },
  {
   "cell_type": "code",
   "execution_count": null,
   "id": "abfa7034-cb6f-4e11-9ec8-f893dfd37043",
   "metadata": {},
   "outputs": [],
   "source": []
  },
  {
   "cell_type": "markdown",
   "id": "e84d6aa0-94bd-4251-9954-b7d39527a761",
   "metadata": {},
   "source": [
    "Create a new dataset for just diesel cars."
   ]
  },
  {
   "cell_type": "code",
   "execution_count": null,
   "id": "5bd026ac-3ea3-4ffe-ae86-1ca28675a9a6",
   "metadata": {},
   "outputs": [],
   "source": []
  },
  {
   "cell_type": "markdown",
   "id": "07f9ec41-b7e5-4aba-a7d7-06014a202474",
   "metadata": {},
   "source": [
    "What is the median onboard (ob) fuel economy for PETROL/ELECTRIC vehicles? There are a few different ways to do this."
   ]
  },
  {
   "cell_type": "code",
   "execution_count": null,
   "id": "9d656eab-7afe-40ca-9a8d-d75c188c1791",
   "metadata": {},
   "outputs": [],
   "source": []
  },
  {
   "cell_type": "markdown",
   "id": "0aff09ef-b631-4e8d-875d-6348658adf2d",
   "metadata": {},
   "source": [
    "What row has the smallest gap in fuel economy?"
   ]
  },
  {
   "cell_type": "code",
   "execution_count": null,
   "id": "af806df5-4e32-48dd-9ece-8be970d75339",
   "metadata": {},
   "outputs": [],
   "source": []
  },
  {
   "cell_type": "markdown",
   "id": "b9664012-c21f-4061-8e8c-c9192f545f14",
   "metadata": {},
   "source": [
    "What company is this?"
   ]
  },
  {
   "cell_type": "code",
   "execution_count": null,
   "id": "b2b8609a-6ec9-49bf-aaba-a5b5aa81f43c",
   "metadata": {},
   "outputs": [],
   "source": []
  },
  {
   "cell_type": "markdown",
   "id": "27f4e030-b755-4737-9be5-4ad916e58a54",
   "metadata": {
    "tags": []
   },
   "source": [
    "### Basic Data Handling with Pandas"
   ]
  },
  {
   "cell_type": "markdown",
   "id": "fa687927-5c35-4036-bed0-d788038ff82c",
   "metadata": {},
   "source": [
    "We are going to use a new dataset to look at some additional things that might come up in your own work. This is basketball contracts from Basketball-Reference: https://www.basketball-reference.com/contracts/players.html"
   ]
  },
  {
   "cell_type": "code",
   "execution_count": null,
   "id": "c69dac13-c505-47bc-90ab-b335b0bbbf1e",
   "metadata": {},
   "outputs": [],
   "source": [
    "import pandas as pd\n",
    "df = pd.read_csv('salaries.csv')\n",
    "df.head()"
   ]
  },
  {
   "cell_type": "markdown",
   "id": "861a1c4a-290d-452f-aef5-5b240b49b58b",
   "metadata": {},
   "source": [
    "We can also get a list of the columns in the dataframe."
   ]
  },
  {
   "cell_type": "code",
   "execution_count": null,
   "id": "aef218bf-43b2-47ec-8660-4cb7f27e3d88",
   "metadata": {},
   "outputs": [],
   "source": [
    "for i in df:\n",
    "    print(i)"
   ]
  },
  {
   "cell_type": "code",
   "execution_count": null,
   "id": "03c25aa9-a719-4e0c-94ca-9d11a59febca",
   "metadata": {
    "scrolled": true
   },
   "outputs": [],
   "source": [
    "df.info()"
   ]
  },
  {
   "cell_type": "markdown",
   "id": "0ec11d6d-dd1f-4b72-be12-4044a2f0abcd",
   "metadata": {},
   "source": [
    "Looking at the info we see that almost all of the columns are objects, meaning text. That doesn't really help us for doing any sort of quantitative analysis.\n",
    "\n",
    "We are going to convert the text in these columns to numbers. First we are going to do it for one column. We need to remove both the $ and the , from the contract values. To do so, we are going to use str.replace and then make the strong a float."
   ]
  },
  {
   "cell_type": "code",
   "execution_count": null,
   "id": "f97dbe88-db27-44fb-a676-5a48067314dc",
   "metadata": {},
   "outputs": [],
   "source": [
    "df['2023-24'] = df['2023-24'].str.replace('$', '').str.replace(',', '').astype(float)\n",
    "df"
   ]
  },
  {
   "cell_type": "markdown",
   "id": "370c1fa6-abf1-4a4f-a222-7095d8de60ff",
   "metadata": {},
   "source": [
    "That was useful, but we have more columns to do. If we think of our columns as a list, we could then use a for loop to automate the process."
   ]
  },
  {
   "cell_type": "code",
   "execution_count": null,
   "id": "7a5c4284",
   "metadata": {},
   "outputs": [],
   "source": [
    "salary_cols = ['2024-25', '2025-26', '2026-27', '2027-28', '2028-29']\n",
    "for col in salary_cols:\n",
    "    df[col] = df[col].str.replace('$', '').str.replace(',', '').astype(float)\n",
    "df.head()\n"
   ]
  },
  {
   "cell_type": "markdown",
   "id": "591fbef3-9fea-4d10-a707-40f020db1c58",
   "metadata": {},
   "source": [
    "Let's say we don't like the way our columns are named right now. We can replace those names with new ones either by making a new dataframe or by replacing them in the existing one."
   ]
  },
  {
   "cell_type": "code",
   "execution_count": null,
   "id": "bad48e1d-74ea-4f63-a09e-eb241452d2cf",
   "metadata": {},
   "outputs": [],
   "source": [
    "df2 = df.rename(columns={'2023-24': '2023', '2024-25': '2024'})\n",
    "df2\n"
   ]
  },
  {
   "cell_type": "code",
   "execution_count": null,
   "id": "dbe217ea-8930-4b05-8a2f-0eef6d184d46",
   "metadata": {},
   "outputs": [],
   "source": [
    "df.rename(columns={'2023-24': '2023', '2024-25': '2024'}, inplace=True)\n",
    "df"
   ]
  },
  {
   "cell_type": "markdown",
   "id": "31a80452-19ee-4e17-86ca-c173e6cde582",
   "metadata": {},
   "source": [
    "We are going to start over with a fresh dataset for the next steps."
   ]
  },
  {
   "cell_type": "code",
   "execution_count": null,
   "id": "c4c13edf-c0bf-47e2-99b2-993869f410bd",
   "metadata": {},
   "outputs": [],
   "source": [
    "df = pd.read_csv('salaries.csv')\n",
    "salary_cols = ['2023-24','2024-25', '2025-26', '2026-27', '2027-28', '2028-29']\n",
    "for col in salary_cols:\n",
    "    df[col] = df[col].str.replace('$', '').str.replace(',', '').astype(float)\n",
    "df.head()\n"
   ]
  },
  {
   "cell_type": "markdown",
   "id": "507d4b8b-d868-4107-a44a-f1489d7b27eb",
   "metadata": {},
   "source": [
    "So now we can use describe and get detailed stats about our columns. Yours may appear with scientific notation. That might not be what you want, like here."
   ]
  },
  {
   "cell_type": "code",
   "execution_count": null,
   "id": "193a107a-1e07-47fd-85b2-5cba05c03ada",
   "metadata": {},
   "outputs": [],
   "source": [
    "df.describe()"
   ]
  },
  {
   "cell_type": "markdown",
   "id": "73195cf6-ed99-4145-ad2e-95af48b9e8a1",
   "metadata": {},
   "source": [
    "To fix that, we set options inside of pandas using the code below. You don't strictly need to know what its components are, you can just copy and paste it as needed (that is what I do)."
   ]
  },
  {
   "cell_type": "code",
   "execution_count": null,
   "id": "a0675aa6-ab0d-42c5-910d-7d526a1fd86e",
   "metadata": {},
   "outputs": [],
   "source": [
    "pd.set_option('display.float_format', lambda x: '%.2f' % x)\n"
   ]
  },
  {
   "cell_type": "markdown",
   "id": "ac4b9184-549e-4959-b941-b3c42c4b77ad",
   "metadata": {},
   "source": [
    "So let's try that again."
   ]
  },
  {
   "cell_type": "code",
   "execution_count": null,
   "id": "4cc08256-44ea-4463-86b5-f4d0107277fb",
   "metadata": {},
   "outputs": [],
   "source": [
    "df.describe()"
   ]
  },
  {
   "cell_type": "markdown",
   "id": "f30fc0b0-63fb-470b-807c-5608cfc42921",
   "metadata": {},
   "source": [
    "What about the mean salary for 2023-24? Here we are adding some text and then the maximum for this year's salaries."
   ]
  },
  {
   "cell_type": "code",
   "execution_count": null,
   "id": "43343007",
   "metadata": {
    "scrolled": true,
    "tags": []
   },
   "outputs": [],
   "source": [
    "print(\"Highest salary for 2023-24:\", df['2023-24'].max())"
   ]
  },
  {
   "cell_type": "markdown",
   "id": "9b620afc-b6c3-451f-b7e3-0c8d30153ab8",
   "metadata": {},
   "source": [
    "What is the average salary for each season? This code is a little different because we use an f-string in our print. An f-string allows you to put a variable or object inside of a {}. We can then use our for loop to print our answers."
   ]
  },
  {
   "cell_type": "code",
   "execution_count": null,
   "id": "d55335d5-772e-4020-bd95-0f26aa639261",
   "metadata": {},
   "outputs": [],
   "source": [
    "salary_cols = ['2023-24', '2024-25', '2025-26', '2026-27', '2027-28', '2028-29']\n",
    "for col in salary_cols:\n",
    "    print(f\"Average salary for {col}:\",round(df[col].mean()))"
   ]
  },
  {
   "cell_type": "markdown",
   "id": "7f6e9868-6dad-4f6a-901a-887a6397bd1b",
   "metadata": {
    "tags": []
   },
   "source": [
    "#### Practice"
   ]
  },
  {
   "cell_type": "markdown",
   "id": "b5113254-0dac-4e01-8091-5db14e6186a2",
   "metadata": {},
   "source": [
    "Import the salaries csv file again so it is fresh."
   ]
  },
  {
   "cell_type": "code",
   "execution_count": null,
   "id": "0f78cfe5-ef17-4f2a-8c83-5f5a98d0a7b0",
   "metadata": {},
   "outputs": [],
   "source": []
  },
  {
   "cell_type": "markdown",
   "id": "56ed4728-bac2-49ce-b8a3-81a82d7e8c5f",
   "metadata": {},
   "source": [
    "How many players have contracts with each team? As in, how many times does each team appear in the data?"
   ]
  },
  {
   "cell_type": "code",
   "execution_count": null,
   "id": "0514161a-408c-44e8-8dbf-42f8b3052225",
   "metadata": {},
   "outputs": [],
   "source": []
  },
  {
   "cell_type": "markdown",
   "id": "57ab6f1c-4844-4b7a-8eb6-106cbebd6a67",
   "metadata": {},
   "source": [
    "Run this code."
   ]
  },
  {
   "cell_type": "code",
   "execution_count": null,
   "id": "0486c2f5-2be2-4fe8-bb6e-f2844a35bdc9",
   "metadata": {},
   "outputs": [],
   "source": [
    "salary_cols = ['2024-25', '2025-26', '2026-27', '2027-28', '2028-29']\n",
    "for col in salary_cols:\n",
    "    df[col] = df[col].str.replace('$', '').str.replace(',', '').astype(float)"
   ]
  },
  {
   "cell_type": "markdown",
   "id": "e2f6d0f8-11bb-4450-b3f0-1911cba9ef8d",
   "metadata": {},
   "source": [
    "What is the mean salary in 2025-26?"
   ]
  },
  {
   "cell_type": "code",
   "execution_count": null,
   "id": "fc8021e0-83cd-4f4b-9838-8fe3f7cf738c",
   "metadata": {},
   "outputs": [],
   "source": []
  },
  {
   "cell_type": "markdown",
   "id": "bd836ec8-b928-421a-b602-d6060e3d1ffb",
   "metadata": {},
   "source": [
    "Who has the highest guaranteed salary?"
   ]
  },
  {
   "cell_type": "code",
   "execution_count": null,
   "id": "3a4817e6-c514-438b-bac4-a46bd5c7abd7",
   "metadata": {},
   "outputs": [],
   "source": []
  },
  {
   "cell_type": "markdown",
   "id": "f03ed065-9147-4715-a08d-8eae4a8206ae",
   "metadata": {},
   "source": [
    "Tricky: create a new data frame that is just Rk, Player, Tm, Guaranteed. Hint, you will use a list to subset."
   ]
  },
  {
   "cell_type": "code",
   "execution_count": null,
   "id": "57d41ff3-653c-4373-9c5a-b4a471ed8c4e",
   "metadata": {},
   "outputs": [],
   "source": []
  },
  {
   "cell_type": "markdown",
   "id": "8585338b-3582-4259-907f-d5bafb2715df",
   "metadata": {},
   "source": [
    "### Merging Data"
   ]
  },
  {
   "cell_type": "markdown",
   "id": "247defcb-a5ff-42f4-9919-b7d138552a9d",
   "metadata": {},
   "source": [
    "Merging data is an incredibly common thing you will need to do when working with data. Python handles this in a variety of ways depending on how you need to merge. It is important that you understanding if you need a many to one, many to many, inner join, outer join, etc."
   ]
  },
  {
   "cell_type": "markdown",
   "id": "82217996-e538-4846-9596-6b1d15ec201b",
   "metadata": {},
   "source": [
    "This example is a many to one, as in merging observations that share a common variable."
   ]
  },
  {
   "cell_type": "code",
   "execution_count": null,
   "id": "096281d9-bc29-48c9-afcc-e6875ad988cf",
   "metadata": {},
   "outputs": [],
   "source": [
    "import pandas as pd\n",
    "df1 = pd.DataFrame({'key': ['a1','a2','a3','b1','b2','b3'], 'data1': range(6)})\n",
    "df1"
   ]
  },
  {
   "cell_type": "code",
   "execution_count": null,
   "id": "fe0b6024-612a-466b-99ce-5133cb6ff181",
   "metadata": {},
   "outputs": [],
   "source": [
    "df2 = pd.DataFrame({'key': ['a1','b1','b2'], 'data2': range(3)})\n",
    "df2"
   ]
  },
  {
   "cell_type": "code",
   "execution_count": null,
   "id": "9e3bf92f-9146-40df-b63d-15606aaca5f6",
   "metadata": {},
   "outputs": [],
   "source": [
    "df = pd.merge(df1,df2)\n",
    "df"
   ]
  },
  {
   "cell_type": "markdown",
   "id": "b831018d-398e-4bbb-a49a-f822bd21a7e2",
   "metadata": {},
   "source": [
    "Another example"
   ]
  },
  {
   "cell_type": "code",
   "execution_count": null,
   "id": "9fd1a727-32e5-48d1-9b9b-37c7c3280f44",
   "metadata": {},
   "outputs": [],
   "source": [
    "df1 = pd.DataFrame({'key': ['var1','var2','var23','var4'], 'data1': range(4)})\n",
    "df1"
   ]
  },
  {
   "cell_type": "code",
   "execution_count": null,
   "id": "243d4014-4fd6-477e-86db-a1e3a1df0881",
   "metadata": {},
   "outputs": [],
   "source": [
    "df2 = pd.DataFrame({'key': ['var1','var3','var16'], 'data2': ['tree','hat',12]})\n",
    "df2"
   ]
  },
  {
   "cell_type": "code",
   "execution_count": null,
   "id": "9a5696a1-e037-410a-99b7-deae388068f0",
   "metadata": {},
   "outputs": [],
   "source": [
    "df = pd.merge(df1,df2)\n",
    "df"
   ]
  },
  {
   "cell_type": "markdown",
   "id": "0cbdecfe-1c36-4772-a33a-e0fd6482f1e2",
   "metadata": {},
   "source": [
    "Python defaults to using a commonly shared column to merge if there is one. Above the commonly shared columns were key. If there isn't, you will get an error."
   ]
  },
  {
   "cell_type": "code",
   "execution_count": null,
   "id": "3c6e9ca1-d85a-4073-b3c9-caf0b2891fe3",
   "metadata": {},
   "outputs": [],
   "source": [
    "df3 = pd.DataFrame({'lkey': ['a1','a2','a3','b1','b2','b3','c1'], 'data1': range(7)})\n",
    "df4 = pd.DataFrame({'rkey': ['a1','b2','c1'], 'data2': range(3)})"
   ]
  },
  {
   "cell_type": "code",
   "execution_count": null,
   "id": "e5908156-2a89-4e96-9ac7-3e09488ade6c",
   "metadata": {
    "tags": []
   },
   "outputs": [],
   "source": [
    "pd.merge(df3,df4, on = 'key')"
   ]
  },
  {
   "cell_type": "markdown",
   "id": "6af9db49-c5df-47b3-8b89-03fd46d10f39",
   "metadata": {},
   "source": [
    "The way to deal with this is to specify which column you want to merge on. left is the first df specified, right is the second."
   ]
  },
  {
   "cell_type": "code",
   "execution_count": null,
   "id": "9502f694-4a4a-40b1-a21c-d1bf62470a49",
   "metadata": {},
   "outputs": [],
   "source": [
    "pd.merge(df3,df4, left_on = 'lkey', right_on='rkey')"
   ]
  },
  {
   "cell_type": "markdown",
   "id": "06c98247-57ca-49be-ab38-4697757e5a31",
   "metadata": {},
   "source": [
    "Another example."
   ]
  },
  {
   "cell_type": "code",
   "execution_count": null,
   "id": "c8fe060e-5fcd-4681-bd35-9c33492fee5d",
   "metadata": {},
   "outputs": [],
   "source": [
    "df5 = pd.DataFrame({'lkey': [16,15,65,'b1',12,'b3',99], 'data1': range(7)})\n",
    "df6 = pd.DataFrame({'rkey': [16,'b1','c1'], 'data2': range(3)})\n",
    "print(df5)\n",
    "print(df6)"
   ]
  },
  {
   "cell_type": "code",
   "execution_count": null,
   "id": "f68944dd-69ec-40ee-aafb-910d56d3e25a",
   "metadata": {},
   "outputs": [],
   "source": [
    "pd.merge(df5,df6, left_on = 'lkey', right_on='rkey')"
   ]
  },
  {
   "cell_type": "markdown",
   "id": "c01d47e2-c1f1-4c6b-9894-0f076b758ab8",
   "metadata": {},
   "source": [
    "What we have been doing are inner joins. That means we lose non-shared data. We can specify as outer to include all variables."
   ]
  },
  {
   "cell_type": "code",
   "execution_count": null,
   "id": "0f3d5e11-568c-404d-bd5c-a70052e20ee6",
   "metadata": {
    "tags": []
   },
   "outputs": [],
   "source": [
    "df3 = pd.DataFrame({'lkey': ['a1','a2','a3','b1','b2','b3','c1'], 'data1': range(7)})\n",
    "df4 = pd.DataFrame({'rkey': ['a1','b2','c1'], 'data2': range(3)})\n",
    "print(df3)\n",
    "print(df4)\n",
    "df5 = pd.merge(df3,df4, left_on = 'lkey', right_on='rkey', how = 'outer')\n",
    "df5"
   ]
  },
  {
   "cell_type": "markdown",
   "id": "33e400bc-8399-45c9-a0c1-7cad03d71b7b",
   "metadata": {},
   "source": [
    "We can also combine dataframes into one without merging observations. In order to do that, we need to have two dataframes and put them in a list. Then use concat on that list."
   ]
  },
  {
   "cell_type": "code",
   "execution_count": null,
   "id": "0abe5b5d-da69-4a62-bd2b-ecb492a2680a",
   "metadata": {},
   "outputs": [],
   "source": [
    "df1 = pd.DataFrame(\n",
    "    {\"A\": [\"A0\", \"A1\"],\n",
    "    \"B\": [\"B0\", \"B1\"],},\n",
    "    index=[0, 1],)\n",
    "\n",
    "df2 = pd.DataFrame(\n",
    "    {\"A\": [\"A4\", \"A5\"],\n",
    "     \"B\": [\"B4\", \"B5\"],},\n",
    "    index=[2, 3],)"
   ]
  },
  {
   "cell_type": "code",
   "execution_count": null,
   "id": "cfccbd27-5291-4ca9-a4c9-4e1ecd55921a",
   "metadata": {},
   "outputs": [],
   "source": [
    "df1"
   ]
  },
  {
   "cell_type": "code",
   "execution_count": null,
   "id": "f5dc5cb3-6d87-448a-88e8-4005f9f9b7e8",
   "metadata": {},
   "outputs": [],
   "source": [
    "df2"
   ]
  },
  {
   "cell_type": "code",
   "execution_count": null,
   "id": "00a895be-cb2a-422d-9073-c3f6343811a5",
   "metadata": {},
   "outputs": [],
   "source": [
    "mergelist = [df1,df2]\n",
    "mergelist"
   ]
  },
  {
   "cell_type": "code",
   "execution_count": null,
   "id": "5c57d154-47d1-4444-a33a-e43a43fe2523",
   "metadata": {
    "tags": []
   },
   "outputs": [],
   "source": [
    "pd.concat(mergelist)"
   ]
  },
  {
   "cell_type": "markdown",
   "id": "e7dd8337-5872-4dc2-9d3b-a16db9020f86",
   "metadata": {},
   "source": [
    "Another longer example"
   ]
  },
  {
   "cell_type": "code",
   "execution_count": null,
   "id": "359b1174-af9b-47a0-abe6-b9f99ae9bd16",
   "metadata": {},
   "outputs": [],
   "source": [
    "df1 = pd.DataFrame(\n",
    "    {\"A\": [\"A0\", \"A1\", \"A2\", \"A3\"],\n",
    "    \"B\": [\"B0\", \"B1\", \"B2\", \"B3\"],\n",
    "    \"C\": [\"C0\", \"C1\", \"C2\", \"C3\"],\n",
    "    \"D\": [\"D0\", \"D1\", \"D2\", \"D3\"],},\n",
    "    index=[0, 1, 2, 3],)\n",
    "\n",
    "df2 = pd.DataFrame(\n",
    "    {\"A\": [\"A4\", \"A5\", \"A6\", \"A7\"],\n",
    "     \"B\": [\"B4\", \"B5\", \"B6\", \"B7\"],\n",
    "     \"C\": [\"C4\", \"C5\", \"C6\", \"C7\"],\n",
    "     \"D\": [\"D4\", \"D5\", \"D6\", \"D7\"],},\n",
    "    index=[4, 5, 6, 7],)\n",
    "\n",
    "df3 = pd.DataFrame(\n",
    "    {\"A\": [\"A8\", \"A9\", \"A10\", \"A11\"],\n",
    "     \"B\": [\"B8\", \"B9\", \"B10\", \"B11\"],\n",
    "     \"C\": [\"C8\", \"C9\", \"C10\", \"C11\"],\n",
    "     \"D\": [\"D8\", \"D9\", \"D10\", \"D11\"],},\n",
    "    index=[8, 9, 10, 11],)\n",
    "\n",
    "frames = [df1, df2, df3]\n",
    "\n",
    "result = pd.concat(frames)\n",
    "result"
   ]
  },
  {
   "cell_type": "markdown",
   "id": "f24dc8da-bdaf-41f7-964a-ed62b539ba4e",
   "metadata": {},
   "source": [
    "#### Practice"
   ]
  },
  {
   "cell_type": "markdown",
   "id": "f7d84f46-f2d4-401e-abf5-904c029ae4bd",
   "metadata": {},
   "source": [
    "Merge these datasets using an inner join."
   ]
  },
  {
   "cell_type": "code",
   "execution_count": null,
   "id": "ef9b797e-cee4-464a-a0ee-c0e244a6a280",
   "metadata": {},
   "outputs": [],
   "source": [
    "df1 = pd.DataFrame({'key': ['hat','tree','sing','var4'], 'data1': range(4)})\n",
    "df2 = pd.DataFrame({'key': ['pecans','var2','tree','var4'], 'data1': range(4)})\n"
   ]
  },
  {
   "cell_type": "markdown",
   "id": "11a65e60-2306-4acc-91d5-a6f07aa73bd4",
   "metadata": {},
   "source": [
    "Merge these datasets using an outer join."
   ]
  },
  {
   "cell_type": "code",
   "execution_count": null,
   "id": "9654b553-1a0d-47d6-bec4-0e0f93894999",
   "metadata": {},
   "outputs": [],
   "source": [
    "df1 = pd.DataFrame({'key1': ['hat','tree','sing','var4'], 'data1': range(4)})\n",
    "df2 = pd.DataFrame({'key': ['pecans','var2','tree','var4'], 'data1': range(4)})\n"
   ]
  },
  {
   "cell_type": "markdown",
   "id": "c13c8d5f-3491-487b-b352-1b60e289e390",
   "metadata": {},
   "source": [
    "Concatenate these two datasets."
   ]
  },
  {
   "cell_type": "code",
   "execution_count": null,
   "id": "12e66bc0-2703-4706-aa0b-ee433d3c5905",
   "metadata": {},
   "outputs": [],
   "source": [
    "df1 = pd.DataFrame({'key1': ['hat','tree','sing','var4'], 'data1': range(4)})\n",
    "df2 = pd.DataFrame({'key': ['pecans','var2','tree','var4'], 'data1': range(4)})\n"
   ]
  },
  {
   "cell_type": "markdown",
   "id": "6da8299d-d6b7-46b5-939c-b12a41ccd6a8",
   "metadata": {},
   "source": [
    "### Grouping"
   ]
  },
  {
   "cell_type": "markdown",
   "id": "95c0d1e0-f2c1-414b-b8eb-7080c5c715a0",
   "metadata": {},
   "source": [
    "Another common tool we use is grouping, as in grouping by values in a column. First read in our dataset for NBA salaries and fix the columns."
   ]
  },
  {
   "cell_type": "code",
   "execution_count": null,
   "id": "a8306d14-3293-43c9-a44d-d78c9da9a202",
   "metadata": {},
   "outputs": [],
   "source": [
    "import pandas as pd\n",
    "df = pd.read_csv('salaries.csv')\n",
    "salary_cols = ['2023-24','2024-25', '2025-26', '2026-27', '2027-28', '2028-29','Guaranteed']\n",
    "for col in salary_cols:\n",
    "    df[col] = df[col].str.replace('$', '').str.replace(',', '').astype(float)\n",
    "df.head()"
   ]
  },
  {
   "cell_type": "markdown",
   "id": "dfaac1c3-b138-4eee-85b5-d0f3a43f0f42",
   "metadata": {},
   "source": [
    "Grouping involves some combination of splitting the data, applying a funtion to that smaller data, and then looking at the results. Here we are going to look at our dataframe grouped by the team for the current season."
   ]
  },
  {
   "cell_type": "code",
   "execution_count": null,
   "id": "5bdc5909-69cf-4bae-80fd-d6ac79e7ead5",
   "metadata": {},
   "outputs": [],
   "source": [
    "grouped = df.groupby('Tm')['2023-24'].mean()\n",
    "\n",
    "print(grouped)"
   ]
  },
  {
   "cell_type": "markdown",
   "id": "5fa19141-4dc8-4454-8cc6-ff0a679cc028",
   "metadata": {},
   "source": [
    "Another example. Guaranteed money by team."
   ]
  },
  {
   "cell_type": "code",
   "execution_count": null,
   "id": "9429a8ba-0dcb-40fa-b0f1-cc616ea18b78",
   "metadata": {},
   "outputs": [],
   "source": [
    "total_guaranteed = df.groupby('Tm')['Guaranteed'].sum()\n",
    "print(total_guaranteed)"
   ]
  },
  {
   "cell_type": "markdown",
   "id": "533de481-a558-4def-96ff-481f74da7aad",
   "metadata": {},
   "source": [
    "Or number of players"
   ]
  },
  {
   "cell_type": "code",
   "execution_count": null,
   "id": "d2438681-38e0-4850-b696-08d9fd010a99",
   "metadata": {},
   "outputs": [],
   "source": [
    "player_counts = df.groupby('Tm')['Player'].count()\n",
    "print(player_counts)"
   ]
  },
  {
   "cell_type": "markdown",
   "id": "d694a61e-609a-4966-a48c-c4670f353e50",
   "metadata": {},
   "source": [
    "#### Modeling in Python\n",
    "We are going to do a little basic modeling in Python using regression. First we need a package to run our OLS."
   ]
  },
  {
   "cell_type": "code",
   "execution_count": null,
   "id": "8e9ca915-e88c-4e52-9df2-5b7858ebf197",
   "metadata": {},
   "outputs": [],
   "source": [
    "import statsmodels.formula.api as smf\n",
    "import pandas as pd"
   ]
  },
  {
   "cell_type": "code",
   "execution_count": null,
   "id": "47dd1fca-9eea-4047-82d5-41b4c8e54628",
   "metadata": {},
   "outputs": [],
   "source": [
    "df = pd.read_csv('sav.csv', sep = ',', dtype={0:'int'})\n",
    "df.head()"
   ]
  },
  {
   "cell_type": "code",
   "execution_count": null,
   "id": "d301d7b9-36a9-4184-ac2d-37d3b59eb38e",
   "metadata": {},
   "outputs": [],
   "source": [
    "df.mask(df==99, inplace=True)\n",
    "df.tail()"
   ]
  },
  {
   "cell_type": "markdown",
   "id": "e658f45a-29fd-4faf-9b37-7cabb7435b42",
   "metadata": {},
   "source": [
    "We will use smf.ols() to run our regression. The code is pretty similar to what you might use in R. You specify your DV as predicted (using ~) by your IV(s). Then you specify which dataframe you want the model to pull from."
   ]
  },
  {
   "cell_type": "code",
   "execution_count": null,
   "id": "9cd57ab5-7e1a-4269-8049-2ada0a64af22",
   "metadata": {},
   "outputs": [],
   "source": [
    "smf.ols('payatt ~ changemind + seepol', data=df).fit().summary()"
   ]
  },
  {
   "cell_type": "code",
   "execution_count": null,
   "id": "daf25590-3936-44fb-9427-851043599582",
   "metadata": {},
   "outputs": [],
   "source": [
    "results = smf.ols('payatt ~ changemind + seepol', data=df).fit()\n",
    "results.summary()"
   ]
  },
  {
   "cell_type": "markdown",
   "id": "5ebc060e-cfa0-484d-a32f-2c7dad652244",
   "metadata": {},
   "source": [
    "We can also save our results and output them. The code for this is a little complicated, but all you really need to change is the file name and extension (summary.txt/csv/etc.)"
   ]
  },
  {
   "cell_type": "code",
   "execution_count": null,
   "id": "2dd7c41b-1053-4372-ba46-10b1d673fa67",
   "metadata": {},
   "outputs": [],
   "source": [
    "with open('summary.txt', 'w') as fh:\n",
    "    fh.write(results.summary().as_text())"
   ]
  },
  {
   "cell_type": "code",
   "execution_count": null,
   "id": "c1df6ba7-51fa-49e4-b7fb-572c765210c6",
   "metadata": {},
   "outputs": [],
   "source": [
    "with open('summary.csv', 'w') as fh:\n",
    "    fh.write(results.summary().as_csv())"
   ]
  },
  {
   "cell_type": "markdown",
   "id": "f309c94f-f47b-465c-a738-a41fc6dfbf4e",
   "metadata": {},
   "source": [
    "### Plotting"
   ]
  },
  {
   "cell_type": "markdown",
   "id": "83cc9f91-91d3-4af2-9d51-cbb544a7193c",
   "metadata": {},
   "source": [
    "We will use matplotlib to plot some of our data. There is a LOT you can do here, so we are going to talk about the basics to get you started.\n",
    "\n",
    "We are going to use some example data to start and show the basics of plotting and changing labels. The example data is strictly to show what a plot looks like and its syntax, don't worry too much about how we made it."
   ]
  },
  {
   "cell_type": "code",
   "execution_count": null,
   "id": "e90abef8-c4dd-4b81-a95a-79d4e4adf4b5",
   "metadata": {},
   "outputs": [],
   "source": [
    "import matplotlib.pyplot as plt\n",
    "import numpy as np\n",
    "\n",
    "x = np.linspace(0, 3, 100)  # Sample data. 100 roughly evenly spaced observations between 0 and 3\n",
    "x"
   ]
  },
  {
   "cell_type": "code",
   "execution_count": null,
   "id": "2012fa78-0805-4f16-9920-d9e7ed8667f4",
   "metadata": {},
   "outputs": [],
   "source": [
    "y = np.linspace(2, 5, 100) \n",
    "y"
   ]
  },
  {
   "cell_type": "markdown",
   "id": "921e0ac8-2f24-4a83-9ee4-4daeccf7db51",
   "metadata": {},
   "source": [
    "Now that we have our x and y, we use plt.plot() to plot them"
   ]
  },
  {
   "cell_type": "code",
   "execution_count": null,
   "id": "439bdb73-67e8-4c91-8a03-470ffc28366e",
   "metadata": {},
   "outputs": [],
   "source": [
    "plt.plot(x, y)"
   ]
  },
  {
   "cell_type": "markdown",
   "id": "9486c781-1fbc-4ffd-84a1-1e8c2d1a93d9",
   "metadata": {},
   "source": [
    "That is a pretty basic graphic. We can start to add more to it if we want. First a legend. It requires the plot to have a label and then plt.legend() to create the legend."
   ]
  },
  {
   "cell_type": "code",
   "execution_count": null,
   "id": "98b32fc4-e7b1-430a-9ddb-ffac421639b7",
   "metadata": {},
   "outputs": [],
   "source": [
    "plt.plot(x, x, label='linear')\n",
    "plt.legend()"
   ]
  },
  {
   "cell_type": "markdown",
   "id": "743a0a2f-1c1e-4b4c-80af-682a6b5a406b",
   "metadata": {},
   "source": [
    "Next we can add a title."
   ]
  },
  {
   "cell_type": "code",
   "execution_count": null,
   "id": "bea9713c-9a69-4a55-8dd3-6d994bdb664c",
   "metadata": {},
   "outputs": [],
   "source": [
    "plt.plot(x, x, label='linear')\n",
    "plt.title(\"Simple Plot Title\")"
   ]
  },
  {
   "cell_type": "markdown",
   "id": "8adeced3-bc63-4504-af6a-a68f438c1436",
   "metadata": {},
   "source": [
    "And x and y axis labels."
   ]
  },
  {
   "cell_type": "code",
   "execution_count": null,
   "id": "051a2fa6-54e3-4e99-8672-48d2a307a339",
   "metadata": {},
   "outputs": [],
   "source": [
    "plt.plot(x, x, label='linear')\n",
    "plt.xlabel('x label')\n",
    "plt.ylabel('y label')\n",
    "plt.title(\"Simple Plot Title\")"
   ]
  },
  {
   "cell_type": "markdown",
   "id": "660c1c5b-c67b-4526-9131-1188d20338b3",
   "metadata": {},
   "source": [
    "We can also add more plots to our image"
   ]
  },
  {
   "cell_type": "code",
   "execution_count": null,
   "id": "5674d171-dd56-4657-8af7-0478ff5154aa",
   "metadata": {},
   "outputs": [],
   "source": [
    "plt.plot(x, x, label='linear')\n",
    "plt.plot(x, x**2, label='quadratic')\n",
    "plt.plot(x, x**3, label='cubic')"
   ]
  },
  {
   "cell_type": "markdown",
   "id": "2100d104-f1cc-4ba9-b0bd-156393cea1a7",
   "metadata": {},
   "source": [
    "Putting it all together. We also add figure which allows us to edit and save the object as well as plt.show which is not strictly necessary here but is a good habit to get into."
   ]
  },
  {
   "cell_type": "code",
   "execution_count": null,
   "id": "ec46705d-5737-4b2a-b8e3-a3c04330b5c3",
   "metadata": {},
   "outputs": [],
   "source": [
    "plt.figure(figsize=(8, 4), layout='constrained')\n",
    "plt.plot(x, x, label='linear')\n",
    "plt.plot(x, x**2, label='quadratic')\n",
    "plt.plot(x, x**3, label='cubic')\n",
    "plt.xlabel('x label')\n",
    "plt.ylabel('y label')\n",
    "plt.title(\"Simple Plot Title\")\n",
    "plt.legend()\n",
    "plt.show()"
   ]
  },
  {
   "cell_type": "markdown",
   "id": "8cc3b7ff-8a91-47b7-8ad5-9c5d8705c253",
   "metadata": {},
   "source": [
    "More plotting by changing the markers"
   ]
  },
  {
   "cell_type": "code",
   "execution_count": null,
   "id": "5e514db9-b2bc-469b-882c-e0b3fe689420",
   "metadata": {},
   "outputs": [],
   "source": [
    "x = np.random.randint(1, 300, size=200)\n",
    "\n",
    "plt.figure(figsize=(8, 4), layout='constrained')\n",
    "plt.plot(x, 'o')\n",
    "plt.show()"
   ]
  },
  {
   "cell_type": "markdown",
   "id": "704133c8-9f70-4d09-8078-57bdb82f5b45",
   "metadata": {},
   "source": [
    "Practice by changing the marker by using any of these: https://matplotlib.org/stable/api/markers_api.html\n",
    "\n",
    "For a challenge, also change the color to something from here: https://matplotlib.org/2.1.1/api/_as_gen/matplotlib.pyplot.plot.html"
   ]
  },
  {
   "cell_type": "code",
   "execution_count": null,
   "id": "ecfc6eb9-c74f-4ca9-be88-000022b72c65",
   "metadata": {},
   "outputs": [],
   "source": [
    "x = np.linspace(0,600)\n",
    "y = np.linspace(0,1500)\n",
    "\n",
    "plt.figure(figsize=(8, 4), layout='constrained')\n",
    "plt.plot(x,y, \"b--\")\n",
    "plt.show()"
   ]
  },
  {
   "cell_type": "markdown",
   "id": "6dcd1272-6e7a-471a-9c17-1f0c3f12b789",
   "metadata": {},
   "source": [
    "#### Practice"
   ]
  },
  {
   "cell_type": "markdown",
   "id": "fa4f117c-902a-40ae-b402-82f5b85f5237",
   "metadata": {},
   "source": [
    "Run this code"
   ]
  },
  {
   "cell_type": "code",
   "execution_count": null,
   "id": "92825ecd-0342-4ae2-a2ec-f18907a75ca2",
   "metadata": {},
   "outputs": [],
   "source": [
    "df = pd.read_csv('sav.csv', sep = ',', dtype={0:'int'})\n",
    "df.mask(df==99, inplace=True)\n",
    "df.head()"
   ]
  },
  {
   "cell_type": "markdown",
   "id": "07da01fc-cef7-413e-bba0-926cdc31ca93",
   "metadata": {},
   "source": [
    "Plot payatt as x and change mind as y."
   ]
  },
  {
   "cell_type": "code",
   "execution_count": null,
   "id": "917b51c7-2a01-4772-ae7e-4ac6087398ac",
   "metadata": {},
   "outputs": [],
   "source": []
  },
  {
   "cell_type": "markdown",
   "id": "4d3a3372-b22c-4a71-9306-8721137bf057",
   "metadata": {},
   "source": [
    "Create a new column that is payatt plus changemind plus seepol plus engagepol all divided by 4."
   ]
  },
  {
   "cell_type": "code",
   "execution_count": null,
   "id": "689befa3-4ce6-42ea-b1b6-41303fd582c2",
   "metadata": {},
   "outputs": [],
   "source": []
  },
  {
   "cell_type": "markdown",
   "id": "d3740ac6-fc6f-4f80-ad88-20a3cd35e3b4",
   "metadata": {},
   "source": [
    "Plot seepol as x and engagepol as y. Then add your new column as x and payatt as y. Add a title. Add x and y labels and a legend."
   ]
  },
  {
   "cell_type": "code",
   "execution_count": null,
   "id": "a1fb6160-a8ff-4a39-93a3-f21cc7b10fe8",
   "metadata": {},
   "outputs": [],
   "source": []
  },
  {
   "cell_type": "markdown",
   "id": "e28e5fa5-4bd4-43d7-ab18-7868720aff25",
   "metadata": {},
   "source": [
    "#### More Plotting\n",
    "This is a histogram"
   ]
  },
  {
   "cell_type": "code",
   "execution_count": null,
   "id": "8af2d9ec-7df6-4427-b5e4-15a204b9382a",
   "metadata": {},
   "outputs": [],
   "source": [
    "plt.hist(df['payatt'])\n",
    "plt.show()"
   ]
  },
  {
   "cell_type": "markdown",
   "id": "2f099bc3-8f8c-409c-9537-c5216074a94c",
   "metadata": {},
   "source": [
    "Categorical plotting involes plotting the values of not strictly numeric data."
   ]
  },
  {
   "cell_type": "code",
   "execution_count": null,
   "id": "594fb609-4421-4980-ae0c-52e5510cda99",
   "metadata": {},
   "outputs": [],
   "source": [
    "names = ['group_a', 'group_b', 'group_c']\n",
    "values = [1, 10, 100]"
   ]
  },
  {
   "cell_type": "markdown",
   "id": "6330b91a-6fb6-45ff-a098-05a26465e8ce",
   "metadata": {},
   "source": [
    "This is a barplot"
   ]
  },
  {
   "cell_type": "code",
   "execution_count": null,
   "id": "8b02cb88-a745-41e8-be54-47743277cb7e",
   "metadata": {
    "tags": []
   },
   "outputs": [],
   "source": [
    "plt.figure(figsize=(9, 3))\n",
    "plt.bar(names,values)\n",
    "plt.show()"
   ]
  },
  {
   "cell_type": "markdown",
   "id": "bbaeeea9-bef2-490d-8a62-1dadaf55204a",
   "metadata": {},
   "source": [
    "A scatter plot (also used for numerica data)"
   ]
  },
  {
   "cell_type": "code",
   "execution_count": null,
   "id": "45364e4c-9aaa-41ba-8711-7cf095d96fbb",
   "metadata": {},
   "outputs": [],
   "source": [
    "plt.scatter(names, values)"
   ]
  },
  {
   "cell_type": "markdown",
   "id": "d1e83288-c22d-427a-b6ff-9bf8fe73c616",
   "metadata": {},
   "source": [
    "A line plot"
   ]
  },
  {
   "cell_type": "code",
   "execution_count": null,
   "id": "dd23b113-5bab-47a9-a704-ad8ca80266fd",
   "metadata": {},
   "outputs": [],
   "source": [
    "plt.plot(names, values)"
   ]
  },
  {
   "cell_type": "markdown",
   "id": "4c6fbdac-8109-442e-ae6e-14b17fbe744b",
   "metadata": {},
   "source": [
    "#### Plotting salaries"
   ]
  },
  {
   "cell_type": "markdown",
   "id": "212feea6-da52-4ee6-899c-5475833d25a4",
   "metadata": {},
   "source": [
    "We are going to bring back in our salary data and replace the $ and , in it"
   ]
  },
  {
   "cell_type": "code",
   "execution_count": null,
   "id": "46c2b5a3-932f-4c3c-b9b7-5c9b6b926b12",
   "metadata": {},
   "outputs": [],
   "source": [
    "import matplotlib.pyplot as plt\n",
    "import pandas as pd"
   ]
  },
  {
   "cell_type": "code",
   "execution_count": null,
   "id": "5207234c-1a6f-43e9-873f-1a43f72f4f20",
   "metadata": {},
   "outputs": [],
   "source": [
    "df = pd.read_csv('salaries.csv')\n",
    "salary_cols = ['2023-24','2024-25', '2025-26', '2026-27', '2027-28', '2028-29']\n",
    "for col in salary_cols:\n",
    "    df[col] = df[col].str.replace('$', '').str.replace(',', '').astype(float)\n",
    "df.head()"
   ]
  },
  {
   "cell_type": "markdown",
   "id": "88306d93-1d43-467e-aad3-110980b12ee1",
   "metadata": {},
   "source": [
    "Let's look at average salaries per season. Here we are using the same salary_cols as before. I am going to show an alternative way of doing a for loop. This is different and can be tricky so we won't spend much time on it, but it is the same as for i in xxxx."
   ]
  },
  {
   "cell_type": "code",
   "execution_count": null,
   "id": "44cbaf35-05db-4330-805c-bc965cfbb9b1",
   "metadata": {},
   "outputs": [],
   "source": [
    "salary_cols = ['2023-24','2024-25', '2025-26', '2026-27', '2027-28', '2028-29']\n",
    "\n",
    "average_salaries = [df[col].dropna().mean() for col in salary_cols]\n",
    "average_salaries"
   ]
  },
  {
   "cell_type": "markdown",
   "id": "a83c4ba5-fbc8-4e2c-ad3f-cb0e9e810b75",
   "metadata": {},
   "source": [
    "Now we plot."
   ]
  },
  {
   "cell_type": "code",
   "execution_count": null,
   "id": "def58de1-b6ed-4e8b-bc9e-b2356c8bcc0c",
   "metadata": {},
   "outputs": [],
   "source": [
    "plt.figure(figsize=(10, 5))\n",
    "plt.plot(salary_cols, average_salaries, marker='o')\n",
    "plt.title('Average NBA Salary Per Season')\n",
    "plt.xlabel('Season')\n",
    "plt.ylabel('Average Salary ($)')\n",
    "plt.grid(True)\n",
    "plt.show()"
   ]
  },
  {
   "cell_type": "markdown",
   "id": "c471a8aa-58a7-4031-9ea9-1a6fbbbc1a1f",
   "metadata": {},
   "source": [
    "Now we want to calculate the total salary commitments per team for the 2023-24 season. We did this above so it is just repetition."
   ]
  },
  {
   "cell_type": "code",
   "execution_count": null,
   "id": "74f805c5-f35c-49e7-b0ec-985830a239fc",
   "metadata": {},
   "outputs": [],
   "source": [
    "total_salaries = df.groupby('Tm')['2023-24'].sum()\n",
    "print(total_salaries)"
   ]
  },
  {
   "cell_type": "markdown",
   "id": "02455975-4ba8-47fd-acfa-36b547228206",
   "metadata": {},
   "source": [
    "But now we know that we can plot it. This is a slightly different code that creates a barplot from our grouped data."
   ]
  },
  {
   "cell_type": "code",
   "execution_count": null,
   "id": "39b3611f",
   "metadata": {},
   "outputs": [],
   "source": [
    "total_salaries.plot(kind='bar')\n",
    "plt.title('Total Salaries per Team for 2023-24')\n",
    "plt.xlabel('Team')\n",
    "plt.ylabel('Total Salary ($)')\n",
    "plt.show()"
   ]
  },
  {
   "cell_type": "markdown",
   "id": "5ae16429-b90f-4ed1-bf88-e0e3d37d72dd",
   "metadata": {},
   "source": [
    "Or what about per year?"
   ]
  },
  {
   "cell_type": "code",
   "execution_count": null,
   "id": "ef2b1036",
   "metadata": {},
   "outputs": [],
   "source": [
    "average_salaries_2023 = df.groupby('Tm')['2023-24'].mean()\n",
    "\n",
    "average_salaries_2023.plot(kind='bar', title='Average Salary per Team for 2023-24', figsize=(10, 5))\n",
    "plt.xlabel('Team')\n",
    "plt.ylabel('Average Salary ($)')\n",
    "plt.show()\n"
   ]
  },
  {
   "cell_type": "markdown",
   "id": "df14b14a-0ea9-41ee-a83d-88b0a38f781c",
   "metadata": {},
   "source": [
    "Or potentially all years?"
   ]
  },
  {
   "cell_type": "code",
   "execution_count": null,
   "id": "2ea54124-2487-4006-a405-10992907c556",
   "metadata": {},
   "outputs": [],
   "source": [
    "as23 = df.groupby('Tm')['2023-24'].mean()\n",
    "as24 = df.groupby('Tm')['2024-25'].mean()\n",
    "as25 = df.groupby('Tm')['2025-26'].mean()\n",
    "as26 = df.groupby('Tm')['2026-27'].mean()\n",
    "as27 = df.groupby('Tm')['2027-28'].mean()\n",
    "as28 = df.groupby('Tm')['2028-29'].mean()"
   ]
  },
  {
   "cell_type": "markdown",
   "id": "3fcae6d3-b743-41ce-9c8a-56f6cb48c31a",
   "metadata": {},
   "source": [
    "This next set is rather complicated so we will take it in steps.\n",
    "\n",
    "First we create our figure. We are familiar with figsize, but we are also adding plt.subplots(2,3). This tells pythong to make a plot with 2 rows and 3 columns.\n",
    "\n",
    "Next we create each plot using the axs (or axis) command and then the bar plot call from earlier. We use the as23.index as our x and as23 as our height (and so on).\n",
    "\n",
    "The axs positons are row and column. So row 0, column 0 - 1 - 2, then row 1, column 0 - 1 - 1.\n",
    "\n",
    "The last line changes the rotation of the x axis labels"
   ]
  },
  {
   "cell_type": "code",
   "execution_count": null,
   "id": "8993f5f9-974d-45ca-9da1-76721e244bf1",
   "metadata": {},
   "outputs": [],
   "source": [
    "fig, axs = plt.subplots(2, 3, figsize=(28, 21))\n",
    "\n",
    "axs[0, 0].bar(as23.index, as23)\n",
    "axs[0, 0].set_title('2023-24')\n",
    "axs[0, 0].set_xticklabels(as23.index, rotation=90)\n",
    "\n",
    "axs[0, 1].bar(as24.index, as24)\n",
    "axs[0, 1].set_title('2024-25')\n",
    "axs[0, 1].set_xticklabels(as24.index, rotation=90)\n",
    "\n",
    "axs[0, 2].bar(as25.index, as25)\n",
    "axs[0, 2].set_title('2025-26')\n",
    "axs[0, 2].set_xticklabels(as25.index, rotation=90)\n",
    "\n",
    "axs[1, 0].bar(as26.index, as26)\n",
    "axs[1, 0].set_title('2026-27')\n",
    "axs[1, 0].set_xticklabels(as26.index, rotation=90)\n",
    "\n",
    "axs[1, 1].bar(as27.index, as27)\n",
    "axs[1, 1].set_title('2027-28')\n",
    "axs[1, 1].set_xticklabels(as27.index, rotation=90)\n",
    "\n",
    "axs[1, 2].bar(as28.index, as28)\n",
    "axs[1, 2].set_title('2028-29')\n",
    "axs[1, 2].set_xticklabels(as28.index, rotation=90)\n",
    "plt.show()\n"
   ]
  },
  {
   "cell_type": "markdown",
   "id": "7ab70dd8-852d-427a-93c3-33174e064014",
   "metadata": {},
   "source": [
    "Saving our plots. First we are creating some fake data here."
   ]
  },
  {
   "cell_type": "code",
   "execution_count": null,
   "id": "b21f8e37-7284-42c1-b2e9-01f87e7a79f4",
   "metadata": {},
   "outputs": [],
   "source": [
    "import numpy as np\n",
    "rng = np.random.default_rng(1234)\n",
    "\n",
    "x = rng.uniform(0, 10, size=100)\n",
    "y = x + rng.normal(size=100)"
   ]
  },
  {
   "cell_type": "markdown",
   "id": "9e64141a-d809-4869-ba52-a766b5a1f080",
   "metadata": {},
   "source": [
    "Then we are going to make a regression line. The code below will give us our m, x, and b values. We use xseq to represent the linear nature of the x variable here."
   ]
  },
  {
   "cell_type": "code",
   "execution_count": null,
   "id": "92a04934-93cf-4528-8cd0-0539933e9e08",
   "metadata": {},
   "outputs": [],
   "source": [
    "m, b = np.polyfit(x, y, deg=1)\n",
    "xseq = np.linspace(0, 10, num=100)"
   ]
  },
  {
   "cell_type": "code",
   "execution_count": null,
   "id": "56ec0b2d-05d7-448f-a796-e98f5f8a33c9",
   "metadata": {},
   "outputs": [],
   "source": [
    "plt.figure(figsize=(8, 4), layout='constrained')\n",
    "plt.scatter(x, y)\n",
    "plt.plot(xseq, b + m * xseq, color=\"k\", lw=2.5)\n",
    "plt.savefig('squares.pdf')"
   ]
  },
  {
   "cell_type": "markdown",
   "id": "f7601b30-8737-4a7a-9092-1e3ce3f38861",
   "metadata": {},
   "source": [
    "### Text Examples"
   ]
  },
  {
   "cell_type": "markdown",
   "id": "43b0228c-686f-444f-aa05-5a8bc3abcedb",
   "metadata": {},
   "source": [
    "There is so much we can do with text. This is a mild taste of it. We are going to bring in four packages, pandas, matplotlib, and statsmodels we have used before, and re is a new one."
   ]
  },
  {
   "cell_type": "code",
   "execution_count": null,
   "id": "a8b077c9-f811-4098-9b6c-78732fa0f9c0",
   "metadata": {
    "tags": []
   },
   "outputs": [],
   "source": [
    "import re\n",
    "import statsmodels.formula.api as smf\n",
    "import pandas as pd\n",
    "import matplotlib.pyplot as plt"
   ]
  },
  {
   "cell_type": "markdown",
   "id": "921b7741-904a-4b27-b9a0-9a25d5e234e4",
   "metadata": {},
   "source": [
    "We are looking at transcripts for States of the Union from 1790 - 2018. They are already downloaded and in the folder. Data is from Brian Weinstein https://github.com/BrianWeinstein/state-of-the-union"
   ]
  },
  {
   "cell_type": "code",
   "execution_count": null,
   "id": "aa31ed48-7a2b-45f0-812e-b3188fe2b128",
   "metadata": {},
   "outputs": [],
   "source": [
    "df = pd.read_csv('transcripts.csv', sep = ',') \n",
    "df.head()"
   ]
  },
  {
   "cell_type": "markdown",
   "id": "c83abddd-9312-4cec-919d-b6ebfe179392",
   "metadata": {},
   "source": [
    "Look at how often presidents appear in the dataset."
   ]
  },
  {
   "cell_type": "code",
   "execution_count": null,
   "id": "03c60308-d322-400d-a8db-5ac0d67278dc",
   "metadata": {
    "tags": []
   },
   "outputs": [],
   "source": [
    "df['president'].value_counts()"
   ]
  },
  {
   "cell_type": "markdown",
   "id": "c32344c4-2200-420f-af5a-7ff89fbe67f1",
   "metadata": {},
   "source": [
    "This lets us count how many times the word apple appears in each speech. str.count looks for the word in the text (in this case the column transcript) and counts each instance of it. It is case-sensitive so we should lower case our transcripts."
   ]
  },
  {
   "cell_type": "code",
   "execution_count": null,
   "id": "e25f7cda-5043-4d18-8259-83b4cef499b8",
   "metadata": {},
   "outputs": [],
   "source": [
    "df['lower'] = df['transcript'].str.lower()"
   ]
  },
  {
   "cell_type": "code",
   "execution_count": null,
   "id": "6fff25ad-f9ec-46da-a5b6-1024ae975fa6",
   "metadata": {},
   "outputs": [],
   "source": [
    "df['count'] = df['lower'].str.count('apple')\n",
    "df.head()"
   ]
  },
  {
   "cell_type": "code",
   "execution_count": null,
   "id": "005463ac-9d11-47af-9522-c0723a3a909a",
   "metadata": {},
   "outputs": [],
   "source": [
    "df['count'].value_counts()"
   ]
  },
  {
   "cell_type": "markdown",
   "id": "7e378f40-42d9-40b0-9a9a-4c5bcab49720",
   "metadata": {},
   "source": [
    "This tells us that in 230 speeches the word apple is not used. It is used twice in 13 of them and once in one of them."
   ]
  },
  {
   "cell_type": "markdown",
   "id": "01d1fc52-760a-4737-b62c-53ba91b3e3aa",
   "metadata": {
    "tags": []
   },
   "source": [
    "We can build a loop that does the same thing but for any number of words. This is a very basic code for dictionary based processing.\n",
    "\n",
    "First we create an empty column, which will be where we put our counts for each individual word added together."
   ]
  },
  {
   "cell_type": "code",
   "execution_count": null,
   "id": "1d58cbd5-15d7-4755-a07b-28a0fa444625",
   "metadata": {},
   "outputs": [],
   "source": [
    "americaWords = ['freedom','liberty','rights','america',\"military\"]\n",
    "\n",
    "df['words'] = 0\n",
    "\n",
    "for i in americaWords:\n",
    "    df['words'] = df['lower'].str.count(i) + df['words']\n",
    "df.head()"
   ]
  },
  {
   "cell_type": "code",
   "execution_count": null,
   "id": "2535b68b-3d18-4c3e-ab99-fa172baaeb59",
   "metadata": {},
   "outputs": [],
   "source": [
    "df['words'].value_counts()"
   ]
  },
  {
   "cell_type": "markdown",
   "id": "d677457e-afc4-4351-9a65-58e3a5106d39",
   "metadata": {},
   "source": [
    "Let's plot what we see."
   ]
  },
  {
   "cell_type": "code",
   "execution_count": null,
   "id": "b2b4a969-5bcf-488b-a154-35d83a925fe5",
   "metadata": {},
   "outputs": [],
   "source": [
    "plt.hist(df['words'])\n",
    "plt.show()"
   ]
  },
  {
   "cell_type": "code",
   "execution_count": null,
   "id": "0d79b91b-3733-4b0b-929c-8662018962e5",
   "metadata": {},
   "outputs": [],
   "source": [
    "plt.hist(df['words'])\n",
    "plt.xlabel('American Words')\n",
    "plt.ylabel('Counts')\n",
    "plt.title(\"American Words in SOTU Addresses\")\n",
    "plt.show()"
   ]
  },
  {
   "cell_type": "markdown",
   "id": "d0f615fc-2146-4544-a7fa-92dce2090db3",
   "metadata": {},
   "source": [
    "We can now run some models to see which president uses those words the most. We put president inside of a C() to indicate a categorical variable."
   ]
  },
  {
   "cell_type": "code",
   "execution_count": null,
   "id": "5378879a-e0d1-4b66-b912-ec54066bd5ce",
   "metadata": {},
   "outputs": [],
   "source": [
    "results = smf.ols('words ~ C(president)', data=df).fit()\n",
    "print(results.summary())"
   ]
  },
  {
   "cell_type": "markdown",
   "id": "58e94ab7-86f4-4798-bcf3-c77abbcce424",
   "metadata": {},
   "source": [
    "While that is interesting, that may not be super useful because speeches vary in length. Let's check the proportion of America words in each speech. First we need to get the word counts for each."
   ]
  },
  {
   "cell_type": "code",
   "execution_count": null,
   "id": "ceb1ad3c-687d-45d5-981a-2dc54b598fa6",
   "metadata": {},
   "outputs": [],
   "source": [
    "df['wc'] = df['lower'].str.split().str.len()\n",
    "df.head()"
   ]
  },
  {
   "cell_type": "markdown",
   "id": "626d0548-a9e4-4cca-af01-03860dd39ec9",
   "metadata": {},
   "source": [
    "Then divide America words by the total number of words."
   ]
  },
  {
   "cell_type": "code",
   "execution_count": null,
   "id": "23d3ef93-33a8-456c-82ea-e548984d4cd2",
   "metadata": {},
   "outputs": [],
   "source": [
    "df['americaProp'] = df['words']/df['wc']\n",
    "df.head()"
   ]
  },
  {
   "cell_type": "code",
   "execution_count": null,
   "id": "f197eeac-02b3-4701-a00b-e5b3c1df3d60",
   "metadata": {},
   "outputs": [],
   "source": [
    "df['americaProp'].value_counts()"
   ]
  },
  {
   "cell_type": "markdown",
   "id": "c2fe99f3-6eab-40ce-9f9c-4411164d0e25",
   "metadata": {},
   "source": [
    "New results."
   ]
  },
  {
   "cell_type": "code",
   "execution_count": null,
   "id": "251bf23a-7029-4c8e-aada-ca170ba4796d",
   "metadata": {},
   "outputs": [],
   "source": [
    "results = smf.ols('americaProp ~ C(president)', data=df).fit()\n",
    "print(results.summary())"
   ]
  },
  {
   "cell_type": "markdown",
   "id": "debc360f-43c5-42be-bd00-8333b117ca94",
   "metadata": {},
   "source": [
    "That is pretty exciting! We can also think about year, has our proportion increased year over year? There are a few ways to do this. The first is easy because we know the list is in sequential order. We insert a range of 244 to 0 and use -1 as the 'step', or basically decrease the number by 1 each time."
   ]
  },
  {
   "cell_type": "code",
   "execution_count": null,
   "id": "59d96cb3-5a1a-45d8-ae0e-7ee2d1d2bd74",
   "metadata": {},
   "outputs": [],
   "source": [
    "df['order'] = range(244, 0, -1)\n",
    "df.tail()"
   ]
  },
  {
   "cell_type": "markdown",
   "id": "79996a59-acc5-4258-bcbf-58fe086363cc",
   "metadata": {},
   "source": [
    "Now we can use order as our independent variable on americaProp. We see that, overtime, there is an increase in the proportion of words that are part of our dictionary."
   ]
  },
  {
   "cell_type": "code",
   "execution_count": null,
   "id": "79be1e2c-323a-4f0a-b201-6e1469506b70",
   "metadata": {},
   "outputs": [],
   "source": [
    "results = smf.ols('americaProp ~ order', data=df).fit()\n",
    "print(results.summary())"
   ]
  },
  {
   "cell_type": "markdown",
   "id": "bce0951b-2c06-4743-8652-918382b354f7",
   "metadata": {},
   "source": [
    "We can also plot this. We see that around speech 150, there is a huge increase in the usage of these words in speeches."
   ]
  },
  {
   "cell_type": "code",
   "execution_count": null,
   "id": "d8894341-d3fe-4d28-8b28-1110abae7ff3",
   "metadata": {},
   "outputs": [],
   "source": [
    "plt.figure(figsize=(8, 4), layout='constrained')\n",
    "plt.plot(df['order'], df['americaProp'], label='americaProp')\n",
    "plt.xlabel('Speech Order')\n",
    "plt.ylabel('Proportion')\n",
    "plt.title(\"americaProp Over Time\")\n",
    "plt.legend()\n",
    "plt.show()"
   ]
  },
  {
   "cell_type": "markdown",
   "id": "d42c6deb-a232-4f71-ab78-98ff2348a892",
   "metadata": {},
   "source": [
    "What about if we don't know the order or if it is random across our data? Here we can use the date variable and pandas. First we set the \"date\" column to a datetime object. This is sort of like when we set strings, integers, or floats. Python and pandas will treat this as a date instead of just text."
   ]
  },
  {
   "cell_type": "code",
   "execution_count": null,
   "id": "3989fb48-2bff-45b3-b342-c1eb0cf44a06",
   "metadata": {
    "tags": []
   },
   "outputs": [],
   "source": [
    "df['date'] = pd.to_datetime(df['date'])\n",
    "df.head()"
   ]
  },
  {
   "cell_type": "markdown",
   "id": "d4df5f76-7f51-4078-953b-5a8b2623765b",
   "metadata": {},
   "source": [
    "Next we use pandas to strip out the year from the 'date' column. We set this as a new column called 'year'."
   ]
  },
  {
   "cell_type": "code",
   "execution_count": null,
   "id": "8cf9d31a-76a2-4b66-b1ca-966bb9f112fe",
   "metadata": {},
   "outputs": [],
   "source": [
    "df['year'] = df['date'].dt.year\n",
    "df.head()"
   ]
  },
  {
   "cell_type": "markdown",
   "id": "79c043ee-92c1-4c02-9fda-195bb466622b",
   "metadata": {},
   "source": [
    "Then we just run our regression using year. We will get slightly different results because multiple speeches can be made in a year."
   ]
  },
  {
   "cell_type": "code",
   "execution_count": null,
   "id": "8338dd20-d9ba-45ca-a275-4f12ce5493f8",
   "metadata": {},
   "outputs": [],
   "source": [
    "df['year'].value_counts()"
   ]
  },
  {
   "cell_type": "code",
   "execution_count": null,
   "id": "63b81acb-c01d-4953-9a1c-8214eaee140f",
   "metadata": {},
   "outputs": [],
   "source": [
    "results = smf.ols('americaProp ~ year', data=df).fit()\n",
    "print(results.summary())"
   ]
  },
  {
   "cell_type": "markdown",
   "id": "19c8e152-0e76-41b5-9158-0e8131b0a6cc",
   "metadata": {},
   "source": [
    "#### Practice"
   ]
  },
  {
   "cell_type": "markdown",
   "id": "e3112430-03e0-49e0-b383-9e44098027e9",
   "metadata": {},
   "source": [
    "Plot a line graph using year as the x and americaProp as the y."
   ]
  },
  {
   "cell_type": "code",
   "execution_count": null,
   "id": "ff36d5ff-3188-401a-b13f-3542e7ffb545",
   "metadata": {},
   "outputs": [],
   "source": []
  },
  {
   "cell_type": "markdown",
   "id": "5515c238-018d-4ff9-a0f6-0f93bdd30fda",
   "metadata": {},
   "source": [
    "How many times does the word \"debt\" appear in each transcript?"
   ]
  },
  {
   "cell_type": "code",
   "execution_count": null,
   "id": "19c286ef-eb98-4077-8a03-e6dffda66647",
   "metadata": {},
   "outputs": [],
   "source": []
  },
  {
   "cell_type": "markdown",
   "id": "3b18a7df-24d7-4c49-a338-1f99065759bb",
   "metadata": {},
   "source": [
    "Can you plot this number using a histogram?"
   ]
  },
  {
   "cell_type": "code",
   "execution_count": null,
   "id": "7724e0ef-c84d-4a74-9d0f-3a6c034b35d6",
   "metadata": {},
   "outputs": [],
   "source": []
  },
  {
   "cell_type": "markdown",
   "id": "d294990c-84e9-4b82-9a5e-38a52cd32266",
   "metadata": {},
   "source": [
    "Create a list of words you think might represent education. Write a loop to find them in the speeches."
   ]
  },
  {
   "cell_type": "code",
   "execution_count": null,
   "id": "37988f5f-62f1-4f44-ad61-7cc62d37620b",
   "metadata": {},
   "outputs": [],
   "source": []
  },
  {
   "cell_type": "markdown",
   "id": "176779ac-2e3c-4ec5-b953-8d6c664fc4d4",
   "metadata": {},
   "source": [
    "What president has the highest number of education words? You can do an extra challenge and use the proportion of their speech. This will require you to go back a bit and look at idxmax."
   ]
  },
  {
   "cell_type": "code",
   "execution_count": null,
   "id": "eef8173d-c43d-469d-9228-b1666fd53de8",
   "metadata": {},
   "outputs": [],
   "source": []
  },
  {
   "cell_type": "markdown",
   "id": "f743cdcd-6527-4eb8-a060-f3277f599f1d",
   "metadata": {},
   "source": [
    "#### More Text"
   ]
  },
  {
   "cell_type": "markdown",
   "id": "33117f36-4549-49eb-8180-da88c5d514c6",
   "metadata": {},
   "source": [
    "Next we are going to use prebuilt dictionaries, specifically the VADER sentiment dictionary. I don't believe we will need to install nltk, but if so the lines below it do."
   ]
  },
  {
   "cell_type": "code",
   "execution_count": null,
   "id": "4d673182-d6b0-45e3-aacb-7f63cdc3ff14",
   "metadata": {},
   "outputs": [],
   "source": [
    "#pip install nltk"
   ]
  },
  {
   "cell_type": "markdown",
   "id": "b212cd1d-7802-409e-82e4-8adf904591c3",
   "metadata": {},
   "source": [
    "What we absolutely have to do is download the vader_lexicon through nltk. First we import nltk and then use the download function inside it to downlaod vader."
   ]
  },
  {
   "cell_type": "code",
   "execution_count": null,
   "id": "62f02db2-53b0-41c3-b3c9-a2056f552c83",
   "metadata": {},
   "outputs": [],
   "source": [
    "import nltk\n",
    "nltk.download('vader_lexicon')"
   ]
  },
  {
   "cell_type": "markdown",
   "id": "2003722c-e4c9-43c9-95d7-a8475ccd520f",
   "metadata": {},
   "source": [
    "Next we are going to import from nltk the SentimentIntensityAnalyzer, then set it equal to sia because it is faster to type."
   ]
  },
  {
   "cell_type": "code",
   "execution_count": null,
   "id": "b1ab37d4-e1b7-4f50-80da-4cbbc0814695",
   "metadata": {
    "tags": []
   },
   "outputs": [],
   "source": [
    "from nltk.sentiment import SentimentIntensityAnalyzer\n",
    "sia = SentimentIntensityAnalyzer()"
   ]
  },
  {
   "cell_type": "markdown",
   "id": "03a62595-dc39-4050-bed6-cd019f295fcd",
   "metadata": {},
   "source": [
    "We are going to use the polarity score to see if a text is negative, neutral, or positive. The scores will come back for all three categories and collectively add up to 1. "
   ]
  },
  {
   "cell_type": "code",
   "execution_count": null,
   "id": "69808963-3b10-4572-9541-e8a47879f6c9",
   "metadata": {},
   "outputs": [],
   "source": [
    "sia.polarity_scores(\"This is a test of polarity.\")"
   ]
  },
  {
   "cell_type": "markdown",
   "id": "d4d7c285-eee8-4ec7-8772-39f9f01aae38",
   "metadata": {},
   "source": [
    "Let's try something more positive."
   ]
  },
  {
   "cell_type": "code",
   "execution_count": null,
   "id": "3a7db90f-b5dd-455d-b207-15892fa7c6f3",
   "metadata": {},
   "outputs": [],
   "source": [
    "sia.polarity_scores(\"The puppy was really nice!\")"
   ]
  },
  {
   "cell_type": "markdown",
   "id": "0f5e2d84-e0ad-484d-b689-4cd4a64dbe9a",
   "metadata": {},
   "source": [
    "Negative now."
   ]
  },
  {
   "cell_type": "code",
   "execution_count": null,
   "id": "e0b7292e-ff0d-4261-9365-c7931a666b58",
   "metadata": {},
   "outputs": [],
   "source": [
    "sia.polarity_scores(\"I hate my dumb laptop so much\")"
   ]
  },
  {
   "cell_type": "markdown",
   "id": "dd9cf68a-e954-450d-9048-6bc2af833553",
   "metadata": {},
   "source": [
    "Let's try it on song lyrics."
   ]
  },
  {
   "cell_type": "code",
   "execution_count": null,
   "id": "763d30a8-1a55-4988-a6a2-ac7c99240c16",
   "metadata": {},
   "outputs": [],
   "source": [
    "df = pd.read_csv(\"songs.csv\")\n",
    "df.head()"
   ]
  },
  {
   "cell_type": "code",
   "execution_count": null,
   "id": "3e25e17f-1d35-4db7-8fa3-4e0009040cc1",
   "metadata": {},
   "outputs": [],
   "source": [
    "len(df)"
   ]
  },
  {
   "cell_type": "code",
   "execution_count": null,
   "id": "9a33c3f2-2599-4b1d-8f6a-62e13d0fc408",
   "metadata": {},
   "outputs": [],
   "source": [
    "df['Artist'].value_counts()"
   ]
  },
  {
   "cell_type": "markdown",
   "id": "1a4bc582-c5e6-42e9-941a-76a8226bbbdc",
   "metadata": {},
   "source": [
    "The compound score is what we care about. It is a normalized score so it might look a little weird, but it is meant to try and show how negative or positive something is relative to all the words in it. More here: https://blog.quantinsti.com/vader-sentiment/\n",
    "\n",
    "What we are going to do is run our polarity scores on every row. That sounds perfect for a for loop. However, because polarity_scores is giving us a dictionar, we need to subset on the value of that dictionary (I told you they would come back to haunt you!)."
   ]
  },
  {
   "cell_type": "code",
   "execution_count": null,
   "id": "6a6b5307-1903-43d5-8912-6092170958ef",
   "metadata": {},
   "outputs": [],
   "source": [
    "sia.polarity_scores(df.loc[1,'Lyrics'])['compound']"
   ]
  },
  {
   "cell_type": "markdown",
   "id": "dc1702bf-eea6-4e9b-b0ae-4c3ac7cc901a",
   "metadata": {},
   "source": [
    "So now we just loop that entire process. We need to use index and enumerate here."
   ]
  },
  {
   "cell_type": "code",
   "execution_count": null,
   "id": "f8c64b9c-f155-4fa8-a34e-80967091d810",
   "metadata": {},
   "outputs": [],
   "source": [
    "for idx,i in enumerate(df['Lyrics']):\n",
    "    df.loc[idx,'sentiment'] = sia.polarity_scores(i)['compound']"
   ]
  },
  {
   "cell_type": "code",
   "execution_count": null,
   "id": "49a031de-695e-4327-9a66-eed98b31581c",
   "metadata": {},
   "outputs": [],
   "source": [
    "df.head()"
   ]
  },
  {
   "cell_type": "code",
   "execution_count": null,
   "id": "3483a4c3-d26a-4744-adda-0fd8ba7355b9",
   "metadata": {},
   "outputs": [],
   "source": [
    "df['sentiment'].value_counts()"
   ]
  },
  {
   "cell_type": "markdown",
   "id": "d17a4e09-a4ba-4beb-b326-01f8f4cb3179",
   "metadata": {},
   "source": [
    "We can plot this and see that most songs in our data are pretty happy."
   ]
  },
  {
   "cell_type": "code",
   "execution_count": null,
   "id": "4056e4f2-85a3-4ebe-80c1-b22afa3bbf4c",
   "metadata": {},
   "outputs": [],
   "source": [
    "plt.hist(df['sentiment'])"
   ]
  },
  {
   "cell_type": "markdown",
   "id": "bf8bb7ee-9d4c-4a9c-92bc-2a7033701a65",
   "metadata": {},
   "source": [
    "#### Practice"
   ]
  },
  {
   "cell_type": "markdown",
   "id": "b6430b87-368d-4a62-8194-a67ba94a88a4",
   "metadata": {},
   "source": [
    "Create a histogram of the artists in the dataset."
   ]
  },
  {
   "cell_type": "code",
   "execution_count": null,
   "id": "6b2dadee-d169-4b71-abfd-fb603eb6c6ef",
   "metadata": {},
   "outputs": [],
   "source": []
  },
  {
   "cell_type": "markdown",
   "id": "ead3d0c8-59bf-480f-a9ea-f870b715f6a0",
   "metadata": {},
   "source": [
    "Create a variable that is a word count for each song."
   ]
  },
  {
   "cell_type": "code",
   "execution_count": null,
   "id": "cb535a7c-f738-4f7a-ac1e-be7acc93e0cf",
   "metadata": {},
   "outputs": [],
   "source": []
  },
  {
   "cell_type": "markdown",
   "id": "8be562c5-d233-40e2-a13e-a25754bbcd28",
   "metadata": {},
   "source": [
    "What song has the most words?"
   ]
  },
  {
   "cell_type": "code",
   "execution_count": null,
   "id": "78334a10-fbb0-4d51-b5d2-3c553df34883",
   "metadata": {},
   "outputs": [],
   "source": []
  },
  {
   "cell_type": "markdown",
   "id": "f9460fc5-d11b-4436-8e08-13a4f50d105d",
   "metadata": {},
   "source": [
    "What is the relationship between word count and sentiment?"
   ]
  },
  {
   "cell_type": "code",
   "execution_count": null,
   "id": "a187d775-6d09-4c25-93e9-62e3b51afa40",
   "metadata": {},
   "outputs": [],
   "source": []
  },
  {
   "cell_type": "markdown",
   "id": "68d91b44-a2de-4e8d-b061-415495ae2d6d",
   "metadata": {},
   "source": [
    "Tricky: copying our compound code, this time create columns for negative, neutral, and positive. So you should have columns for all 4 polaritiy measures."
   ]
  },
  {
   "cell_type": "code",
   "execution_count": null,
   "id": "3c972e98-fe58-4736-a95c-17cebf3b61e1",
   "metadata": {},
   "outputs": [],
   "source": []
  },
  {
   "cell_type": "markdown",
   "id": "3bb3f522-93d5-4d74-a613-403721b00d39",
   "metadata": {},
   "source": [
    "### Recap Practice"
   ]
  },
  {
   "cell_type": "markdown",
   "id": "a2e84536-1465-42cd-8def-68827dbce22d",
   "metadata": {},
   "source": [
    "The recap is only one \"thing\", which is to work with the blackfaith dataset described below. This should touch on almost everything we covered today.\n",
    "\n",
    "There is a dataset called blackfaith and its corresponding codebook. Look through both and find some variables that you think might be related. Age, education, religiousity, income, for example.\n",
    "\n",
    "Read in the blackfaith dataset. Check to see if there are any values that you need to change to missing. Create at least one composite measure (adding together multiple columns). Develop at least one graphic. Run at least one model."
   ]
  },
  {
   "cell_type": "code",
   "execution_count": null,
   "id": "d45c9aab-2a7d-4d07-b8a4-84aa4e16eb9b",
   "metadata": {
    "tags": []
   },
   "outputs": [],
   "source": []
  }
 ],
 "metadata": {
  "kernelspec": {
   "display_name": "Python 3 (ipykernel)",
   "language": "python",
   "name": "python3"
  },
  "language_info": {
   "codemirror_mode": {
    "name": "ipython",
    "version": 3
   },
   "file_extension": ".py",
   "mimetype": "text/x-python",
   "name": "python",
   "nbconvert_exporter": "python",
   "pygments_lexer": "ipython3",
   "version": "3.10.9"
  }
 },
 "nbformat": 4,
 "nbformat_minor": 5
}
